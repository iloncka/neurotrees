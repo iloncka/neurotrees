{
 "cells": [
  {
   "cell_type": "code",
   "metadata": {
    "tags": [],
    "cell_id": "222c4668-20f4-445b-9151-5bb1f33d6b16",
    "deepnote_to_be_reexecuted": false,
    "source_hash": "55628aac",
    "execution_start": 1644955699317,
    "execution_millis": 5186,
    "deepnote_cell_type": "code"
   },
   "source": "import tensorflow as tf; \nprint(\" \".join(tf.sysconfig.get_compile_flags()))",
   "outputs": [
    {
     "name": "stdout",
     "text": "-I/shared-libs/python3.7/py/lib/python3.7/site-packages/tensorflow/include -D_GLIBCXX_USE_CXX11_ABI=0\n",
     "output_type": "stream"
    }
   ],
   "execution_count": null
  },
  {
   "cell_type": "code",
   "metadata": {
    "cell_id": "e3da8a04-a8ac-41f5-9ebc-1a4aa2210c76",
    "tags": [],
    "deepnote_to_be_reexecuted": false,
    "source_hash": "41fb9f82",
    "execution_start": 1644955704511,
    "execution_millis": 4,
    "deepnote_cell_type": "code"
   },
   "source": "print(\" \".join(tf.sysconfig.get_link_flags()))",
   "outputs": [
    {
     "name": "stdout",
     "text": "-L/shared-libs/python3.7/py/lib/python3.7/site-packages/tensorflow -l:libtensorflow_framework.so.2\n",
     "output_type": "stream"
    }
   ],
   "execution_count": null
  },
  {
   "cell_type": "code",
   "metadata": {
    "cell_id": "cf624aee-d369-418d-b620-8416272ea8bb",
    "tags": [],
    "deepnote_to_be_reexecuted": false,
    "source_hash": "ee3f2417",
    "execution_start": 1644955704566,
    "execution_millis": 16170,
    "deepnote_cell_type": "code"
   },
   "source": "!g++ -std=c++11 -shared google-research/tf_trees/neural_trees_ops.cc google-research/tf_trees/neural_trees_kernels.cc google-research/tf_trees/neural_trees_helpers.cc -o google-research/tf_trees/neural_trees_ops.so -fPIC -I/shared-libs/python3.7/py/lib/python3.7/site-packages/tensorflow/include -D_GLIBCXX_USE_CXX11_ABI=0 -L/shared-libs/python3.7/py/lib/python3.7/site-packages/tensorflow -l:libtensorflow_framework.so.2 -O2",
   "outputs": [],
   "execution_count": null
  },
  {
   "cell_type": "code",
   "metadata": {
    "cell_id": "3203a596-35db-468a-8327-ca7243147ddf",
    "tags": [],
    "deepnote_to_be_reexecuted": false,
    "source_hash": "a6c821ad",
    "execution_start": 1644955720746,
    "execution_millis": 2,
    "deepnote_cell_type": "code"
   },
   "source": "import sys\nsys.path.insert(1, '/work/neurotrees/articles code reproduction/TEL/google-research')",
   "outputs": [],
   "execution_count": null
  },
  {
   "cell_type": "code",
   "metadata": {
    "cell_id": "71f1c3f9-36b4-4f0b-b40d-1fe4986b5124",
    "tags": [],
    "deepnote_to_be_reexecuted": false,
    "source_hash": "d74c6911",
    "execution_start": 1644955720755,
    "execution_millis": 105,
    "deepnote_cell_type": "code"
   },
   "source": "from tensorflow import keras\nfrom tf_trees import TEL",
   "outputs": [],
   "execution_count": null
  },
  {
   "cell_type": "code",
   "metadata": {
    "cell_id": "ba7267e7-2cfe-4612-9183-cb51aec08bdc",
    "tags": [],
    "deepnote_to_be_reexecuted": false,
    "source_hash": "8ea822f2",
    "execution_start": 1644955720870,
    "execution_millis": 2,
    "deepnote_cell_type": "code"
   },
   "source": "print(TEL.__doc__)",
   "outputs": [
    {
     "name": "stdout",
     "text": "A custom layer containing additive differentiable decision trees.\n\n    Each tree in the layer is composed of splitting (internal) nodes and leaves.\n    A splitting node \"routes\" the samples left or right based on the\n    corresponding activation. Samples can be routed in a hard way (i.e., sent\n    to only one child) or in a soft way. The decision whether to hard or soft\n    route is controlled by the smooth_step_param (see details below).\n    The trees are modeled using smooth functions and can be optimized\n    using standard continuous optimization methods (e.g., SGD).\n\n    The layer can be combined with other Keras layers and can be used anywhere\n    in the neural net.\n\n    Attributes:\n      output_logits_dim: Dimension of the output.\n      trees_num: Number of trees in the layer.\n      depth: Depth of each tree.\n      smooth_step_param: A non-negative float. Larger values make the trees more\n        likely to hard route samples (i.e., samples reach fewer leaves). Values\n        >= 1 are recommended to exploit conditional computation. Note\n        smooth_step_param = 1/gamma, where gamma is the parameter defined in the\n        TEL paper.\n      sum_outputs: Boolean. If true, the outputs of the trees will be added,\n        leading to a 2D tensor of shape=[batch_size, output_logits_dim].\n        Otherwise, the tree outputs are not added and the layer output is a 2D\n        tensor of shape=[batch_size, trees_num * output_logits_dim].\n      parallelize_over_samples: Boolean, If true, parallelizes the updates over\n        the samples in the batch. Might lead to speedups when the number of\n        trees is small (at the cost of extra memory consumption).\n      split_initializer: A Keras initializer for the internal (splitting) nodes.\n      leaf_initializer: A Keras initializer for the leaves.\n      split_regularizer: A Keras regularizer for the internal (splitting) nodes.\n      leaf_regularizer: A Keras regularizer for the leaves.\n    Input shape: A tensor of shape=[batch_size, input_dim].\n    Output shape: A tensor of shape=[batch_size, output_logits_dim] if\n      sum_outputs=True. Otherwise, a tensor of shape=[batch_size, trees_num *\n      output_logits_dim].\n  \n",
     "output_type": "stream"
    }
   ],
   "execution_count": null
  },
  {
   "cell_type": "code",
   "source": " (x_train, y_train), (x_test, y_test) = tf.keras.datasets.boston_housing.load_data(\n    path=\"boston_housing.npz\", test_split=0.2, seed=113)\n",
   "metadata": {
    "cell_id": "9835c18f-2cb0-4511-8ca5-bef2add167d1",
    "tags": [],
    "deepnote_to_be_reexecuted": false,
    "source_hash": "4f82a79f",
    "execution_start": 1644955720881,
    "execution_millis": 131,
    "deepnote_output_heights": [
     156
    ],
    "deepnote_cell_type": "code"
   },
   "outputs": [
    {
     "name": "stdout",
     "text": "Downloading data from https://storage.googleapis.com/tensorflow/tf-keras-datasets/boston_housing.npz\n57344/57026 [==============================] - 0s 0us/step\n",
     "output_type": "stream"
    }
   ],
   "execution_count": null
  },
  {
   "cell_type": "code",
   "metadata": {
    "cell_id": "e5ab87ac-46f7-4b00-89cc-e9f7c4c49a76",
    "tags": [],
    "deepnote_to_be_reexecuted": false,
    "source_hash": "e6d4f483",
    "execution_start": 1644955759725,
    "execution_millis": 5,
    "deepnote_output_heights": [
     21
    ],
    "deepnote_cell_type": "code"
   },
   "source": "# Define the tree layer; here we choose 10 trees, each of depth 3.\n# Note output_logits_dim is the dimension of the tree output.\n# output_logits_dim = 1 in this case, but should be equal to the\n# number of classes if used as an output layer in a classification task.\ntree_layer = TEL(output_logits_dim=1, trees_num=10, depth=3)",
   "outputs": [],
   "execution_count": null
  },
  {
   "cell_type": "code",
   "source": "# Construct a sequential model with batch normalization and TEL.\nmodel = keras.Sequential()\nmodel.add(keras.layers.BatchNormalization())\nmodel.add(tree_layer)\n",
   "metadata": {
    "cell_id": "4378bdfd-a213-43fc-bc8d-12b22b09ae4b",
    "tags": [],
    "deepnote_to_be_reexecuted": false,
    "source_hash": "4512a04c",
    "execution_start": 1644955777006,
    "execution_millis": 670,
    "deepnote_cell_type": "code"
   },
   "outputs": [],
   "execution_count": null
  },
  {
   "cell_type": "code",
   "source": "# Fit a model with mse loss.\nmodel.compile(loss='mse', optimizer='adam', metrics=['mse'])\nresult = model.fit(\n    x_train, y_train, epochs=100, validation_data=(x_test, y_test))",
   "metadata": {
    "cell_id": "4eac8f4b-65f7-431e-b31b-5c0d6b76d5ca",
    "tags": [],
    "deepnote_to_be_reexecuted": false,
    "source_hash": "34a4d1d1",
    "execution_start": 1644955795102,
    "execution_millis": 11417,
    "deepnote_cell_type": "code"
   },
   "outputs": [
    {
     "name": "stdout",
     "text": "Epoch 1/100\n13/13 [==============================] - 3s 159ms/step - loss: 575.5848 - mse: 575.5848 - val_loss: 610.9261 - val_mse: 610.9261\nEpoch 2/100\n13/13 [==============================] - 0s 6ms/step - loss: 594.7120 - mse: 594.7120 - val_loss: 604.3417 - val_mse: 604.3417\nEpoch 3/100\n13/13 [==============================] - 0s 6ms/step - loss: 601.4915 - mse: 601.4915 - val_loss: 597.5856 - val_mse: 597.5856\nEpoch 4/100\n13/13 [==============================] - 0s 6ms/step - loss: 588.3030 - mse: 588.3030 - val_loss: 590.5938 - val_mse: 590.5938\nEpoch 5/100\n13/13 [==============================] - 0s 6ms/step - loss: 557.2237 - mse: 557.2237 - val_loss: 583.2466 - val_mse: 583.2466\nEpoch 6/100\n13/13 [==============================] - 0s 7ms/step - loss: 515.6876 - mse: 515.6876 - val_loss: 575.5804 - val_mse: 575.5804\nEpoch 7/100\n13/13 [==============================] - 0s 7ms/step - loss: 554.1725 - mse: 554.1725 - val_loss: 567.5500 - val_mse: 567.5500\nEpoch 8/100\n13/13 [==============================] - 0s 6ms/step - loss: 522.6069 - mse: 522.6069 - val_loss: 559.4977 - val_mse: 559.4977\nEpoch 9/100\n13/13 [==============================] - 0s 5ms/step - loss: 509.0393 - mse: 509.0393 - val_loss: 551.6837 - val_mse: 551.6837\nEpoch 10/100\n13/13 [==============================] - 0s 6ms/step - loss: 522.2133 - mse: 522.2133 - val_loss: 544.3240 - val_mse: 544.3240\nEpoch 11/100\n13/13 [==============================] - 0s 7ms/step - loss: 542.6882 - mse: 542.6882 - val_loss: 537.2966 - val_mse: 537.2966\nEpoch 12/100\n13/13 [==============================] - 0s 7ms/step - loss: 529.1988 - mse: 529.1988 - val_loss: 530.4963 - val_mse: 530.4963\nEpoch 13/100\n13/13 [==============================] - 0s 5ms/step - loss: 513.9771 - mse: 513.9771 - val_loss: 524.0145 - val_mse: 524.0145\nEpoch 14/100\n13/13 [==============================] - 0s 5ms/step - loss: 514.8454 - mse: 514.8454 - val_loss: 517.7433 - val_mse: 517.7433\nEpoch 15/100\n13/13 [==============================] - 0s 5ms/step - loss: 497.2596 - mse: 497.2596 - val_loss: 511.6269 - val_mse: 511.6269\nEpoch 16/100\n13/13 [==============================] - 0s 6ms/step - loss: 483.0184 - mse: 483.0184 - val_loss: 505.7265 - val_mse: 505.7265\nEpoch 17/100\n13/13 [==============================] - 0s 6ms/step - loss: 482.6947 - mse: 482.6947 - val_loss: 499.8811 - val_mse: 499.8811\nEpoch 18/100\n13/13 [==============================] - 0s 5ms/step - loss: 488.1605 - mse: 488.1605 - val_loss: 494.1930 - val_mse: 494.1930\nEpoch 19/100\n13/13 [==============================] - 0s 5ms/step - loss: 421.4213 - mse: 421.4213 - val_loss: 488.5900 - val_mse: 488.5900\nEpoch 20/100\n13/13 [==============================] - 0s 7ms/step - loss: 437.9766 - mse: 437.9766 - val_loss: 483.0419 - val_mse: 483.0419\nEpoch 21/100\n13/13 [==============================] - 0s 6ms/step - loss: 444.0042 - mse: 444.0042 - val_loss: 477.5555 - val_mse: 477.5555\nEpoch 22/100\n13/13 [==============================] - 0s 6ms/step - loss: 460.5235 - mse: 460.5235 - val_loss: 472.1176 - val_mse: 472.1176\nEpoch 23/100\n13/13 [==============================] - 0s 6ms/step - loss: 443.0944 - mse: 443.0944 - val_loss: 466.8395 - val_mse: 466.8395\nEpoch 24/100\n13/13 [==============================] - 0s 7ms/step - loss: 464.4903 - mse: 464.4903 - val_loss: 461.5794 - val_mse: 461.5794\nEpoch 25/100\n13/13 [==============================] - 0s 10ms/step - loss: 401.7718 - mse: 401.7718 - val_loss: 456.4820 - val_mse: 456.4820\nEpoch 26/100\n13/13 [==============================] - 0s 5ms/step - loss: 388.8952 - mse: 388.8952 - val_loss: 451.3709 - val_mse: 451.3709\nEpoch 27/100\n13/13 [==============================] - 0s 5ms/step - loss: 416.7266 - mse: 416.7266 - val_loss: 446.2848 - val_mse: 446.2848\nEpoch 28/100\n13/13 [==============================] - 0s 5ms/step - loss: 426.2688 - mse: 426.2688 - val_loss: 441.2787 - val_mse: 441.2787\nEpoch 29/100\n13/13 [==============================] - 0s 5ms/step - loss: 395.9035 - mse: 395.9035 - val_loss: 436.3845 - val_mse: 436.3845\nEpoch 30/100\n13/13 [==============================] - 0s 6ms/step - loss: 404.5044 - mse: 404.5044 - val_loss: 431.4830 - val_mse: 431.4830\nEpoch 31/100\n13/13 [==============================] - 0s 6ms/step - loss: 436.5451 - mse: 436.5451 - val_loss: 426.6869 - val_mse: 426.6869\nEpoch 32/100\n13/13 [==============================] - 0s 5ms/step - loss: 413.4326 - mse: 413.4326 - val_loss: 422.0011 - val_mse: 422.0011\nEpoch 33/100\n13/13 [==============================] - 0s 5ms/step - loss: 384.4452 - mse: 384.4452 - val_loss: 417.3665 - val_mse: 417.3665\nEpoch 34/100\n13/13 [==============================] - 0s 6ms/step - loss: 392.1002 - mse: 392.1002 - val_loss: 412.7283 - val_mse: 412.7283\nEpoch 35/100\n13/13 [==============================] - 0s 6ms/step - loss: 407.1226 - mse: 407.1226 - val_loss: 408.1393 - val_mse: 408.1393\nEpoch 36/100\n13/13 [==============================] - 0s 6ms/step - loss: 397.9590 - mse: 397.9590 - val_loss: 403.6357 - val_mse: 403.6357\nEpoch 37/100\n13/13 [==============================] - 0s 10ms/step - loss: 373.5791 - mse: 373.5791 - val_loss: 399.1942 - val_mse: 399.1942\nEpoch 38/100\n13/13 [==============================] - 0s 7ms/step - loss: 377.4268 - mse: 377.4268 - val_loss: 394.8570 - val_mse: 394.8570\nEpoch 39/100\n13/13 [==============================] - 0s 6ms/step - loss: 368.8583 - mse: 368.8583 - val_loss: 390.5486 - val_mse: 390.5486\nEpoch 40/100\n13/13 [==============================] - 0s 6ms/step - loss: 373.8778 - mse: 373.8778 - val_loss: 386.2482 - val_mse: 386.2482\nEpoch 41/100\n13/13 [==============================] - 0s 6ms/step - loss: 383.2463 - mse: 383.2463 - val_loss: 381.9991 - val_mse: 381.9991\nEpoch 42/100\n13/13 [==============================] - 0s 9ms/step - loss: 368.3322 - mse: 368.3322 - val_loss: 377.8809 - val_mse: 377.8809\nEpoch 43/100\n13/13 [==============================] - 0s 7ms/step - loss: 327.0906 - mse: 327.0906 - val_loss: 373.7952 - val_mse: 373.7952\nEpoch 44/100\n13/13 [==============================] - 0s 6ms/step - loss: 352.9836 - mse: 352.9836 - val_loss: 369.7414 - val_mse: 369.7414\nEpoch 45/100\n13/13 [==============================] - 0s 5ms/step - loss: 350.9787 - mse: 350.9787 - val_loss: 365.7621 - val_mse: 365.7621\nEpoch 46/100\n13/13 [==============================] - 0s 5ms/step - loss: 378.5955 - mse: 378.5955 - val_loss: 361.7933 - val_mse: 361.7933\nEpoch 47/100\n13/13 [==============================] - 0s 6ms/step - loss: 317.2228 - mse: 317.2228 - val_loss: 357.9318 - val_mse: 357.9318\nEpoch 48/100\n13/13 [==============================] - 0s 6ms/step - loss: 340.2237 - mse: 340.2237 - val_loss: 354.0341 - val_mse: 354.0341\nEpoch 49/100\n13/13 [==============================] - 0s 5ms/step - loss: 325.1599 - mse: 325.1599 - val_loss: 350.1823 - val_mse: 350.1823\nEpoch 50/100\n13/13 [==============================] - 0s 9ms/step - loss: 329.2338 - mse: 329.2338 - val_loss: 346.4241 - val_mse: 346.4241\nEpoch 51/100\n13/13 [==============================] - 0s 5ms/step - loss: 309.2847 - mse: 309.2847 - val_loss: 342.6957 - val_mse: 342.6957\nEpoch 52/100\n13/13 [==============================] - 0s 5ms/step - loss: 299.9133 - mse: 299.9133 - val_loss: 339.0149 - val_mse: 339.0149\nEpoch 53/100\n13/13 [==============================] - 0s 5ms/step - loss: 322.1458 - mse: 322.1458 - val_loss: 335.3264 - val_mse: 335.3264\nEpoch 54/100\n13/13 [==============================] - 0s 5ms/step - loss: 312.7989 - mse: 312.7989 - val_loss: 331.7112 - val_mse: 331.7112\nEpoch 55/100\n13/13 [==============================] - 0s 6ms/step - loss: 322.7822 - mse: 322.7822 - val_loss: 328.0931 - val_mse: 328.0931\nEpoch 56/100\n13/13 [==============================] - 0s 7ms/step - loss: 310.2869 - mse: 310.2869 - val_loss: 324.5936 - val_mse: 324.5936\nEpoch 57/100\n13/13 [==============================] - 0s 6ms/step - loss: 320.5560 - mse: 320.5560 - val_loss: 321.0947 - val_mse: 321.0947\nEpoch 58/100\n13/13 [==============================] - 0s 5ms/step - loss: 298.8366 - mse: 298.8366 - val_loss: 317.6624 - val_mse: 317.6624\nEpoch 59/100\n13/13 [==============================] - 0s 6ms/step - loss: 303.0421 - mse: 303.0421 - val_loss: 314.2391 - val_mse: 314.2391\nEpoch 60/100\n13/13 [==============================] - 0s 5ms/step - loss: 285.9155 - mse: 285.9155 - val_loss: 310.9036 - val_mse: 310.9036\nEpoch 61/100\n13/13 [==============================] - 0s 6ms/step - loss: 280.3957 - mse: 280.3957 - val_loss: 307.5961 - val_mse: 307.5961\nEpoch 62/100\n13/13 [==============================] - 0s 6ms/step - loss: 292.3371 - mse: 292.3371 - val_loss: 304.2827 - val_mse: 304.2827\nEpoch 63/100\n13/13 [==============================] - 0s 7ms/step - loss: 279.7225 - mse: 279.7225 - val_loss: 301.0596 - val_mse: 301.0596\nEpoch 64/100\n13/13 [==============================] - 0s 6ms/step - loss: 286.3648 - mse: 286.3648 - val_loss: 297.8000 - val_mse: 297.8000\nEpoch 65/100\n13/13 [==============================] - 0s 5ms/step - loss: 281.6222 - mse: 281.6222 - val_loss: 294.6285 - val_mse: 294.6285\nEpoch 66/100\n13/13 [==============================] - 0s 6ms/step - loss: 263.6997 - mse: 263.6997 - val_loss: 291.5075 - val_mse: 291.5075\nEpoch 67/100\n13/13 [==============================] - 0s 5ms/step - loss: 283.3003 - mse: 283.3003 - val_loss: 288.3641 - val_mse: 288.3641\nEpoch 68/100\n13/13 [==============================] - 0s 6ms/step - loss: 269.8212 - mse: 269.8212 - val_loss: 285.3130 - val_mse: 285.3130\nEpoch 69/100\n13/13 [==============================] - 0s 6ms/step - loss: 266.6971 - mse: 266.6971 - val_loss: 282.2403 - val_mse: 282.2403\nEpoch 70/100\n13/13 [==============================] - 0s 8ms/step - loss: 257.3389 - mse: 257.3389 - val_loss: 279.2165 - val_mse: 279.2165\nEpoch 71/100\n13/13 [==============================] - 0s 6ms/step - loss: 277.3087 - mse: 277.3087 - val_loss: 276.2261 - val_mse: 276.2261\nEpoch 72/100\n13/13 [==============================] - 0s 6ms/step - loss: 265.7661 - mse: 265.7661 - val_loss: 273.2630 - val_mse: 273.2630\nEpoch 73/100\n13/13 [==============================] - 0s 7ms/step - loss: 258.0145 - mse: 258.0145 - val_loss: 270.3520 - val_mse: 270.3520\nEpoch 74/100\n13/13 [==============================] - 0s 6ms/step - loss: 246.8830 - mse: 246.8830 - val_loss: 267.5110 - val_mse: 267.5110\nEpoch 75/100\n13/13 [==============================] - 0s 7ms/step - loss: 231.5127 - mse: 231.5127 - val_loss: 264.6664 - val_mse: 264.6664\nEpoch 76/100\n13/13 [==============================] - 0s 7ms/step - loss: 238.0737 - mse: 238.0737 - val_loss: 261.8433 - val_mse: 261.8433\nEpoch 77/100\n13/13 [==============================] - 0s 6ms/step - loss: 279.4129 - mse: 279.4129 - val_loss: 259.0525 - val_mse: 259.0525\nEpoch 78/100\n13/13 [==============================] - 0s 10ms/step - loss: 203.5539 - mse: 203.5539 - val_loss: 256.3714 - val_mse: 256.3714\nEpoch 79/100\n13/13 [==============================] - 0s 8ms/step - loss: 225.6490 - mse: 225.6490 - val_loss: 253.6346 - val_mse: 253.6346\nEpoch 80/100\n13/13 [==============================] - 0s 6ms/step - loss: 222.0135 - mse: 222.0135 - val_loss: 250.9217 - val_mse: 250.9217\nEpoch 81/100\n13/13 [==============================] - 0s 6ms/step - loss: 227.3199 - mse: 227.3199 - val_loss: 248.2703 - val_mse: 248.2703\nEpoch 82/100\n13/13 [==============================] - 0s 6ms/step - loss: 228.6883 - mse: 228.6883 - val_loss: 245.6110 - val_mse: 245.6110\nEpoch 83/100\n13/13 [==============================] - 0s 6ms/step - loss: 224.6467 - mse: 224.6467 - val_loss: 243.0065 - val_mse: 243.0065\nEpoch 84/100\n13/13 [==============================] - 0s 6ms/step - loss: 230.6579 - mse: 230.6579 - val_loss: 240.4482 - val_mse: 240.4482\nEpoch 85/100\n13/13 [==============================] - 0s 6ms/step - loss: 201.3474 - mse: 201.3474 - val_loss: 237.9320 - val_mse: 237.9320\nEpoch 86/100\n13/13 [==============================] - 0s 7ms/step - loss: 231.2101 - mse: 231.2101 - val_loss: 235.3745 - val_mse: 235.3745\nEpoch 87/100\n13/13 [==============================] - 0s 7ms/step - loss: 206.5983 - mse: 206.5983 - val_loss: 232.9371 - val_mse: 232.9371\nEpoch 88/100\n13/13 [==============================] - 0s 6ms/step - loss: 212.4357 - mse: 212.4357 - val_loss: 230.4849 - val_mse: 230.4849\nEpoch 89/100\n13/13 [==============================] - 0s 6ms/step - loss: 221.6088 - mse: 221.6088 - val_loss: 228.0566 - val_mse: 228.0566\nEpoch 90/100\n13/13 [==============================] - 0s 6ms/step - loss: 209.4834 - mse: 209.4834 - val_loss: 225.7162 - val_mse: 225.7162\nEpoch 91/100\n13/13 [==============================] - 0s 8ms/step - loss: 228.0742 - mse: 228.0742 - val_loss: 223.3450 - val_mse: 223.3450\nEpoch 92/100\n13/13 [==============================] - 0s 7ms/step - loss: 202.0087 - mse: 202.0087 - val_loss: 221.0229 - val_mse: 221.0229\nEpoch 93/100\n13/13 [==============================] - 0s 6ms/step - loss: 205.9770 - mse: 205.9770 - val_loss: 218.6953 - val_mse: 218.6953\nEpoch 94/100\n13/13 [==============================] - 0s 7ms/step - loss: 214.6583 - mse: 214.6583 - val_loss: 216.2650 - val_mse: 216.2650\nEpoch 95/100\n13/13 [==============================] - 0s 6ms/step - loss: 208.6300 - mse: 208.6300 - val_loss: 213.8226 - val_mse: 213.8226\nEpoch 96/100\n13/13 [==============================] - 0s 6ms/step - loss: 197.5569 - mse: 197.5569 - val_loss: 211.5328 - val_mse: 211.5328\nEpoch 97/100\n13/13 [==============================] - 0s 6ms/step - loss: 209.5968 - mse: 209.5968 - val_loss: 209.3250 - val_mse: 209.3250\nEpoch 98/100\n13/13 [==============================] - 0s 7ms/step - loss: 202.8657 - mse: 202.8657 - val_loss: 207.0655 - val_mse: 207.0655\nEpoch 99/100\n13/13 [==============================] - 0s 7ms/step - loss: 208.6271 - mse: 208.6271 - val_loss: 204.8570 - val_mse: 204.8570\nEpoch 100/100\n13/13 [==============================] - 0s 6ms/step - loss: 206.0068 - mse: 206.0068 - val_loss: 202.6807 - val_mse: 202.6807\n",
     "output_type": "stream"
    }
   ],
   "execution_count": null
  },
  {
   "cell_type": "markdown",
   "source": "<a style='text-decoration:none;line-height:16px;display:flex;color:#5B5B62;padding:10px;justify-content:end;' href='https://deepnote.com?utm_source=created-in-deepnote-cell&projectId=de072003-a9db-4342-8067-19a4b45feff1' target=\"_blank\">\n<img alt='Created in deepnote.com' style='display:inline;max-height:16px;margin:0px;margin-right:7.5px;' src='data:image/svg+xml;base64,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' > </img>\nCreated in <span style='font-weight:600;margin-left:4px;'>Deepnote</span></a>",
   "metadata": {
    "tags": [],
    "created_in_deepnote_cell": true,
    "deepnote_cell_type": "markdown"
   }
  }
 ],
 "nbformat": 4,
 "nbformat_minor": 2,
 "metadata": {
  "orig_nbformat": 2,
  "deepnote": {
   "is_reactive": false
  },
  "deepnote_notebook_id": "bd01f956-b5d5-4faf-af57-0b5eb58ab248",
  "deepnote_execution_queue": []
 }
}