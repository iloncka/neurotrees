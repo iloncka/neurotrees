{
 "cells": [
  {
   "cell_type": "markdown",
   "source": "# Decomposition - LightGBM v3.3",
   "metadata": {
    "tags": [],
    "is_collapsed": false,
    "cell_id": "ac558aee-1cb6-47ee-9624-ca0a35f484a8",
    "deepnote_cell_type": "text-cell-h1"
   }
  },
  {
   "cell_type": "markdown",
   "source": "## Iris Dataset",
   "metadata": {
    "tags": [],
    "is_collapsed": false,
    "cell_id": "00001-ac21ca53-f1d1-41c6-ac3a-ee8d9a136421",
    "deepnote_cell_type": "text-cell-h2"
   }
  },
  {
   "cell_type": "markdown",
   "source": "This data sets consists of 3 different types of irises’ (Setosa, Versicolour, and Virginica) petal and sepal length, stored in a 150x4 numpy.ndarray.   The rows being the samples and the columns being:  Sepal Length, Sepal Width, Petal Length and Petal Width.",
   "metadata": {
    "tags": [],
    "is_collapsed": false,
    "cell_id": "00002-c7523eae-cb45-4b91-ae69-fa2298560422",
    "deepnote_cell_type": "text-cell-p"
   }
  },
  {
   "cell_type": "code",
   "metadata": {
    "tags": [],
    "deepnote_to_be_reexecuted": false,
    "source_hash": "5be71827",
    "execution_start": 1644066896321,
    "execution_millis": 1070,
    "cell_id": "00003-a37addb3-ba99-4667-94e3-635dbd343293",
    "deepnote_cell_type": "code"
   },
   "source": "# Import datasets\nfrom sklearn import datasets\nfrom sklearn.model_selection import train_test_split\nfrom sklearn.metrics import mean_squared_error\n\nimport lightgbm as lgb\n",
   "execution_count": null,
   "outputs": []
  },
  {
   "cell_type": "code",
   "metadata": {
    "cell_id": "be8e7b8a-8024-4072-b812-5c79edad1d77",
    "tags": [],
    "deepnote_to_be_reexecuted": false,
    "source_hash": "549066d0",
    "execution_start": 1644066897396,
    "execution_millis": 5,
    "deepnote_cell_type": "code"
   },
   "source": "import pickle",
   "execution_count": null,
   "outputs": []
  },
  {
   "cell_type": "code",
   "metadata": {
    "cell_id": "a1141e6f-17a9-4f9d-aea0-10fccf102434",
    "tags": [],
    "deepnote_to_be_reexecuted": false,
    "source_hash": "57e344a7",
    "execution_start": 1644066897412,
    "execution_millis": 234,
    "deepnote_cell_type": "code"
   },
   "source": "import graphviz\nprint(graphviz.__version__)",
   "execution_count": null,
   "outputs": [
    {
     "name": "stdout",
     "text": "0.19.1\n",
     "output_type": "stream"
    }
   ]
  },
  {
   "cell_type": "code",
   "metadata": {
    "tags": [],
    "deepnote_to_be_reexecuted": false,
    "source_hash": "ce864240",
    "execution_start": 1644066897426,
    "execution_millis": 6042096,
    "cell_id": "00004-616d52f6-d66f-4da1-b401-dd8b148668f9",
    "deepnote_cell_type": "code"
   },
   "source": "print(lgb.__version__)",
   "execution_count": null,
   "outputs": [
    {
     "name": "stdout",
     "text": "3.3.2\n",
     "output_type": "stream"
    }
   ]
  },
  {
   "cell_type": "code",
   "metadata": {
    "tags": [],
    "deepnote_to_be_reexecuted": false,
    "source_hash": "6f32031f",
    "execution_start": 1644066897479,
    "execution_millis": 169,
    "cell_id": "00005-07e02a98-66ce-4065-882c-8e3c71a0390e",
    "deepnote_cell_type": "code"
   },
   "source": "iris = datasets.load_iris()\nX = iris.data\ny = iris.target\nX_train, X_test, y_train, y_test = train_test_split(\n    X, y, test_size=0.33, random_state=42)",
   "execution_count": null,
   "outputs": []
  },
  {
   "cell_type": "code",
   "metadata": {
    "cell_id": "3932c44c-5636-4d49-961d-f48ce92a956c",
    "tags": [],
    "deepnote_to_be_reexecuted": false,
    "source_hash": "4820a173",
    "execution_start": 1644066897480,
    "execution_millis": 169,
    "deepnote_output_heights": [
     21
    ],
    "deepnote_cell_type": "code"
   },
   "source": "X_test[0]",
   "execution_count": null,
   "outputs": [
    {
     "output_type": "execute_result",
     "execution_count": 6,
     "data": {
      "text/plain": "array([6.1, 2.8, 4.7, 1.2])"
     },
     "metadata": {}
    }
   ]
  },
  {
   "cell_type": "code",
   "metadata": {
    "cell_id": "38f33fe5-80a5-42af-b0f3-bb3fe2eef30a",
    "tags": [],
    "deepnote_to_be_reexecuted": false,
    "source_hash": "11521f57",
    "execution_start": 1644066897514,
    "execution_millis": 0,
    "deepnote_output_heights": [
     21
    ],
    "deepnote_cell_type": "code"
   },
   "source": "y_test[0]",
   "execution_count": null,
   "outputs": [
    {
     "output_type": "execute_result",
     "execution_count": 7,
     "data": {
      "text/plain": "1"
     },
     "metadata": {}
    }
   ]
  },
  {
   "cell_type": "code",
   "metadata": {
    "tags": [],
    "deepnote_to_be_reexecuted": false,
    "source_hash": "75fa4cba",
    "execution_start": 1644066897515,
    "execution_millis": 135,
    "cell_id": "00006-0a3024f1-82b9-4adf-ae2a-ae7e5b38a264",
    "deepnote_cell_type": "code"
   },
   "source": "# create dataset for lightgbm\nlgb_train = lgb.Dataset(X_train, y_train)\nlgb_eval = lgb.Dataset(X_test, y_test, reference=lgb_train)\n\n# specify your configurations as a dict\nparams = {\n    'boosting_type': 'gbdt',\n    'objective': 'regression',\n    # 'metric': {'l2', 'l1'},\n    'num_leaves': 5,   \n    # 'learning_rate': 0.05,\n    # 'feature_fraction': 0.9,\n    # 'bagging_fraction': 0.8,\n    # 'bagging_freq': 5,\n    # 'verbose': 0\n}\n\nprint('Starting training...')\n# train\ngbm = lgb.train(params,\n                lgb_train,\n                num_boost_round=2,\n                \n                valid_sets=lgb_eval,\n                callbacks=[lgb.early_stopping(stopping_rounds=5)])\n\nprint('Saving model...')\n# save model to file\ngbm.save_model('model.txt')\n\nprint('Starting predicting...')\n# predict\ny_pred = gbm.predict(X_test, num_iteration=gbm.best_iteration)\n# eval\nrmse_test = mean_squared_error(y_test, y_pred) ** 0.5\nprint(f'The RMSE of prediction is: {rmse_test}')",
   "execution_count": null,
   "outputs": [
    {
     "name": "stdout",
     "text": "Starting training...\n[LightGBM] [Warning] Auto-choosing row-wise multi-threading, the overhead of testing was 0.000017 seconds.\nYou can set `force_row_wise=true` to remove the overhead.\nAnd if memory is not enough, you can set `force_col_wise=true`.\n[LightGBM] [Info] Total Bins 84\n[LightGBM] [Info] Number of data points in the train set: 100, number of used features: 4\n[LightGBM] [Info] Start training from score 1.030000\n[LightGBM] [Warning] No further splits with positive gain, best gain: -inf\nTraining until validation scores don't improve for 5 rounds\n[LightGBM] [Warning] No further splits with positive gain, best gain: -inf\nDid not meet early stopping. Best iteration is:\n[2]\tvalid_0's l2: 0.477858\nSaving model...\nStarting predicting...\nThe RMSE of prediction is: 0.6912728541272807\n",
     "output_type": "stream"
    }
   ]
  },
  {
   "cell_type": "code",
   "metadata": {
    "cell_id": "ee1c92dc-5ca1-4c8f-a813-d5e7ea984f70",
    "tags": [],
    "deepnote_to_be_reexecuted": false,
    "source_hash": "cdfcff0a",
    "execution_start": 1644066897516,
    "execution_millis": 135,
    "deepnote_output_heights": [
     21
    ],
    "deepnote_cell_type": "code"
   },
   "source": "y_pred[0]",
   "execution_count": null,
   "outputs": [
    {
     "output_type": "execute_result",
     "execution_count": 9,
     "data": {
      "text/plain": "1.040090336294648"
     },
     "metadata": {}
    }
   ]
  },
  {
   "cell_type": "code",
   "metadata": {
    "cell_id": "0684a675-78a2-45aa-80e8-125c7b68c2c2",
    "tags": [],
    "deepnote_to_be_reexecuted": false,
    "source_hash": "99fb96a7",
    "execution_start": 1644066897535,
    "execution_millis": 6042064,
    "deepnote_cell_type": "code"
   },
   "source": "leaf_preds = gbm.predict(X_train, pred_leaf=True)",
   "execution_count": null,
   "outputs": []
  },
  {
   "cell_type": "code",
   "metadata": {
    "cell_id": "b19f8bef-8b2c-40e0-8ad7-5b9378466ffc",
    "tags": [],
    "deepnote_to_be_reexecuted": false,
    "source_hash": "3374dd7",
    "execution_start": 1644066897545,
    "execution_millis": 6042062,
    "deepnote_output_heights": [
     21
    ],
    "deepnote_cell_type": "code"
   },
   "source": "leaf_preds[0]",
   "execution_count": null,
   "outputs": [
    {
     "output_type": "execute_result",
     "execution_count": 11,
     "data": {
      "text/plain": "array([1, 1], dtype=int32)"
     },
     "metadata": {}
    }
   ]
  },
  {
   "cell_type": "code",
   "metadata": {
    "tags": [],
    "deepnote_to_be_reexecuted": false,
    "source_hash": "6ab9c71",
    "execution_start": 1644066897590,
    "execution_millis": 6042046,
    "deepnote_output_heights": [
     21
    ],
    "cell_id": "00007-af3160fc-e0d9-453d-8047-0c62d14f7874",
    "deepnote_cell_type": "code"
   },
   "source": "gbm.num_trees()",
   "execution_count": null,
   "outputs": [
    {
     "output_type": "execute_result",
     "execution_count": 12,
     "data": {
      "text/plain": "2"
     },
     "metadata": {}
    }
   ]
  },
  {
   "cell_type": "code",
   "metadata": {
    "tags": [],
    "deepnote_to_be_reexecuted": false,
    "source_hash": "a1fd968",
    "execution_start": 1644066897592,
    "execution_millis": 61,
    "deepnote_output_heights": [
     40
    ],
    "cell_id": "00008-982e15ea-bb12-4448-99c7-09514befdab2",
    "deepnote_cell_type": "code"
   },
   "source": "gbm.best_score",
   "execution_count": null,
   "outputs": [
    {
     "output_type": "execute_result",
     "execution_count": 13,
     "data": {
      "text/plain": "defaultdict(collections.OrderedDict,\n            {'valid_0': OrderedDict([('l2', 0.47785815885327665)])})"
     },
     "metadata": {}
    }
   ]
  },
  {
   "cell_type": "code",
   "metadata": {
    "tags": [],
    "deepnote_to_be_reexecuted": false,
    "source_hash": "b6ae9109",
    "execution_start": 1644066897595,
    "execution_millis": 58,
    "cell_id": "00009-3a8eb2ce-6629-46fc-8613-f009f25be69d",
    "deepnote_cell_type": "code"
   },
   "source": "# method trees_to_dataframe() is absent in version 2.2 \ndf_trees = gbm.trees_to_dataframe()",
   "execution_count": null,
   "outputs": []
  },
  {
   "cell_type": "code",
   "metadata": {
    "tags": [],
    "deepnote_to_be_reexecuted": false,
    "source_hash": "771366c7",
    "execution_start": 1644066897596,
    "execution_millis": 150,
    "cell_id": "00010-affbeb0e-232e-4cdf-a9c1-a47b15b9f425",
    "deepnote_cell_type": "code"
   },
   "source": "df_trees",
   "execution_count": null,
   "outputs": [
    {
     "output_type": "execute_result",
     "execution_count": 15,
     "data": {
      "application/vnd.deepnote.dataframe.v3+json": {
       "column_count": 15,
       "row_count": 10,
       "columns": [
        {
         "name": "tree_index",
         "dtype": "int64",
         "stats": {
          "unique_count": 2,
          "nan_count": 0,
          "min": "0",
          "max": "1",
          "histogram": [
           {
            "bin_start": 0,
            "bin_end": 0.1,
            "count": 5
           },
           {
            "bin_start": 0.1,
            "bin_end": 0.2,
            "count": 0
           },
           {
            "bin_start": 0.2,
            "bin_end": 0.30000000000000004,
            "count": 0
           },
           {
            "bin_start": 0.30000000000000004,
            "bin_end": 0.4,
            "count": 0
           },
           {
            "bin_start": 0.4,
            "bin_end": 0.5,
            "count": 0
           },
           {
            "bin_start": 0.5,
            "bin_end": 0.6000000000000001,
            "count": 0
           },
           {
            "bin_start": 0.6000000000000001,
            "bin_end": 0.7000000000000001,
            "count": 0
           },
           {
            "bin_start": 0.7000000000000001,
            "bin_end": 0.8,
            "count": 0
           },
           {
            "bin_start": 0.8,
            "bin_end": 0.9,
            "count": 0
           },
           {
            "bin_start": 0.9,
            "bin_end": 1,
            "count": 5
           }
          ]
         }
        },
        {
         "name": "node_depth",
         "dtype": "int64",
         "stats": {
          "unique_count": 3,
          "nan_count": 0,
          "min": "1",
          "max": "3",
          "histogram": [
           {
            "bin_start": 1,
            "bin_end": 1.2,
            "count": 2
           },
           {
            "bin_start": 1.2,
            "bin_end": 1.4,
            "count": 0
           },
           {
            "bin_start": 1.4,
            "bin_end": 1.6,
            "count": 0
           },
           {
            "bin_start": 1.6,
            "bin_end": 1.8,
            "count": 0
           },
           {
            "bin_start": 1.8,
            "bin_end": 2,
            "count": 0
           },
           {
            "bin_start": 2,
            "bin_end": 2.2,
            "count": 4
           },
           {
            "bin_start": 2.2,
            "bin_end": 2.4000000000000004,
            "count": 0
           },
           {
            "bin_start": 2.4000000000000004,
            "bin_end": 2.6,
            "count": 0
           },
           {
            "bin_start": 2.6,
            "bin_end": 2.8,
            "count": 0
           },
           {
            "bin_start": 2.8,
            "bin_end": 3,
            "count": 4
           }
          ]
         }
        },
        {
         "name": "node_index",
         "dtype": "object",
         "stats": {
          "unique_count": 10,
          "nan_count": 0,
          "categories": [
           {
            "name": "0-S0",
            "count": 1
           },
           {
            "name": "0-L0",
            "count": 1
           },
           {
            "name": "8 others",
            "count": 8
           }
          ]
         }
        },
        {
         "name": "left_child",
         "dtype": "object",
         "stats": {
          "unique_count": 4,
          "nan_count": 6,
          "categories": [
           {
            "name": "0-L0",
            "count": 1
           },
           {
            "name": "3 others",
            "count": 3
           },
           {
            "name": "Missing",
            "count": 6
           }
          ]
         }
        },
        {
         "name": "right_child",
         "dtype": "object",
         "stats": {
          "unique_count": 4,
          "nan_count": 6,
          "categories": [
           {
            "name": "0-S1",
            "count": 1
           },
           {
            "name": "3 others",
            "count": 3
           },
           {
            "name": "Missing",
            "count": 6
           }
          ]
         }
        },
        {
         "name": "parent_index",
         "dtype": "object",
         "stats": {
          "unique_count": 4,
          "nan_count": 2,
          "categories": [
           {
            "name": "0-S0",
            "count": 2
           },
           {
            "name": "3 others",
            "count": 6
           },
           {
            "name": "Missing",
            "count": 2
           }
          ]
         }
        },
        {
         "name": "split_feature",
         "dtype": "object",
         "stats": {
          "unique_count": 2,
          "nan_count": 6,
          "categories": [
           {
            "name": "Column_2",
            "count": 2
           },
           {
            "name": "Column_3",
            "count": 2
           },
           {
            "name": "Missing",
            "count": 6
           }
          ]
         }
        },
        {
         "name": "split_gain",
         "dtype": "float64",
         "stats": {
          "unique_count": 4,
          "nan_count": 6,
          "min": "10.268799781799316",
          "max": "46.941200256347656",
          "histogram": [
           {
            "bin_start": 10.268799781799316,
            "bin_end": 13.93603982925415,
            "count": 2
           },
           {
            "bin_start": 13.93603982925415,
            "bin_end": 17.603279876708985,
            "count": 0
           },
           {
            "bin_start": 17.603279876708985,
            "bin_end": 21.270519924163818,
            "count": 0
           },
           {
            "bin_start": 21.270519924163818,
            "bin_end": 24.937759971618654,
            "count": 0
           },
           {
            "bin_start": 24.937759971618654,
            "bin_end": 28.605000019073486,
            "count": 0
           },
           {
            "bin_start": 28.605000019073486,
            "bin_end": 32.27224006652832,
            "count": 0
           },
           {
            "bin_start": 32.27224006652832,
            "bin_end": 35.93948011398315,
            "count": 0
           },
           {
            "bin_start": 35.93948011398315,
            "bin_end": 39.60672016143799,
            "count": 1
           },
           {
            "bin_start": 39.60672016143799,
            "bin_end": 43.273960208892824,
            "count": 0
           },
           {
            "bin_start": 43.273960208892824,
            "bin_end": 46.941200256347656,
            "count": 1
           }
          ]
         }
        },
        {
         "name": "threshold",
         "dtype": "float64",
         "stats": {
          "unique_count": 3,
          "nan_count": 6,
          "min": "1.5500000000000003",
          "max": "3.1500000000000004",
          "histogram": [
           {
            "bin_start": 1.5500000000000003,
            "bin_end": 1.7100000000000002,
            "count": 1
           },
           {
            "bin_start": 1.7100000000000002,
            "bin_end": 1.8700000000000003,
            "count": 1
           },
           {
            "bin_start": 1.8700000000000003,
            "bin_end": 2.0300000000000002,
            "count": 0
           },
           {
            "bin_start": 2.0300000000000002,
            "bin_end": 2.1900000000000004,
            "count": 0
           },
           {
            "bin_start": 2.1900000000000004,
            "bin_end": 2.3500000000000005,
            "count": 0
           },
           {
            "bin_start": 2.3500000000000005,
            "bin_end": 2.5100000000000002,
            "count": 0
           },
           {
            "bin_start": 2.5100000000000002,
            "bin_end": 2.6700000000000004,
            "count": 0
           },
           {
            "bin_start": 2.6700000000000004,
            "bin_end": 2.83,
            "count": 0
           },
           {
            "bin_start": 2.83,
            "bin_end": 2.99,
            "count": 0
           },
           {
            "bin_start": 2.99,
            "bin_end": 3.1500000000000004,
            "count": 2
           }
          ]
         }
        },
        {
         "name": "decision_type",
         "dtype": "object",
         "stats": {
          "unique_count": 1,
          "nan_count": 6,
          "categories": [
           {
            "name": "<=",
            "count": 4
           },
           {
            "name": "Missing",
            "count": 6
           }
          ]
         }
        },
        {
         "name": "missing_direction",
         "dtype": "object",
         "stats": {
          "unique_count": 1,
          "nan_count": 6,
          "categories": [
           {
            "name": "left",
            "count": 4
           },
           {
            "name": "Missing",
            "count": 6
           }
          ]
         }
        },
        {
         "name": "missing_type",
         "dtype": "object",
         "stats": {
          "unique_count": 1,
          "nan_count": 6,
          "categories": [
           {
            "name": "None",
            "count": 4
           },
           {
            "name": "Missing",
            "count": 6
           }
          ]
         }
        },
        {
         "name": "value",
         "dtype": "float64",
         "stats": {
          "unique_count": 10,
          "nan_count": 0,
          "min": "-0.0898874998325482",
          "max": "1.123774196319282",
          "histogram": [
           {
            "bin_start": -0.0898874998325482,
            "bin_end": 0.03147866978263482,
            "count": 3
           },
           {
            "bin_start": 0.03147866978263482,
            "bin_end": 0.15284483939781784,
            "count": 2
           },
           {
            "bin_start": 0.15284483939781784,
            "bin_end": 0.2742110090130009,
            "count": 0
           },
           {
            "bin_start": 0.2742110090130009,
            "bin_end": 0.39557717862818387,
            "count": 0
           },
           {
            "bin_start": 0.39557717862818387,
            "bin_end": 0.516943348243367,
            "count": 0
           },
           {
            "bin_start": 0.516943348243367,
            "bin_end": 0.63830951785855,
            "count": 0
           },
           {
            "bin_start": 0.63830951785855,
            "bin_end": 0.759675687473733,
            "count": 0
           },
           {
            "bin_start": 0.759675687473733,
            "bin_end": 0.881041857088916,
            "count": 0
           },
           {
            "bin_start": 0.881041857088916,
            "bin_end": 1.002408026704099,
            "count": 1
           },
           {
            "bin_start": 1.002408026704099,
            "bin_end": 1.123774196319282,
            "count": 4
           }
          ]
         }
        },
        {
         "name": "weight",
         "dtype": "int64",
         "stats": {
          "unique_count": 7,
          "nan_count": 0,
          "min": "0",
          "max": "68",
          "histogram": [
           {
            "bin_start": 0,
            "bin_end": 6.8,
            "count": 2
           },
           {
            "bin_start": 6.8,
            "bin_end": 13.6,
            "count": 0
           },
           {
            "bin_start": 13.6,
            "bin_end": 20.4,
            "count": 0
           },
           {
            "bin_start": 20.4,
            "bin_end": 27.2,
            "count": 0
           },
           {
            "bin_start": 27.2,
            "bin_end": 34,
            "count": 4
           },
           {
            "bin_start": 34,
            "bin_end": 40.8,
            "count": 2
           },
           {
            "bin_start": 40.8,
            "bin_end": 47.6,
            "count": 0
           },
           {
            "bin_start": 47.6,
            "bin_end": 54.4,
            "count": 0
           },
           {
            "bin_start": 54.4,
            "bin_end": 61.199999999999996,
            "count": 0
           },
           {
            "bin_start": 61.199999999999996,
            "bin_end": 68,
            "count": 2
           }
          ]
         }
        },
        {
         "name": "count",
         "dtype": "int64",
         "stats": {
          "unique_count": 7,
          "nan_count": 0,
          "min": "31",
          "max": "100",
          "histogram": [
           {
            "bin_start": 31,
            "bin_end": 37.9,
            "count": 6
           },
           {
            "bin_start": 37.9,
            "bin_end": 44.8,
            "count": 0
           },
           {
            "bin_start": 44.8,
            "bin_end": 51.7,
            "count": 0
           },
           {
            "bin_start": 51.7,
            "bin_end": 58.6,
            "count": 0
           },
           {
            "bin_start": 58.6,
            "bin_end": 65.5,
            "count": 0
           },
           {
            "bin_start": 65.5,
            "bin_end": 72.4,
            "count": 2
           },
           {
            "bin_start": 72.4,
            "bin_end": 79.30000000000001,
            "count": 0
           },
           {
            "bin_start": 79.30000000000001,
            "bin_end": 86.2,
            "count": 0
           },
           {
            "bin_start": 86.2,
            "bin_end": 93.1,
            "count": 0
           },
           {
            "bin_start": 93.1,
            "bin_end": 100,
            "count": 2
           }
          ]
         }
        },
        {
         "name": "_deepnote_index_column",
         "dtype": "int64"
        }
       ],
       "rows": [
        {
         "tree_index": 0,
         "node_depth": 1,
         "node_index": "0-S0",
         "left_child": "0-L0",
         "right_child": "0-S1",
         "parent_index": "None",
         "split_feature": "Column_2",
         "split_gain": 46.941200256347656,
         "threshold": 3.1500000000000004,
         "decision_type": "<=",
         "missing_direction": "left",
         "missing_type": "None",
         "value": 1.03,
         "weight": 0,
         "count": 100,
         "_deepnote_index_column": 0
        },
        {
         "tree_index": 0,
         "node_depth": 2,
         "node_index": "0-L0",
         "left_child": "None",
         "right_child": "None",
         "parent_index": "0-S0",
         "split_feature": "None",
         "split_gain": "nan",
         "threshold": "nan",
         "decision_type": "None",
         "missing_direction": "None",
         "missing_type": "None",
         "value": 0.9301250027737115,
         "weight": 32,
         "count": 32,
         "_deepnote_index_column": 1
        },
        {
         "tree_index": 0,
         "node_depth": 2,
         "node_index": "0-S1",
         "left_child": "0-L1",
         "right_child": "0-L2",
         "parent_index": "0-S0",
         "split_feature": "Column_3",
         "split_gain": 12.464699745178223,
         "threshold": 1.7500000000000002,
         "decision_type": "<=",
         "missing_direction": "left",
         "missing_type": "None",
         "value": 1.077,
         "weight": 68,
         "count": 68,
         "_deepnote_index_column": 2
        },
        {
         "tree_index": 0,
         "node_depth": 3,
         "node_index": "0-L1",
         "left_child": "None",
         "right_child": "None",
         "parent_index": "0-S1",
         "split_feature": "None",
         "split_gain": "nan",
         "threshold": "nan",
         "decision_type": "None",
         "missing_direction": "None",
         "missing_type": "None",
         "value": 1.0378108111799167,
         "weight": 37,
         "count": 37,
         "_deepnote_index_column": 3
        },
        {
         "tree_index": 0,
         "node_depth": 3,
         "node_index": "0-L2",
         "left_child": "None",
         "right_child": "None",
         "parent_index": "0-S1",
         "split_feature": "None",
         "split_gain": "nan",
         "threshold": "nan",
         "decision_type": "None",
         "missing_direction": "None",
         "missing_type": "None",
         "value": 1.123774196319282,
         "weight": 31,
         "count": 31,
         "_deepnote_index_column": 4
        },
        {
         "tree_index": 1,
         "node_depth": 1,
         "node_index": "1-S0",
         "left_child": "1-L0",
         "right_child": "1-S1",
         "parent_index": "None",
         "split_feature": "Column_2",
         "split_gain": 38.02239990234375,
         "threshold": 3.1500000000000004,
         "decision_type": "<=",
         "missing_direction": "left",
         "missing_type": "None",
         "value": 0,
         "weight": 0,
         "count": 100,
         "_deepnote_index_column": 5
        },
        {
         "tree_index": 1,
         "node_depth": 2,
         "node_index": "1-L0",
         "left_child": "None",
         "right_child": "None",
         "parent_index": "1-S0",
         "split_feature": "None",
         "split_gain": "nan",
         "threshold": "nan",
         "decision_type": "None",
         "missing_direction": "None",
         "missing_type": "None",
         "value": -0.0898874998325482,
         "weight": 32,
         "count": 32,
         "_deepnote_index_column": 6
        },
        {
         "tree_index": 1,
         "node_depth": 2,
         "node_index": "1-S1",
         "left_child": "1-L1",
         "right_child": "1-L2",
         "parent_index": "1-S0",
         "split_feature": "Column_3",
         "split_gain": 10.268799781799316,
         "threshold": 1.5500000000000003,
         "decision_type": "<=",
         "missing_direction": "left",
         "missing_type": "None",
         "value": 0.0423,
         "weight": 68,
         "count": 68,
         "_deepnote_index_column": 7
        },
        {
         "tree_index": 1,
         "node_depth": 3,
         "node_index": "1-L1",
         "left_child": "None",
         "right_child": "None",
         "parent_index": "1-S1",
         "split_feature": "None",
         "split_gain": "nan",
         "threshold": "nan",
         "decision_type": "None",
         "missing_direction": "None",
         "missing_type": "None",
         "value": 0.002279525114731355,
         "weight": 33,
         "count": 33,
         "_deepnote_index_column": 8
        },
        {
         "tree_index": 1,
         "node_depth": 3,
         "node_index": "1-L2",
         "left_child": "None",
         "right_child": "None",
         "parent_index": "1-S1",
         "split_feature": "None",
         "split_gain": "nan",
         "threshold": "nan",
         "decision_type": "None",
         "missing_direction": "None",
         "missing_type": "None",
         "value": 0.08003359273076058,
         "weight": 35,
         "count": 35,
         "_deepnote_index_column": 9
        }
       ]
      },
      "text/plain": "   tree_index  node_depth node_index left_child right_child parent_index  \\\n0           0           1       0-S0       0-L0        0-S1         None   \n1           0           2       0-L0       None        None         0-S0   \n2           0           2       0-S1       0-L1        0-L2         0-S0   \n3           0           3       0-L1       None        None         0-S1   \n4           0           3       0-L2       None        None         0-S1   \n5           1           1       1-S0       1-L0        1-S1         None   \n6           1           2       1-L0       None        None         1-S0   \n7           1           2       1-S1       1-L1        1-L2         1-S0   \n8           1           3       1-L1       None        None         1-S1   \n9           1           3       1-L2       None        None         1-S1   \n\n  split_feature  split_gain  threshold decision_type missing_direction  \\\n0      Column_2     46.9412       3.15            <=              left   \n1          None         NaN        NaN          None              None   \n2      Column_3     12.4647       1.75            <=              left   \n3          None         NaN        NaN          None              None   \n4          None         NaN        NaN          None              None   \n5      Column_2     38.0224       3.15            <=              left   \n6          None         NaN        NaN          None              None   \n7      Column_3     10.2688       1.55            <=              left   \n8          None         NaN        NaN          None              None   \n9          None         NaN        NaN          None              None   \n\n  missing_type     value  weight  count  \n0         None  1.030000       0    100  \n1         None  0.930125      32     32  \n2         None  1.077000      68     68  \n3         None  1.037811      37     37  \n4         None  1.123774      31     31  \n5         None  0.000000       0    100  \n6         None -0.089887      32     32  \n7         None  0.042300      68     68  \n8         None  0.002280      33     33  \n9         None  0.080034      35     35  ",
      "text/html": "<div>\n<style scoped>\n    .dataframe tbody tr th:only-of-type {\n        vertical-align: middle;\n    }\n\n    .dataframe tbody tr th {\n        vertical-align: top;\n    }\n\n    .dataframe thead th {\n        text-align: right;\n    }\n</style>\n<table border=\"1\" class=\"dataframe\">\n  <thead>\n    <tr style=\"text-align: right;\">\n      <th></th>\n      <th>tree_index</th>\n      <th>node_depth</th>\n      <th>node_index</th>\n      <th>left_child</th>\n      <th>right_child</th>\n      <th>parent_index</th>\n      <th>split_feature</th>\n      <th>split_gain</th>\n      <th>threshold</th>\n      <th>decision_type</th>\n      <th>missing_direction</th>\n      <th>missing_type</th>\n      <th>value</th>\n      <th>weight</th>\n      <th>count</th>\n    </tr>\n  </thead>\n  <tbody>\n    <tr>\n      <th>0</th>\n      <td>0</td>\n      <td>1</td>\n      <td>0-S0</td>\n      <td>0-L0</td>\n      <td>0-S1</td>\n      <td>None</td>\n      <td>Column_2</td>\n      <td>46.9412</td>\n      <td>3.15</td>\n      <td>&lt;=</td>\n      <td>left</td>\n      <td>None</td>\n      <td>1.030000</td>\n      <td>0</td>\n      <td>100</td>\n    </tr>\n    <tr>\n      <th>1</th>\n      <td>0</td>\n      <td>2</td>\n      <td>0-L0</td>\n      <td>None</td>\n      <td>None</td>\n      <td>0-S0</td>\n      <td>None</td>\n      <td>NaN</td>\n      <td>NaN</td>\n      <td>None</td>\n      <td>None</td>\n      <td>None</td>\n      <td>0.930125</td>\n      <td>32</td>\n      <td>32</td>\n    </tr>\n    <tr>\n      <th>2</th>\n      <td>0</td>\n      <td>2</td>\n      <td>0-S1</td>\n      <td>0-L1</td>\n      <td>0-L2</td>\n      <td>0-S0</td>\n      <td>Column_3</td>\n      <td>12.4647</td>\n      <td>1.75</td>\n      <td>&lt;=</td>\n      <td>left</td>\n      <td>None</td>\n      <td>1.077000</td>\n      <td>68</td>\n      <td>68</td>\n    </tr>\n    <tr>\n      <th>3</th>\n      <td>0</td>\n      <td>3</td>\n      <td>0-L1</td>\n      <td>None</td>\n      <td>None</td>\n      <td>0-S1</td>\n      <td>None</td>\n      <td>NaN</td>\n      <td>NaN</td>\n      <td>None</td>\n      <td>None</td>\n      <td>None</td>\n      <td>1.037811</td>\n      <td>37</td>\n      <td>37</td>\n    </tr>\n    <tr>\n      <th>4</th>\n      <td>0</td>\n      <td>3</td>\n      <td>0-L2</td>\n      <td>None</td>\n      <td>None</td>\n      <td>0-S1</td>\n      <td>None</td>\n      <td>NaN</td>\n      <td>NaN</td>\n      <td>None</td>\n      <td>None</td>\n      <td>None</td>\n      <td>1.123774</td>\n      <td>31</td>\n      <td>31</td>\n    </tr>\n    <tr>\n      <th>5</th>\n      <td>1</td>\n      <td>1</td>\n      <td>1-S0</td>\n      <td>1-L0</td>\n      <td>1-S1</td>\n      <td>None</td>\n      <td>Column_2</td>\n      <td>38.0224</td>\n      <td>3.15</td>\n      <td>&lt;=</td>\n      <td>left</td>\n      <td>None</td>\n      <td>0.000000</td>\n      <td>0</td>\n      <td>100</td>\n    </tr>\n    <tr>\n      <th>6</th>\n      <td>1</td>\n      <td>2</td>\n      <td>1-L0</td>\n      <td>None</td>\n      <td>None</td>\n      <td>1-S0</td>\n      <td>None</td>\n      <td>NaN</td>\n      <td>NaN</td>\n      <td>None</td>\n      <td>None</td>\n      <td>None</td>\n      <td>-0.089887</td>\n      <td>32</td>\n      <td>32</td>\n    </tr>\n    <tr>\n      <th>7</th>\n      <td>1</td>\n      <td>2</td>\n      <td>1-S1</td>\n      <td>1-L1</td>\n      <td>1-L2</td>\n      <td>1-S0</td>\n      <td>Column_3</td>\n      <td>10.2688</td>\n      <td>1.55</td>\n      <td>&lt;=</td>\n      <td>left</td>\n      <td>None</td>\n      <td>0.042300</td>\n      <td>68</td>\n      <td>68</td>\n    </tr>\n    <tr>\n      <th>8</th>\n      <td>1</td>\n      <td>3</td>\n      <td>1-L1</td>\n      <td>None</td>\n      <td>None</td>\n      <td>1-S1</td>\n      <td>None</td>\n      <td>NaN</td>\n      <td>NaN</td>\n      <td>None</td>\n      <td>None</td>\n      <td>None</td>\n      <td>0.002280</td>\n      <td>33</td>\n      <td>33</td>\n    </tr>\n    <tr>\n      <th>9</th>\n      <td>1</td>\n      <td>3</td>\n      <td>1-L2</td>\n      <td>None</td>\n      <td>None</td>\n      <td>1-S1</td>\n      <td>None</td>\n      <td>NaN</td>\n      <td>NaN</td>\n      <td>None</td>\n      <td>None</td>\n      <td>None</td>\n      <td>0.080034</td>\n      <td>35</td>\n      <td>35</td>\n    </tr>\n  </tbody>\n</table>\n</div>"
     },
     "metadata": {}
    }
   ]
  },
  {
   "cell_type": "code",
   "metadata": {
    "tags": [],
    "deepnote_to_be_reexecuted": false,
    "source_hash": "e8fb530d",
    "execution_start": 1644066897785,
    "execution_millis": 6,
    "deepnote_output_heights": [
     21
    ],
    "cell_id": "00011-7806aec6-ab06-4d93-a380-f27a872e1bfc",
    "deepnote_cell_type": "code"
   },
   "source": "df_trees.tree_index.nunique()",
   "execution_count": null,
   "outputs": [
    {
     "output_type": "execute_result",
     "execution_count": 16,
     "data": {
      "text/plain": "2"
     },
     "metadata": {}
    }
   ]
  },
  {
   "cell_type": "code",
   "metadata": {
    "tags": [],
    "deepnote_to_be_reexecuted": false,
    "source_hash": "55930f49",
    "execution_start": 1644066897786,
    "execution_millis": 6042039,
    "deepnote_output_heights": [
     21
    ],
    "cell_id": "00012-dc683bc4-c8c1-4b6b-a9c7-e8f0a3b8ea93",
    "deepnote_cell_type": "code"
   },
   "source": "df_trees.tree_index.unique()",
   "execution_count": null,
   "outputs": [
    {
     "output_type": "execute_result",
     "execution_count": 17,
     "data": {
      "text/plain": "array([0, 1])"
     },
     "metadata": {}
    }
   ]
  },
  {
   "cell_type": "code",
   "metadata": {
    "tags": [],
    "deepnote_to_be_reexecuted": false,
    "source_hash": "cdf8e103",
    "execution_start": 1644066897786,
    "execution_millis": 43,
    "deepnote_output_heights": [
     158
    ],
    "cell_id": "00013-a5ca9474-9d3f-4ec2-957c-971f380534f9",
    "deepnote_cell_type": "code"
   },
   "source": "lgb.create_tree_digraph(gbm, tree_index=0)",
   "execution_count": null,
   "outputs": [
    {
     "output_type": "execute_result",
     "execution_count": 18,
     "data": {
      "image/svg+xml": "<?xml version=\"1.0\" encoding=\"UTF-8\" standalone=\"no\"?>\n<!DOCTYPE svg PUBLIC \"-//W3C//DTD SVG 1.1//EN\"\n \"http://www.w3.org/Graphics/SVG/1.1/DTD/svg11.dtd\">\n<!-- Generated by graphviz version 2.40.1 (20161225.0304)\n -->\n<!-- Title: %3 Pages: 1 -->\n<svg width=\"561pt\" height=\"104pt\"\n viewBox=\"0.00 0.00 560.99 104.00\" xmlns=\"http://www.w3.org/2000/svg\" xmlns:xlink=\"http://www.w3.org/1999/xlink\">\n<g id=\"graph0\" class=\"graph\" transform=\"scale(1 1) rotate(0) translate(4 100)\">\n<title>%3</title>\n<polygon fill=\"#ffffff\" stroke=\"transparent\" points=\"-4,4 -4,-100 556.9873,-100 556.9873,4 -4,4\"/>\n<!-- split0 -->\n<g id=\"node1\" class=\"node\">\n<title>split0</title>\n<polygon fill=\"none\" stroke=\"#000000\" points=\"158,-76 0,-76 0,-40 158,-40 158,-76\"/>\n<text text-anchor=\"start\" x=\"8\" y=\"-55.3\" font-family=\"Times,serif\" font-weight=\"bold\" font-size=\"14.00\" fill=\"#000000\">Column_2</text>\n<text text-anchor=\"start\" x=\"88\" y=\"-55.3\" font-family=\"Times,serif\" font-size=\"14.00\" fill=\"#000000\"> ≤</text>\n<text text-anchor=\"start\" x=\"105\" y=\"-55.3\" font-family=\"Times,serif\" font-weight=\"bold\" font-size=\"14.00\" fill=\"#000000\">3.150</text>\n</g>\n<!-- leaf0 -->\n<g id=\"node2\" class=\"node\">\n<title>leaf0</title>\n<ellipse fill=\"none\" stroke=\"#000000\" cx=\"284\" cy=\"-78\" rx=\"71.4873\" ry=\"18\"/>\n<text text-anchor=\"start\" x=\"237\" y=\"-75.3\" font-family=\"Times,serif\" font-size=\"14.00\" fill=\"#000000\">leaf 0: </text>\n<text text-anchor=\"start\" x=\"286\" y=\"-75.3\" font-family=\"Times,serif\" font-weight=\"bold\" font-size=\"14.00\" fill=\"#000000\">0.930</text>\n</g>\n<!-- split0&#45;&gt;leaf0 -->\n<g id=\"edge1\" class=\"edge\">\n<title>split0&#45;&gt;leaf0</title>\n<path fill=\"none\" stroke=\"#000000\" d=\"M158.2584,-65.7325C174.2478,-67.2925 191.0337,-68.9301 206.9462,-70.4826\"/>\n<polygon fill=\"#000000\" stroke=\"#000000\" points=\"206.9671,-74.0011 217.2598,-71.4888 207.6469,-67.0342 206.9671,-74.0011\"/>\n<text text-anchor=\"middle\" x=\"181.5\" y=\"-72.8\" font-family=\"Times,serif\" font-size=\"14.00\" fill=\"#000000\">yes</text>\n</g>\n<!-- split1 -->\n<g id=\"node3\" class=\"node\">\n<title>split1</title>\n<polygon fill=\"none\" stroke=\"#000000\" points=\"363,-56 205,-56 205,-20 363,-20 363,-56\"/>\n<text text-anchor=\"start\" x=\"213\" y=\"-35.3\" font-family=\"Times,serif\" font-weight=\"bold\" font-size=\"14.00\" fill=\"#000000\">Column_3</text>\n<text text-anchor=\"start\" x=\"293\" y=\"-35.3\" font-family=\"Times,serif\" font-size=\"14.00\" fill=\"#000000\"> ≤</text>\n<text text-anchor=\"start\" x=\"310\" y=\"-35.3\" font-family=\"Times,serif\" font-weight=\"bold\" font-size=\"14.00\" fill=\"#000000\">1.750</text>\n</g>\n<!-- split0&#45;&gt;split1 -->\n<g id=\"edge4\" class=\"edge\">\n<title>split0&#45;&gt;split1</title>\n<path fill=\"none\" stroke=\"#000000\" d=\"M158.2584,-50.2675C170.2295,-49.0996 182.6472,-47.8881 194.8105,-46.7014\"/>\n<polygon fill=\"#000000\" stroke=\"#000000\" points=\"195.3396,-50.1665 204.9524,-45.712 194.6598,-43.1996 195.3396,-50.1665\"/>\n<text text-anchor=\"middle\" x=\"181.5\" y=\"-52.8\" font-family=\"Times,serif\" font-size=\"14.00\" fill=\"#000000\">no</text>\n</g>\n<!-- leaf1 -->\n<g id=\"node4\" class=\"node\">\n<title>leaf1</title>\n<ellipse fill=\"none\" stroke=\"#000000\" cx=\"481.4937\" cy=\"-58\" rx=\"71.4873\" ry=\"18\"/>\n<text text-anchor=\"start\" x=\"434.4937\" y=\"-55.3\" font-family=\"Times,serif\" font-size=\"14.00\" fill=\"#000000\">leaf 1: </text>\n<text text-anchor=\"start\" x=\"483.4937\" y=\"-55.3\" font-family=\"Times,serif\" font-weight=\"bold\" font-size=\"14.00\" fill=\"#000000\">1.038</text>\n</g>\n<!-- split1&#45;&gt;leaf1 -->\n<g id=\"edge2\" class=\"edge\">\n<title>split1&#45;&gt;leaf1</title>\n<path fill=\"none\" stroke=\"#000000\" d=\"M363.1903,-46.0195C376.8727,-47.4051 391.0769,-48.8436 404.6946,-50.2226\"/>\n<polygon fill=\"#000000\" stroke=\"#000000\" points=\"404.6737,-53.7383 414.9754,-51.2638 405.379,-46.7739 404.6737,-53.7383\"/>\n<text text-anchor=\"middle\" x=\"386.5\" y=\"-52.8\" font-family=\"Times,serif\" font-size=\"14.00\" fill=\"#000000\">yes</text>\n</g>\n<!-- leaf2 -->\n<g id=\"node5\" class=\"node\">\n<title>leaf2</title>\n<ellipse fill=\"none\" stroke=\"#000000\" cx=\"481.4937\" cy=\"-18\" rx=\"71.4873\" ry=\"18\"/>\n<text text-anchor=\"start\" x=\"434.4937\" y=\"-15.3\" font-family=\"Times,serif\" font-size=\"14.00\" fill=\"#000000\">leaf 2: </text>\n<text text-anchor=\"start\" x=\"483.4937\" y=\"-15.3\" font-family=\"Times,serif\" font-weight=\"bold\" font-size=\"14.00\" fill=\"#000000\">1.124</text>\n</g>\n<!-- split1&#45;&gt;leaf2 -->\n<g id=\"edge3\" class=\"edge\">\n<title>split1&#45;&gt;leaf2</title>\n<path fill=\"none\" stroke=\"#000000\" d=\"M363.1903,-29.9805C376.8727,-28.5949 391.0769,-27.1564 404.6946,-25.7774\"/>\n<polygon fill=\"#000000\" stroke=\"#000000\" points=\"405.379,-29.2261 414.9754,-24.7362 404.6737,-22.2617 405.379,-29.2261\"/>\n<text text-anchor=\"middle\" x=\"386.5\" y=\"-31.8\" font-family=\"Times,serif\" font-size=\"14.00\" fill=\"#000000\">no</text>\n</g>\n</g>\n</svg>\n",
      "text/plain": "<graphviz.graphs.Digraph at 0x7efd2cb8e450>"
     },
     "metadata": {}
    }
   ]
  },
  {
   "cell_type": "code",
   "metadata": {
    "cell_id": "a938a12c-217c-4e7c-98c3-58ad8f41f277",
    "tags": [],
    "deepnote_to_be_reexecuted": false,
    "source_hash": "38ea2891",
    "execution_start": 1644066897850,
    "execution_millis": 9,
    "deepnote_output_heights": [
     340
    ],
    "deepnote_cell_type": "code"
   },
   "source": "lgb.create_tree_digraph(gbm, tree_index=0, show_info=[\n    'split_gain', 'internal_value', 'internal_count',\n   'internal_weight', 'leaf_count', 'leaf_weight', 'data_percentage'])",
   "execution_count": null,
   "outputs": [
    {
     "output_type": "execute_result",
     "execution_count": 19,
     "data": {
      "image/svg+xml": "<?xml version=\"1.0\" encoding=\"UTF-8\" standalone=\"no\"?>\n<!DOCTYPE svg PUBLIC \"-//W3C//DTD SVG 1.1//EN\"\n \"http://www.w3.org/Graphics/SVG/1.1/DTD/svg11.dtd\">\n<!-- Generated by graphviz version 2.40.1 (20161225.0304)\n -->\n<!-- Title: %3 Pages: 1 -->\n<svg width=\"614pt\" height=\"241pt\"\n viewBox=\"0.00 0.00 613.55 240.51\" xmlns=\"http://www.w3.org/2000/svg\" xmlns:xlink=\"http://www.w3.org/1999/xlink\">\n<g id=\"graph0\" class=\"graph\" transform=\"scale(1 1) rotate(0) translate(4 236.5097)\">\n<title>%3</title>\n<polygon fill=\"#ffffff\" stroke=\"transparent\" points=\"-4,4 -4,-236.5097 609.5534,-236.5097 609.5534,4 -4,4\"/>\n<!-- split0 -->\n<g id=\"node1\" class=\"node\">\n<title>split0</title>\n<polygon fill=\"none\" stroke=\"#000000\" points=\"158,-186.2548 0,-186.2548 0,-94.2548 158,-94.2548 158,-186.2548\"/>\n<text text-anchor=\"start\" x=\"8\" y=\"-172.0548\" font-family=\"Times,serif\" font-weight=\"bold\" font-size=\"14.00\" fill=\"#000000\">Column_2</text>\n<text text-anchor=\"start\" x=\"88\" y=\"-172.0548\" font-family=\"Times,serif\" font-size=\"14.00\" fill=\"#000000\"> ≤</text>\n<text text-anchor=\"start\" x=\"105\" y=\"-172.0548\" font-family=\"Times,serif\" font-weight=\"bold\" font-size=\"14.00\" fill=\"#000000\">3.150</text>\n<text text-anchor=\"start\" x=\"36.5\" y=\"-158.0548\" font-family=\"Times,serif\" font-size=\"14.00\" fill=\"#000000\">46.941 gain</text>\n<text text-anchor=\"start\" x=\"37\" y=\"-144.0548\" font-family=\"Times,serif\" font-size=\"14.00\" fill=\"#000000\">1.030 value</text>\n<text text-anchor=\"start\" x=\"32\" y=\"-130.0548\" font-family=\"Times,serif\" font-size=\"14.00\" fill=\"#000000\">0.000 weight</text>\n<text text-anchor=\"start\" x=\"40.5\" y=\"-116.0548\" font-family=\"Times,serif\" font-size=\"14.00\" fill=\"#000000\">count: 100</text>\n<text text-anchor=\"start\" x=\"20\" y=\"-102.0548\" font-family=\"Times,serif\" font-size=\"14.00\" fill=\"#000000\">100.00% of data</text>\n</g>\n<!-- leaf0 -->\n<g id=\"node2\" class=\"node\">\n<title>leaf0</title>\n<ellipse fill=\"none\" stroke=\"#000000\" cx=\"293.3883\" cy=\"-187.2548\" rx=\"88.2768\" ry=\"45.011\"/>\n<text text-anchor=\"start\" x=\"246.3883\" y=\"-205.0548\" font-family=\"Times,serif\" font-size=\"14.00\" fill=\"#000000\">leaf 0: </text>\n<text text-anchor=\"start\" x=\"295.3883\" y=\"-205.0548\" font-family=\"Times,serif\" font-weight=\"bold\" font-size=\"14.00\" fill=\"#000000\">0.930</text>\n<text text-anchor=\"start\" x=\"241.8883\" y=\"-191.0548\" font-family=\"Times,serif\" font-size=\"14.00\" fill=\"#000000\">32.000 weight</text>\n<text text-anchor=\"start\" x=\"259.3883\" y=\"-177.0548\" font-family=\"Times,serif\" font-size=\"14.00\" fill=\"#000000\">count: 32</text>\n<text text-anchor=\"start\" x=\"238.8883\" y=\"-163.0548\" font-family=\"Times,serif\" font-size=\"14.00\" fill=\"#000000\">32.00% of data</text>\n</g>\n<!-- split0&#45;&gt;leaf0 -->\n<g id=\"edge1\" class=\"edge\">\n<title>split0&#45;&gt;leaf0</title>\n<path fill=\"none\" stroke=\"#000000\" d=\"M158.2212,-157.6224C172.4677,-160.7456 187.4229,-164.0242 201.981,-167.2158\"/>\n<polygon fill=\"#000000\" stroke=\"#000000\" points=\"201.4651,-170.6857 211.9826,-169.4084 202.9641,-163.8481 201.4651,-170.6857\"/>\n<text text-anchor=\"middle\" x=\"181.5\" y=\"-168.0548\" font-family=\"Times,serif\" font-size=\"14.00\" fill=\"#000000\">yes</text>\n</g>\n<!-- split1 -->\n<g id=\"node3\" class=\"node\">\n<title>split1</title>\n<polygon fill=\"none\" stroke=\"#000000\" points=\"372.3883,-138.2548 214.3883,-138.2548 214.3883,-46.2548 372.3883,-46.2548 372.3883,-138.2548\"/>\n<text text-anchor=\"start\" x=\"222.3883\" y=\"-124.0548\" font-family=\"Times,serif\" font-weight=\"bold\" font-size=\"14.00\" fill=\"#000000\">Column_3</text>\n<text text-anchor=\"start\" x=\"302.3883\" y=\"-124.0548\" font-family=\"Times,serif\" font-size=\"14.00\" fill=\"#000000\"> ≤</text>\n<text text-anchor=\"start\" x=\"319.3883\" y=\"-124.0548\" font-family=\"Times,serif\" font-weight=\"bold\" font-size=\"14.00\" fill=\"#000000\">1.750</text>\n<text text-anchor=\"start\" x=\"250.8883\" y=\"-110.0548\" font-family=\"Times,serif\" font-size=\"14.00\" fill=\"#000000\">12.465 gain</text>\n<text text-anchor=\"start\" x=\"251.3883\" y=\"-96.0548\" font-family=\"Times,serif\" font-size=\"14.00\" fill=\"#000000\">1.077 value</text>\n<text text-anchor=\"start\" x=\"241.8883\" y=\"-82.0548\" font-family=\"Times,serif\" font-size=\"14.00\" fill=\"#000000\">68.000 weight</text>\n<text text-anchor=\"start\" x=\"259.3883\" y=\"-68.0548\" font-family=\"Times,serif\" font-size=\"14.00\" fill=\"#000000\">count: 68</text>\n<text text-anchor=\"start\" x=\"238.8883\" y=\"-54.0548\" font-family=\"Times,serif\" font-size=\"14.00\" fill=\"#000000\">68.00% of data</text>\n</g>\n<!-- split0&#45;&gt;split1 -->\n<g id=\"edge4\" class=\"edge\">\n<title>split0&#45;&gt;split1</title>\n<path fill=\"none\" stroke=\"#000000\" d=\"M158.2212,-122.5178C173.1917,-119.166 188.9449,-115.639 204.1975,-112.224\"/>\n<polygon fill=\"#000000\" stroke=\"#000000\" points=\"205.1414,-115.5994 214.1351,-109.9991 203.6119,-108.7685 205.1414,-115.5994\"/>\n<text text-anchor=\"middle\" x=\"181.5\" y=\"-122.0548\" font-family=\"Times,serif\" font-size=\"14.00\" fill=\"#000000\">no</text>\n</g>\n<!-- leaf1 -->\n<g id=\"node4\" class=\"node\">\n<title>leaf1</title>\n<ellipse fill=\"none\" stroke=\"#000000\" cx=\"517.165\" cy=\"-140.2548\" rx=\"88.2768\" ry=\"45.011\"/>\n<text text-anchor=\"start\" x=\"470.165\" y=\"-158.0548\" font-family=\"Times,serif\" font-size=\"14.00\" fill=\"#000000\">leaf 1: </text>\n<text text-anchor=\"start\" x=\"519.165\" y=\"-158.0548\" font-family=\"Times,serif\" font-weight=\"bold\" font-size=\"14.00\" fill=\"#000000\">1.038</text>\n<text text-anchor=\"start\" x=\"465.665\" y=\"-144.0548\" font-family=\"Times,serif\" font-size=\"14.00\" fill=\"#000000\">37.000 weight</text>\n<text text-anchor=\"start\" x=\"483.165\" y=\"-130.0548\" font-family=\"Times,serif\" font-size=\"14.00\" fill=\"#000000\">count: 37</text>\n<text text-anchor=\"start\" x=\"462.665\" y=\"-116.0548\" font-family=\"Times,serif\" font-size=\"14.00\" fill=\"#000000\">37.00% of data</text>\n</g>\n<!-- split1&#45;&gt;leaf1 -->\n<g id=\"edge2\" class=\"edge\">\n<title>split1&#45;&gt;leaf1</title>\n<path fill=\"none\" stroke=\"#000000\" d=\"M372.5986,-109.2454C389.6251,-112.8976 407.7583,-116.7871 425.2217,-120.533\"/>\n<polygon fill=\"#000000\" stroke=\"#000000\" points=\"424.9013,-124.0439 435.413,-122.7191 426.3695,-117.1995 424.9013,-124.0439\"/>\n<text text-anchor=\"middle\" x=\"405.2767\" y=\"-121.0548\" font-family=\"Times,serif\" font-size=\"14.00\" fill=\"#000000\">yes</text>\n</g>\n<!-- leaf2 -->\n<g id=\"node5\" class=\"node\">\n<title>leaf2</title>\n<ellipse fill=\"none\" stroke=\"#000000\" cx=\"517.165\" cy=\"-45.2548\" rx=\"88.2768\" ry=\"45.011\"/>\n<text text-anchor=\"start\" x=\"470.165\" y=\"-63.0548\" font-family=\"Times,serif\" font-size=\"14.00\" fill=\"#000000\">leaf 2: </text>\n<text text-anchor=\"start\" x=\"519.165\" y=\"-63.0548\" font-family=\"Times,serif\" font-weight=\"bold\" font-size=\"14.00\" fill=\"#000000\">1.124</text>\n<text text-anchor=\"start\" x=\"465.665\" y=\"-49.0548\" font-family=\"Times,serif\" font-size=\"14.00\" fill=\"#000000\">31.000 weight</text>\n<text text-anchor=\"start\" x=\"483.165\" y=\"-35.0548\" font-family=\"Times,serif\" font-size=\"14.00\" fill=\"#000000\">count: 31</text>\n<text text-anchor=\"start\" x=\"462.665\" y=\"-21.0548\" font-family=\"Times,serif\" font-size=\"14.00\" fill=\"#000000\">31.00% of data</text>\n</g>\n<!-- split1&#45;&gt;leaf2 -->\n<g id=\"edge3\" class=\"edge\">\n<title>split1&#45;&gt;leaf2</title>\n<path fill=\"none\" stroke=\"#000000\" d=\"M372.5986,-75.6183C389.52,-72.0642 407.5345,-68.2806 424.8982,-64.6337\"/>\n<polygon fill=\"#000000\" stroke=\"#000000\" points=\"425.9663,-67.9858 435.0333,-62.505 424.5274,-61.1353 425.9663,-67.9858\"/>\n<text text-anchor=\"middle\" x=\"405.2767\" y=\"-73.0548\" font-family=\"Times,serif\" font-size=\"14.00\" fill=\"#000000\">no</text>\n</g>\n</g>\n</svg>\n",
      "text/plain": "<graphviz.graphs.Digraph at 0x7efd2cb43790>"
     },
     "metadata": {}
    }
   ]
  },
  {
   "cell_type": "code",
   "metadata": {
    "tags": [],
    "deepnote_to_be_reexecuted": false,
    "source_hash": "e7b92a3e",
    "execution_start": 1644066897907,
    "execution_millis": 2,
    "deepnote_output_heights": [
     158
    ],
    "cell_id": "00014-13cb29e2-c3a4-4e29-8d82-b0ad3e37528e",
    "deepnote_cell_type": "code"
   },
   "source": "lgb.create_tree_digraph(gbm, tree_index=1)",
   "execution_count": null,
   "outputs": [
    {
     "output_type": "execute_result",
     "execution_count": 20,
     "data": {
      "image/svg+xml": "<?xml version=\"1.0\" encoding=\"UTF-8\" standalone=\"no\"?>\n<!DOCTYPE svg PUBLIC \"-//W3C//DTD SVG 1.1//EN\"\n \"http://www.w3.org/Graphics/SVG/1.1/DTD/svg11.dtd\">\n<!-- Generated by graphviz version 2.40.1 (20161225.0304)\n -->\n<!-- Title: %3 Pages: 1 -->\n<svg width=\"561pt\" height=\"104pt\"\n viewBox=\"0.00 0.00 560.99 104.00\" xmlns=\"http://www.w3.org/2000/svg\" xmlns:xlink=\"http://www.w3.org/1999/xlink\">\n<g id=\"graph0\" class=\"graph\" transform=\"scale(1 1) rotate(0) translate(4 100)\">\n<title>%3</title>\n<polygon fill=\"#ffffff\" stroke=\"transparent\" points=\"-4,4 -4,-100 556.9873,-100 556.9873,4 -4,4\"/>\n<!-- split0 -->\n<g id=\"node1\" class=\"node\">\n<title>split0</title>\n<polygon fill=\"none\" stroke=\"#000000\" points=\"158,-76 0,-76 0,-40 158,-40 158,-76\"/>\n<text text-anchor=\"start\" x=\"8\" y=\"-55.3\" font-family=\"Times,serif\" font-weight=\"bold\" font-size=\"14.00\" fill=\"#000000\">Column_2</text>\n<text text-anchor=\"start\" x=\"88\" y=\"-55.3\" font-family=\"Times,serif\" font-size=\"14.00\" fill=\"#000000\"> ≤</text>\n<text text-anchor=\"start\" x=\"105\" y=\"-55.3\" font-family=\"Times,serif\" font-weight=\"bold\" font-size=\"14.00\" fill=\"#000000\">3.150</text>\n</g>\n<!-- leaf0 -->\n<g id=\"node2\" class=\"node\">\n<title>leaf0</title>\n<ellipse fill=\"none\" stroke=\"#000000\" cx=\"284\" cy=\"-78\" rx=\"75.2868\" ry=\"18\"/>\n<text text-anchor=\"start\" x=\"234\" y=\"-75.3\" font-family=\"Times,serif\" font-size=\"14.00\" fill=\"#000000\">leaf 0: </text>\n<text text-anchor=\"start\" x=\"283\" y=\"-75.3\" font-family=\"Times,serif\" font-weight=\"bold\" font-size=\"14.00\" fill=\"#000000\">&#45;0.090</text>\n</g>\n<!-- split0&#45;&gt;leaf0 -->\n<g id=\"edge1\" class=\"edge\">\n<title>split0&#45;&gt;leaf0</title>\n<path fill=\"none\" stroke=\"#000000\" d=\"M158.2584,-65.7325C173.1801,-67.1883 188.7955,-68.7118 203.7473,-70.1705\"/>\n<polygon fill=\"#000000\" stroke=\"#000000\" points=\"203.6833,-73.6808 213.9759,-71.1684 204.363,-66.7138 203.6833,-73.6808\"/>\n<text text-anchor=\"middle\" x=\"181.5\" y=\"-72.8\" font-family=\"Times,serif\" font-size=\"14.00\" fill=\"#000000\">yes</text>\n</g>\n<!-- split1 -->\n<g id=\"node3\" class=\"node\">\n<title>split1</title>\n<polygon fill=\"none\" stroke=\"#000000\" points=\"363,-56 205,-56 205,-20 363,-20 363,-56\"/>\n<text text-anchor=\"start\" x=\"213\" y=\"-35.3\" font-family=\"Times,serif\" font-weight=\"bold\" font-size=\"14.00\" fill=\"#000000\">Column_3</text>\n<text text-anchor=\"start\" x=\"293\" y=\"-35.3\" font-family=\"Times,serif\" font-size=\"14.00\" fill=\"#000000\"> ≤</text>\n<text text-anchor=\"start\" x=\"310\" y=\"-35.3\" font-family=\"Times,serif\" font-weight=\"bold\" font-size=\"14.00\" fill=\"#000000\">1.550</text>\n</g>\n<!-- split0&#45;&gt;split1 -->\n<g id=\"edge4\" class=\"edge\">\n<title>split0&#45;&gt;split1</title>\n<path fill=\"none\" stroke=\"#000000\" d=\"M158.2584,-50.2675C170.2295,-49.0996 182.6472,-47.8881 194.8105,-46.7014\"/>\n<polygon fill=\"#000000\" stroke=\"#000000\" points=\"195.3396,-50.1665 204.9524,-45.712 194.6598,-43.1996 195.3396,-50.1665\"/>\n<text text-anchor=\"middle\" x=\"181.5\" y=\"-52.8\" font-family=\"Times,serif\" font-size=\"14.00\" fill=\"#000000\">no</text>\n</g>\n<!-- leaf1 -->\n<g id=\"node4\" class=\"node\">\n<title>leaf1</title>\n<ellipse fill=\"none\" stroke=\"#000000\" cx=\"481.4937\" cy=\"-58\" rx=\"71.4873\" ry=\"18\"/>\n<text text-anchor=\"start\" x=\"434.4937\" y=\"-55.3\" font-family=\"Times,serif\" font-size=\"14.00\" fill=\"#000000\">leaf 1: </text>\n<text text-anchor=\"start\" x=\"483.4937\" y=\"-55.3\" font-family=\"Times,serif\" font-weight=\"bold\" font-size=\"14.00\" fill=\"#000000\">0.002</text>\n</g>\n<!-- split1&#45;&gt;leaf1 -->\n<g id=\"edge2\" class=\"edge\">\n<title>split1&#45;&gt;leaf1</title>\n<path fill=\"none\" stroke=\"#000000\" d=\"M363.1903,-46.0195C376.8727,-47.4051 391.0769,-48.8436 404.6946,-50.2226\"/>\n<polygon fill=\"#000000\" stroke=\"#000000\" points=\"404.6737,-53.7383 414.9754,-51.2638 405.379,-46.7739 404.6737,-53.7383\"/>\n<text text-anchor=\"middle\" x=\"386.5\" y=\"-52.8\" font-family=\"Times,serif\" font-size=\"14.00\" fill=\"#000000\">yes</text>\n</g>\n<!-- leaf2 -->\n<g id=\"node5\" class=\"node\">\n<title>leaf2</title>\n<ellipse fill=\"none\" stroke=\"#000000\" cx=\"481.4937\" cy=\"-18\" rx=\"71.4873\" ry=\"18\"/>\n<text text-anchor=\"start\" x=\"434.4937\" y=\"-15.3\" font-family=\"Times,serif\" font-size=\"14.00\" fill=\"#000000\">leaf 2: </text>\n<text text-anchor=\"start\" x=\"483.4937\" y=\"-15.3\" font-family=\"Times,serif\" font-weight=\"bold\" font-size=\"14.00\" fill=\"#000000\">0.080</text>\n</g>\n<!-- split1&#45;&gt;leaf2 -->\n<g id=\"edge3\" class=\"edge\">\n<title>split1&#45;&gt;leaf2</title>\n<path fill=\"none\" stroke=\"#000000\" d=\"M363.1903,-29.9805C376.8727,-28.5949 391.0769,-27.1564 404.6946,-25.7774\"/>\n<polygon fill=\"#000000\" stroke=\"#000000\" points=\"405.379,-29.2261 414.9754,-24.7362 404.6737,-22.2617 405.379,-29.2261\"/>\n<text text-anchor=\"middle\" x=\"386.5\" y=\"-31.8\" font-family=\"Times,serif\" font-size=\"14.00\" fill=\"#000000\">no</text>\n</g>\n</g>\n</svg>\n",
      "text/plain": "<graphviz.graphs.Digraph at 0x7efd2cb43f90>"
     },
     "metadata": {}
    }
   ]
  },
  {
   "cell_type": "code",
   "metadata": {
    "cell_id": "0ed20fc3-486c-457e-af26-73549e1a7b84",
    "tags": [],
    "deepnote_to_be_reexecuted": false,
    "source_hash": "6fd475e",
    "execution_start": 1644066897930,
    "execution_millis": 11,
    "deepnote_output_heights": [
     340
    ],
    "deepnote_cell_type": "code"
   },
   "source": "lgb.create_tree_digraph(gbm, tree_index=1, show_info=[\n    'split_gain', 'internal_value', 'internal_count',\n   'internal_weight', 'leaf_count', 'leaf_weight', 'data_percentage'])",
   "execution_count": null,
   "outputs": [
    {
     "output_type": "execute_result",
     "execution_count": 21,
     "data": {
      "image/svg+xml": "<?xml version=\"1.0\" encoding=\"UTF-8\" standalone=\"no\"?>\n<!DOCTYPE svg PUBLIC \"-//W3C//DTD SVG 1.1//EN\"\n \"http://www.w3.org/Graphics/SVG/1.1/DTD/svg11.dtd\">\n<!-- Generated by graphviz version 2.40.1 (20161225.0304)\n -->\n<!-- Title: %3 Pages: 1 -->\n<svg width=\"614pt\" height=\"241pt\"\n viewBox=\"0.00 0.00 613.55 240.51\" xmlns=\"http://www.w3.org/2000/svg\" xmlns:xlink=\"http://www.w3.org/1999/xlink\">\n<g id=\"graph0\" class=\"graph\" transform=\"scale(1 1) rotate(0) translate(4 236.5097)\">\n<title>%3</title>\n<polygon fill=\"#ffffff\" stroke=\"transparent\" points=\"-4,4 -4,-236.5097 609.5534,-236.5097 609.5534,4 -4,4\"/>\n<!-- split0 -->\n<g id=\"node1\" class=\"node\">\n<title>split0</title>\n<polygon fill=\"none\" stroke=\"#000000\" points=\"158,-186.2548 0,-186.2548 0,-94.2548 158,-94.2548 158,-186.2548\"/>\n<text text-anchor=\"start\" x=\"8\" y=\"-172.0548\" font-family=\"Times,serif\" font-weight=\"bold\" font-size=\"14.00\" fill=\"#000000\">Column_2</text>\n<text text-anchor=\"start\" x=\"88\" y=\"-172.0548\" font-family=\"Times,serif\" font-size=\"14.00\" fill=\"#000000\"> ≤</text>\n<text text-anchor=\"start\" x=\"105\" y=\"-172.0548\" font-family=\"Times,serif\" font-weight=\"bold\" font-size=\"14.00\" fill=\"#000000\">3.150</text>\n<text text-anchor=\"start\" x=\"36.5\" y=\"-158.0548\" font-family=\"Times,serif\" font-size=\"14.00\" fill=\"#000000\">38.022 gain</text>\n<text text-anchor=\"start\" x=\"37\" y=\"-144.0548\" font-family=\"Times,serif\" font-size=\"14.00\" fill=\"#000000\">0.000 value</text>\n<text text-anchor=\"start\" x=\"32\" y=\"-130.0548\" font-family=\"Times,serif\" font-size=\"14.00\" fill=\"#000000\">0.000 weight</text>\n<text text-anchor=\"start\" x=\"40.5\" y=\"-116.0548\" font-family=\"Times,serif\" font-size=\"14.00\" fill=\"#000000\">count: 100</text>\n<text text-anchor=\"start\" x=\"20\" y=\"-102.0548\" font-family=\"Times,serif\" font-size=\"14.00\" fill=\"#000000\">100.00% of data</text>\n</g>\n<!-- leaf0 -->\n<g id=\"node2\" class=\"node\">\n<title>leaf0</title>\n<ellipse fill=\"none\" stroke=\"#000000\" cx=\"293.3883\" cy=\"-187.2548\" rx=\"88.2768\" ry=\"45.011\"/>\n<text text-anchor=\"start\" x=\"243.3883\" y=\"-205.0548\" font-family=\"Times,serif\" font-size=\"14.00\" fill=\"#000000\">leaf 0: </text>\n<text text-anchor=\"start\" x=\"292.3883\" y=\"-205.0548\" font-family=\"Times,serif\" font-weight=\"bold\" font-size=\"14.00\" fill=\"#000000\">&#45;0.090</text>\n<text text-anchor=\"start\" x=\"241.8883\" y=\"-191.0548\" font-family=\"Times,serif\" font-size=\"14.00\" fill=\"#000000\">32.000 weight</text>\n<text text-anchor=\"start\" x=\"259.3883\" y=\"-177.0548\" font-family=\"Times,serif\" font-size=\"14.00\" fill=\"#000000\">count: 32</text>\n<text text-anchor=\"start\" x=\"238.8883\" y=\"-163.0548\" font-family=\"Times,serif\" font-size=\"14.00\" fill=\"#000000\">32.00% of data</text>\n</g>\n<!-- split0&#45;&gt;leaf0 -->\n<g id=\"edge1\" class=\"edge\">\n<title>split0&#45;&gt;leaf0</title>\n<path fill=\"none\" stroke=\"#000000\" d=\"M158.2212,-157.6224C172.4677,-160.7456 187.4229,-164.0242 201.981,-167.2158\"/>\n<polygon fill=\"#000000\" stroke=\"#000000\" points=\"201.4651,-170.6857 211.9826,-169.4084 202.9641,-163.8481 201.4651,-170.6857\"/>\n<text text-anchor=\"middle\" x=\"181.5\" y=\"-168.0548\" font-family=\"Times,serif\" font-size=\"14.00\" fill=\"#000000\">yes</text>\n</g>\n<!-- split1 -->\n<g id=\"node3\" class=\"node\">\n<title>split1</title>\n<polygon fill=\"none\" stroke=\"#000000\" points=\"372.3883,-138.2548 214.3883,-138.2548 214.3883,-46.2548 372.3883,-46.2548 372.3883,-138.2548\"/>\n<text text-anchor=\"start\" x=\"222.3883\" y=\"-124.0548\" font-family=\"Times,serif\" font-weight=\"bold\" font-size=\"14.00\" fill=\"#000000\">Column_3</text>\n<text text-anchor=\"start\" x=\"302.3883\" y=\"-124.0548\" font-family=\"Times,serif\" font-size=\"14.00\" fill=\"#000000\"> ≤</text>\n<text text-anchor=\"start\" x=\"319.3883\" y=\"-124.0548\" font-family=\"Times,serif\" font-weight=\"bold\" font-size=\"14.00\" fill=\"#000000\">1.550</text>\n<text text-anchor=\"start\" x=\"250.8883\" y=\"-110.0548\" font-family=\"Times,serif\" font-size=\"14.00\" fill=\"#000000\">10.269 gain</text>\n<text text-anchor=\"start\" x=\"251.3883\" y=\"-96.0548\" font-family=\"Times,serif\" font-size=\"14.00\" fill=\"#000000\">0.042 value</text>\n<text text-anchor=\"start\" x=\"241.8883\" y=\"-82.0548\" font-family=\"Times,serif\" font-size=\"14.00\" fill=\"#000000\">68.000 weight</text>\n<text text-anchor=\"start\" x=\"259.3883\" y=\"-68.0548\" font-family=\"Times,serif\" font-size=\"14.00\" fill=\"#000000\">count: 68</text>\n<text text-anchor=\"start\" x=\"238.8883\" y=\"-54.0548\" font-family=\"Times,serif\" font-size=\"14.00\" fill=\"#000000\">68.00% of data</text>\n</g>\n<!-- split0&#45;&gt;split1 -->\n<g id=\"edge4\" class=\"edge\">\n<title>split0&#45;&gt;split1</title>\n<path fill=\"none\" stroke=\"#000000\" d=\"M158.2212,-122.5178C173.1917,-119.166 188.9449,-115.639 204.1975,-112.224\"/>\n<polygon fill=\"#000000\" stroke=\"#000000\" points=\"205.1414,-115.5994 214.1351,-109.9991 203.6119,-108.7685 205.1414,-115.5994\"/>\n<text text-anchor=\"middle\" x=\"181.5\" y=\"-122.0548\" font-family=\"Times,serif\" font-size=\"14.00\" fill=\"#000000\">no</text>\n</g>\n<!-- leaf1 -->\n<g id=\"node4\" class=\"node\">\n<title>leaf1</title>\n<ellipse fill=\"none\" stroke=\"#000000\" cx=\"517.165\" cy=\"-140.2548\" rx=\"88.2768\" ry=\"45.011\"/>\n<text text-anchor=\"start\" x=\"470.165\" y=\"-158.0548\" font-family=\"Times,serif\" font-size=\"14.00\" fill=\"#000000\">leaf 1: </text>\n<text text-anchor=\"start\" x=\"519.165\" y=\"-158.0548\" font-family=\"Times,serif\" font-weight=\"bold\" font-size=\"14.00\" fill=\"#000000\">0.002</text>\n<text text-anchor=\"start\" x=\"465.665\" y=\"-144.0548\" font-family=\"Times,serif\" font-size=\"14.00\" fill=\"#000000\">33.000 weight</text>\n<text text-anchor=\"start\" x=\"483.165\" y=\"-130.0548\" font-family=\"Times,serif\" font-size=\"14.00\" fill=\"#000000\">count: 33</text>\n<text text-anchor=\"start\" x=\"462.665\" y=\"-116.0548\" font-family=\"Times,serif\" font-size=\"14.00\" fill=\"#000000\">33.00% of data</text>\n</g>\n<!-- split1&#45;&gt;leaf1 -->\n<g id=\"edge2\" class=\"edge\">\n<title>split1&#45;&gt;leaf1</title>\n<path fill=\"none\" stroke=\"#000000\" d=\"M372.5986,-109.2454C389.6251,-112.8976 407.7583,-116.7871 425.2217,-120.533\"/>\n<polygon fill=\"#000000\" stroke=\"#000000\" points=\"424.9013,-124.0439 435.413,-122.7191 426.3695,-117.1995 424.9013,-124.0439\"/>\n<text text-anchor=\"middle\" x=\"405.2767\" y=\"-121.0548\" font-family=\"Times,serif\" font-size=\"14.00\" fill=\"#000000\">yes</text>\n</g>\n<!-- leaf2 -->\n<g id=\"node5\" class=\"node\">\n<title>leaf2</title>\n<ellipse fill=\"none\" stroke=\"#000000\" cx=\"517.165\" cy=\"-45.2548\" rx=\"88.2768\" ry=\"45.011\"/>\n<text text-anchor=\"start\" x=\"470.165\" y=\"-63.0548\" font-family=\"Times,serif\" font-size=\"14.00\" fill=\"#000000\">leaf 2: </text>\n<text text-anchor=\"start\" x=\"519.165\" y=\"-63.0548\" font-family=\"Times,serif\" font-weight=\"bold\" font-size=\"14.00\" fill=\"#000000\">0.080</text>\n<text text-anchor=\"start\" x=\"465.665\" y=\"-49.0548\" font-family=\"Times,serif\" font-size=\"14.00\" fill=\"#000000\">35.000 weight</text>\n<text text-anchor=\"start\" x=\"483.165\" y=\"-35.0548\" font-family=\"Times,serif\" font-size=\"14.00\" fill=\"#000000\">count: 35</text>\n<text text-anchor=\"start\" x=\"462.665\" y=\"-21.0548\" font-family=\"Times,serif\" font-size=\"14.00\" fill=\"#000000\">35.00% of data</text>\n</g>\n<!-- split1&#45;&gt;leaf2 -->\n<g id=\"edge3\" class=\"edge\">\n<title>split1&#45;&gt;leaf2</title>\n<path fill=\"none\" stroke=\"#000000\" d=\"M372.5986,-75.6183C389.52,-72.0642 407.5345,-68.2806 424.8982,-64.6337\"/>\n<polygon fill=\"#000000\" stroke=\"#000000\" points=\"425.9663,-67.9858 435.0333,-62.505 424.5274,-61.1353 425.9663,-67.9858\"/>\n<text text-anchor=\"middle\" x=\"405.2767\" y=\"-73.0548\" font-family=\"Times,serif\" font-size=\"14.00\" fill=\"#000000\">no</text>\n</g>\n</g>\n</svg>\n",
      "text/plain": "<graphviz.graphs.Digraph at 0x7efd2cb4c0d0>"
     },
     "metadata": {}
    }
   ]
  },
  {
   "cell_type": "markdown",
   "source": "#### Tree index:\n\nTree index refers to the tree we are looking at. In this case, we are looking at the tree with index 0. The first estimator.  \n\n#### Node depth:\n\nIndicates the level at which the partition takes place. For example, the first row refers to node depth 1, which is the first partition (node index 0-S0).\n\n#### Node index, left child and right child, parent node:\n\nIndicates the index of the node and the index of its “children”. In other words, the nodes to which the current node partitions to create. Parent node refers to the node the current node partitions from. Since 0-S0 is the first partition, it does not have a parent node.  \n\n#### Split feature:\n\nthe feature the node partitions to create children nodes or leaves.\n\n#### Split gain:\n\nMeasures split quality through.\n\n#### Threshold:\n\nFeature value used to decide whether the observation will advance to the node’s left children or right children.  \n\n#### Missing direction:\n\nIndicates to which child node the missing values go (based on the decision type).  \n\n#### Value:\n\nThese are the raw predictions.   \n\n#### Weight\n\nUsed in the split-gain calculation.\n\n#### Count:\n\nThe count is the number of observations that fall inside the node.",
   "metadata": {
    "tags": [],
    "cell_id": "00015-8ed76e88-8938-49be-bb46-4290ff89fe88",
    "deepnote_cell_type": "markdown"
   }
  },
  {
   "cell_type": "code",
   "metadata": {
    "tags": [],
    "deepnote_to_be_reexecuted": false,
    "source_hash": "66e89155",
    "execution_start": 1644066897991,
    "execution_millis": 3,
    "deepnote_output_heights": [
     611
    ],
    "cell_id": "00016-44a4b2fb-1e28-4333-b407-633bb37b5778",
    "deepnote_cell_type": "code"
   },
   "source": "gbm.dump_model()",
   "execution_count": null,
   "outputs": [
    {
     "output_type": "execute_result",
     "execution_count": 22,
     "data": {
      "text/plain": "{'name': 'tree',\n 'version': 'v3',\n 'num_class': 1,\n 'num_tree_per_iteration': 1,\n 'label_index': 0,\n 'max_feature_idx': 3,\n 'objective': 'regression',\n 'average_output': False,\n 'feature_names': ['Column_0', 'Column_1', 'Column_2', 'Column_3'],\n 'monotone_constraints': [],\n 'feature_infos': {'Column_0': {'min_value': 4.3,\n   'max_value': 7.7,\n   'values': []},\n  'Column_1': {'min_value': 2, 'max_value': 4.2, 'values': []},\n  'Column_2': {'min_value': 1.1, 'max_value': 6.7, 'values': []},\n  'Column_3': {'min_value': 0.1, 'max_value': 2.5, 'values': []}},\n 'tree_info': [{'tree_index': 0,\n   'num_leaves': 3,\n   'num_cat': 0,\n   'shrinkage': 1,\n   'tree_structure': {'split_index': 0,\n    'split_feature': 2,\n    'split_gain': 46.941200256347656,\n    'threshold': 3.1500000000000004,\n    'decision_type': '<=',\n    'default_left': True,\n    'missing_type': 'None',\n    'internal_value': 1.03,\n    'internal_weight': 0,\n    'internal_count': 100,\n    'left_child': {'leaf_index': 0,\n     'leaf_value': 0.9301250027737115,\n     'leaf_weight': 32,\n     'leaf_count': 32},\n    'right_child': {'split_index': 1,\n     'split_feature': 3,\n     'split_gain': 12.464699745178223,\n     'threshold': 1.7500000000000002,\n     'decision_type': '<=',\n     'default_left': True,\n     'missing_type': 'None',\n     'internal_value': 1.077,\n     'internal_weight': 68,\n     'internal_count': 68,\n     'left_child': {'leaf_index': 1,\n      'leaf_value': 1.0378108111799167,\n      'leaf_weight': 37,\n      'leaf_count': 37},\n     'right_child': {'leaf_index': 2,\n      'leaf_value': 1.123774196319282,\n      'leaf_weight': 31,\n      'leaf_count': 31}}}},\n  {'tree_index': 1,\n   'num_leaves': 3,\n   'num_cat': 0,\n   'shrinkage': 0.1,\n   'tree_structure': {'split_index': 0,\n    'split_feature': 2,\n    'split_gain': 38.02239990234375,\n    'threshold': 3.1500000000000004,\n    'decision_type': '<=',\n    'default_left': True,\n    'missing_type': 'None',\n    'internal_value': 0,\n    'internal_weight': 0,\n    'internal_count': 100,\n    'left_child': {'leaf_index': 0,\n     'leaf_value': -0.0898874998325482,\n     'leaf_weight': 32,\n     'leaf_count': 32},\n    'right_child': {'split_index': 1,\n     'split_feature': 3,\n     'split_gain': 10.268799781799316,\n     'threshold': 1.5500000000000003,\n     'decision_type': '<=',\n     'default_left': True,\n     'missing_type': 'None',\n     'internal_value': 0.0423,\n     'internal_weight': 68,\n     'internal_count': 68,\n     'left_child': {'leaf_index': 1,\n      'leaf_value': 0.002279525114731355,\n      'leaf_weight': 33,\n      'leaf_count': 33},\n     'right_child': {'leaf_index': 2,\n      'leaf_value': 0.08003359273076058,\n      'leaf_weight': 35,\n      'leaf_count': 35}}}}],\n 'feature_importances': {'Column_2': 2, 'Column_3': 2},\n 'pandas_categorical': None}"
     },
     "metadata": {}
    }
   ]
  },
  {
   "cell_type": "markdown",
   "source": "\n#### `trees_to_dataframe()`\n\nParse the fitted model and return in an easy-to-read pandas DataFrame.\n\nThe returned DataFrame has the following columns.\n\n**tree_index** : int64, which tree a node belongs to. 0-based, so a value of 6, for example, means “this node is in the 7th tree”.\n\n**node_depth** : int64, how far a node is from the root of the tree. The root node has a value of 1, its direct children are 2, etc.\n\n**node_index** : str, unique identifier for a node.\n\n**left_child** : str, node_index of the child node to the left of a split. None for leaf nodes.\n\n**right_child** : str, node_index of the child node to the right of a split. None for leaf nodes.\n\n**parent_index** : str, node_index of this node’s parent. None for the root node.\n\n**split_feature** : str, name of the feature used for splitting. None for leaf nodes.\n\n**split_gain** : float64, gain from adding this split to the tree. NaN for leaf nodes.\n\n**threshold** : float64, value of the feature used to decide which side of the split a record will go down. NaN for leaf nodes.\n\n**decision_type** : str, logical operator describing how to compare a value to threshold. For example, split_feature = \"Column_10\", threshold = 15, decision_type = \"<=\" means that records where Column_10 <= 15 follow the left side of the split, otherwise follows the right side of the split. None for leaf nodes.\n\n**missing_direction** : str, split direction that missing values should go to. None for leaf nodes.\n\n**missing_type** : str, describes what types of values are treated as missing.\n\n**value** : float64, predicted value for this leaf node, multiplied by the learning rate.\n\n**weight** : float64 or int64, sum of hessian (second-order derivative of objective), summed over observations that fall in this node.\n\n**count** : int64, number of records in the training data that fall into this node.\n\n#### Returns\n\n**result** – Returns a pandas DataFrame of the parsed model.\n#### Return type\n\npandas DataFrame\n\n",
   "metadata": {
    "tags": [],
    "cell_id": "00017-782b0ad2-c5d6-456d-99c0-dd9d0ac080d3",
    "deepnote_cell_type": "markdown"
   }
  },
  {
   "cell_type": "code",
   "metadata": {
    "tags": [],
    "deepnote_to_be_reexecuted": false,
    "source_hash": "4f7b0625",
    "execution_start": 1644066897992,
    "execution_millis": 0,
    "cell_id": "00018-d730a4f2-eb7c-4113-b572-7caabbc6fca8",
    "deepnote_cell_type": "code"
   },
   "source": "\nwith open('gbm_dump_iris_2_tree.pickle', 'wb') as f:\n    # Pickle using the highest protocol available.\n    pickle.dump(gbm, f, pickle.HIGHEST_PROTOCOL)",
   "execution_count": null,
   "outputs": []
  },
  {
   "cell_type": "markdown",
   "source": "<a style='text-decoration:none;line-height:16px;display:flex;color:#5B5B62;padding:10px;justify-content:end;' href='https://deepnote.com?utm_source=created-in-deepnote-cell&projectId=de072003-a9db-4342-8067-19a4b45feff1' target=\"_blank\">\n<img alt='Created in deepnote.com' style='display:inline;max-height:16px;margin:0px;margin-right:7.5px;' src='data:image/svg+xml;base64,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' > </img>\nCreated in <span style='font-weight:600;margin-left:4px;'>Deepnote</span></a>",
   "metadata": {
    "tags": [],
    "created_in_deepnote_cell": true,
    "deepnote_cell_type": "markdown"
   }
  }
 ],
 "nbformat": 4,
 "nbformat_minor": 2,
 "metadata": {
  "orig_nbformat": 2,
  "deepnote": {
   "is_reactive": false
  },
  "deepnote_notebook_id": "c29119bb-14c4-4588-b4fb-3d18e9f96270",
  "deepnote_execution_queue": []
 }
}