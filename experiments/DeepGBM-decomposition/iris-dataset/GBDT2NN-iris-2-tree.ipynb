{
 "cells": [
  {
   "cell_type": "code",
   "metadata": {
    "tags": [],
    "deepnote_to_be_reexecuted": false,
    "source_hash": "a276618",
    "execution_start": 1644071339079,
    "execution_millis": 2654,
    "cell_id": "7ff1171c-1d0f-4308-93b1-bc8e3439e648",
    "deepnote_cell_type": "code"
   },
   "source": "import argparse, os, logging, random, time\nimport numpy as np\nimport math\nimport time\nimport scipy.sparse\nimport lightgbm as lgb\n# import data_helpers as dh\nfrom sklearn import datasets\nfrom sklearn.model_selection import train_test_split\n\nimport sklearn.metrics\n\nimport torch\nimport torch.nn as nn\nimport torchvision\nimport torchvision.transforms as transforms\n# import tensorboardX as tbx\nfrom sklearn.utils.extmath import softmax\n\nfrom torch.autograd import Variable\nfrom torch.nn.parameter import Parameter\nfrom torch.optim import Optimizer, AdamW\nimport gc\n\n\nimport pdb\n\ndevice = torch.device('cuda' if torch.cuda.is_available() else 'cpu')\n\nif torch.cuda.is_available():\n    torch.set_default_tensor_type(torch.cuda.FloatTensor)\n    type_prefix = torch.cuda\nelse:\n    type_prefix = torch",
   "outputs": [],
   "execution_count": 1
  },
  {
   "cell_type": "code",
   "metadata": {
    "tags": [],
    "deepnote_to_be_reexecuted": false,
    "source_hash": "2428cce7",
    "execution_start": 1644071341745,
    "execution_millis": 4,
    "cell_id": "00001-b1007602-e1fb-4eb8-af61-9bee00d3a8b8",
    "deepnote_cell_type": "code"
   },
   "source": "from importlib import reload \n\nreload(logging)\nlogger = logging.getLogger()\nlogger.setLevel(logging.INFO)\n# create file handler which logs even debug messages\nfh = logging.FileHandler('iris-2-tree-gbdt2nn.log')\nfh.setLevel(logging.INFO)\n# create console handler with a higher log level\nch = logging.StreamHandler()\nch.setLevel(logging.ERROR)\n# create formatter and add it to the handlers\nformatter = logging.Formatter('%(asctime)s - %(name)s - %(levelname)s - %(message)s')\nch.setFormatter(formatter)\nfh.setFormatter(formatter)\n# add the handlers to logger\nlogger.addHandler(ch)\nlogger.addHandler(fh)",
   "outputs": [],
   "execution_count": 2
  },
  {
   "cell_type": "code",
   "metadata": {
    "tags": [],
    "deepnote_to_be_reexecuted": false,
    "source_hash": "47cd33c8",
    "execution_start": 1644071341753,
    "execution_millis": 13,
    "cell_id": "00002-51223454-d15c-49a4-9255-feae8ca960db",
    "deepnote_cell_type": "code"
   },
   "source": "def one_hot(y, numslot, mask=None):\n    y_tensor = y.type(type_prefix.LongTensor).reshape(-1, 1)\n    y_one_hot = torch.zeros(y_tensor.size()[0], numslot, device=device, dtype=torch.float32, requires_grad=False).scatter_(1, y_tensor, 1)\n    if mask is not None:\n        y_one_hot = y_one_hot * mask\n    y_one_hot = y_one_hot.reshape(y.shape[0], -1)\n    return y_one_hot",
   "outputs": [],
   "execution_count": 3
  },
  {
   "cell_type": "code",
   "metadata": {
    "tags": [],
    "deepnote_to_be_reexecuted": false,
    "source_hash": "ff6ce09a",
    "execution_start": 1644071341773,
    "execution_millis": 43,
    "cell_id": "00003-451edc25-837d-4d2d-8561-8eaedc28a7e3",
    "deepnote_cell_type": "code"
   },
   "source": "class BatchDense(nn.Module):\n    def __init__(self, batch, in_features, out_features, bias_init=None):\n        super(BatchDense, self).__init__()\n        self.batch = batch\n        self.in_features = in_features\n        self.out_features = out_features\n        self.weight = Parameter(torch.Tensor(batch, in_features, out_features))\n        self.bias = Parameter(torch.Tensor(batch, 1, out_features))\n        self.reset_parameters(bias_init)\n    def reset_parameters(self, bias_init=None):\n        stdv = math.sqrt(6.0 /(self.in_features + self.out_features))\n        self.weight.data.uniform_(-stdv, stdv)\n        if bias_init is not None:\n            self.bias.data = torch.from_numpy(bias_init)\n        else:\n            self.bias.data.fill_(0)\n    def forward(self, x):\n        size = x.size()\n        # Todo: avoid the swap axis\n        x = x.view(x.size(0), self.batch, -1)\n        out = x.transpose(0, 1).contiguous()\n        out = torch.baddbmm(self.bias, out, self.weight)\n        out = out.transpose(0, 1).contiguous()\n        out = out.view(x.size(0), -1)\n        return out",
   "outputs": [],
   "execution_count": 4
  },
  {
   "cell_type": "code",
   "metadata": {
    "tags": [],
    "deepnote_to_be_reexecuted": false,
    "source_hash": "4ab3b51b",
    "execution_start": 1644071341817,
    "execution_millis": 8,
    "cell_id": "00004-2c340929-6ea9-4899-993c-8c75633f86f0",
    "deepnote_cell_type": "code"
   },
   "source": "class GBDT2NN(nn.Module):\n    def __init__(self, input_size, used_features,\n                 tree_layers, output_w, output_b, task):\n        super(GBDT2NN, self).__init__()\n        print('Init GBDT2NN')\n        self.task = task\n        self.n_models = len(used_features)\n        self.tree_layers = tree_layers\n        n_feature = len(used_features[0])\n        used_features = np.asarray(used_features).reshape(-1)\n        self.used_features = Variable(torch.from_numpy(used_features).to(device), requires_grad=False)\n        self.relu = nn.ReLU()\n        self.sigmoid = nn.Sigmoid()\n        assert len(tree_layers) > 0\n        self.bdenses = nn.ModuleList()\n        self.bns = nn.ModuleList()\n        self.bdenses.append(BatchDense(self.n_models, n_feature, tree_layers[0]))\n        for i in range(1, len(tree_layers)):\n            self.bdenses.append(BatchDense(self.n_models, tree_layers[i-1], tree_layers[i]))\n        for i in range(len(tree_layers)-1):\n            self.bns.append(nn.BatchNorm1d(tree_layers[i] * self.n_models))\n        self.out_weight = Variable(torch.from_numpy(output_w).to(device), requires_grad=False)\n        self.out_bias = Variable(torch.from_numpy(output_b).to(device), requires_grad=False)\n        print('Init GBDT2NN succeed!')\n        if self.task == 'regression':\n            self.criterion = nn.MSELoss()\n        else:\n            self.criterion = nn.BCELoss()\n\n    def batchmul(self, x, f):\n        out = x.view(x.size(0), self.n_models, -1)\n        out = f(out)\n        out = out.view(x.size(0), -1)\n        return out\n    def lastlayer(self, x):\n        out = torch.index_select(x, dim=1, index=self.used_features)\n        for i in range(len(self.bdenses) - 1):\n            out = self.batchmul(out, self.bdenses[i])\n            out = self.bns[i](out)\n            out = self.relu(out)\n        return out\n    \n    def forward(self, x):\n        out = self.lastlayer(x.float())\n        pred = self.batchmul(out, self.bdenses[-1])\n        # logging.info(f'self.out_bias: {self.out_bias}.\\n \\\n        # pred: {pred}.\\n  \\\n        # self.out_weight: {self.out_weight}.\\n ')\n    \n        out = torch.addmm(self.out_bias, pred, self.out_weight)\n\n        if self.task != 'regression':\n            return self.sigmoid(out), pred\n        return out, pred\n\n    def emb_loss(self, emb_pred, emb_target):\n        loss_weight = torch.abs(torch.sum(self.out_weight, 1))\n        l2_loss = nn.MSELoss(reduction='none')(emb_pred, emb_target)*loss_weight\n        return torch.mean(torch.sum(l2_loss, dim=1))\n\n    def joint_loss(self, out, target, emb_pred, emb_target, ratio):\n        return (1-ratio) * self.criterion(out, target) + ratio * self.emb_loss(emb_pred, emb_target)\n\n    def true_loss(self, out, target):\n        return self.criterion(out, target)\n",
   "outputs": [],
   "execution_count": 5
  },
  {
   "cell_type": "code",
   "metadata": {
    "tags": [],
    "deepnote_to_be_reexecuted": false,
    "source_hash": "f27db70a",
    "execution_start": 1644071341826,
    "execution_millis": 56,
    "cell_id": "00005-edaa0a6c-d746-4c6c-bfc1-53190bb534ad",
    "deepnote_cell_type": "code"
   },
   "source": "def eval_metrics(task, true, pred):\n    if task == 'binary':\n        logloss = sklearn.metrics.log_loss(true.astype(np.float64), pred.astype(np.float64))\n        auc = sklearn.metrics.roc_auc_score(true, pred)\n        # error = 1-sklearn.metrics.accuracy_score(true,(pred+0.5).astype(np.int32))\n        return (logloss, auc)#, error)\n    else:\n        mseloss = sklearn.metrics.mean_squared_error(true, pred)\n        return mseloss\n\ndef EvalTestset(test_x, test_y, model, test_batch_size, test_x_opt=None):\n    test_len = test_x.shape[0]\n    test_num_batch = math.ceil(test_len / test_batch_size)\n    sum_loss = 0.0\n    y_preds = []\n    model.eval()\n    with torch.no_grad():\n        for jdx in range(test_num_batch):\n            tst_st = jdx * test_batch_size\n            tst_ed = min(test_len, tst_st + test_batch_size)\n            inputs = torch.from_numpy(test_x[tst_st:tst_ed].astype(np.float32)).to(device)\n            if test_x_opt is not None:\n                inputs_opt = torch.from_numpy(test_x_opt[tst_st:tst_ed].astype(np.float32)).to(device)\n                outputs = model(inputs, inputs_opt)\n            else:\n                outputs = model(inputs)\n            targets = torch.from_numpy(test_y[tst_st:tst_ed]).to(device)\n            if isinstance(outputs, tuple):\n                outputs = outputs[0]\n            y_preds.append(outputs)\n            loss_tst = model.true_loss(outputs, targets).item()\n            sum_loss += (tst_ed - tst_st) * loss_tst\n    return sum_loss / test_len, np.concatenate(y_preds, 0)\n\ndef TrainWithLog(loss_dr, loss_init, loss_de, log_freq, test_freq, task, test_batch_size,                \n                train_x, train_y, \n                 train_y_opt, test_x, test_y, model, opt,\n                 epoch, batch_size, n_output, key=\"\",\n                 train_x_opt=None, test_x_opt=None):\n    # trn_writer = tf.summary.FileWriter(summaryPath+plot_title+key+\"_output/train\")\n    # tst_writer = tf.summary.FileWriter(summaryPath+plot_title+key+\"_output/test\")\n    if isinstance(test_x, scipy.sparse.csr_matrix):\n        test_x = test_x.todense()\n    train_len = train_x.shape[0]\n    global_iter = 0\n    trn_batch_size = batch_size\n    train_num_batch = math.ceil(train_len / trn_batch_size)\n    total_iterations = epoch * train_num_batch\n    start_time = time.time()\n    total_time = 0.0\n    min_loss = float(\"Inf\")\n    # min_error = float(\"Inf\")\n    max_auc = 0.0\n    for epoch in range(epoch):\n        shuffled_indices = np.random.permutation(np.arange(train_x.shape[0]))\n        Loss_trn_epoch = 0.0\n        Loss_trn_log = 0.0\n        log_st = 0\n        for local_iter in range(train_num_batch):\n            trn_st = local_iter * trn_batch_size\n            trn_ed = min(train_len, trn_st + trn_batch_size)\n            batch_trn_x = train_x[shuffled_indices[trn_st:trn_ed]]\n            if isinstance(batch_trn_x, scipy.sparse.csr_matrix):\n                batch_trn_x = batch_trn_x.todense()\n            inputs = torch.from_numpy(batch_trn_x.astype(np.float32)).to(device)\n            targets = torch.from_numpy(train_y[shuffled_indices[trn_st:trn_ed],:]).to(device)\n            model.train()\n            if train_x_opt is not None:\n                inputs_opt = torch.from_numpy(train_x_opt[shuffled_indices[trn_st:trn_ed]].astype(np.float32)).to(device)\n                outputs = model(inputs, inputs_opt)\n            else:\n                outputs = model(inputs)\n            opt.zero_grad()\n            if isinstance(outputs, tuple) and train_y_opt is not None:\n                # targets_inner = torch.from_numpy(s_train_y_opt[trn_st:trn_ed,:]).to(device)\n                targets_inner = torch.from_numpy(train_y_opt[shuffled_indices[trn_st:trn_ed],:]).to(device)\n                loss_ratio = loss_init * max(0.3,loss_dr ** (epoch // loss_de))#max(0.5, args.loss_dr ** (epoch // args.loss_de))\n                if len(outputs) == 3:\n                    loss_val = model.joint_loss(outputs[0], targets, outputs[1], targets_inner, loss_ratio, outputs[2])\n                else:\n                    loss_val = model.joint_loss(outputs[0], targets, outputs[1], targets_inner, loss_ratio)\n                loss_val.backward()\n                loss_val = model.true_loss(outputs[0], targets)\n            elif isinstance(outputs, tuple):\n                loss_val = model.true_loss(outputs[0], targets)\n                loss_val.backward()\n            else:\n                loss_val = model.true_loss(outputs, targets)\n                loss_val.backward()\n            opt.step()\n            loss_val = loss_val.item()\n            global_iter += 1\n            Loss_trn_epoch += (trn_ed - trn_st) * loss_val\n            Loss_trn_log += (trn_ed - trn_st) * loss_val\n            if global_iter % log_freq == 0:\n                print(key+\"Epoch-{:0>3d} {:>5d} Batches, Step {:>6d}, Training Loss: {:>9.6f} (AllAvg {:>9.6f})\"\n                            .format(epoch, local_iter + 1, global_iter, Loss_trn_log/(trn_ed-log_st), Loss_trn_epoch/trn_ed))\n                \n                # trn_summ = tf.Summary()\n                # trn_summ.value.add(tag=args.data+ \"/Train/Loss\", simple_value = Loss_trn_log/(trn_ed-log_st))\n                # trn_writer.add_summary(trn_summ, global_iter)\n                log_st = trn_ed\n                Loss_trn_log = 0.0\n            if global_iter % test_freq == 0 or local_iter == train_num_batch - 1:\n                if model == 'deepgbm' or model == 'd1':\n                    try:\n                        print('Alpha: '+str(model.alpha))\n                        print('Beta: '+str(model.beta))\n                    except:\n                        pass\n                # tst_summ = tf.Summary()\n                torch.cuda.empty_cache()\n                test_loss, pred_y = EvalTestset(test_x, test_y, model, test_batch_size, test_x_opt)\n                current_used_time = time.time() - start_time\n                start_time = time.time()\n                total_time += current_used_time\n                remaining_time = (total_iterations - (global_iter) ) * (total_time / (global_iter))\n                if task == 'binary':\n                    metrics = eval_metrics(task, test_y, pred_y)\n                    _, test_auc = metrics\n                    # min_error = min(min_error, test_error)\n                    max_auc = max(max_auc, test_auc)\n                    # tst_summ.value.add(tag=args.data+\"/Test/Eval/Error\", simple_value = test_error)\n                    # tst_summ.value.add(tag=args.data+\"/Test/Eval/AUC\", simple_value = test_auc)\n                    # tst_summ.value.add(tag=args.data+\"/Test/Eval/Min_Error\", simple_value = min_error)\n                    # tst_summ.value.add(tag=args.data+\"/Test/Eval/Max_AUC\", simple_value = max_auc)\n                    print(key+\"Evaluate Result:\\nEpoch-{:0>3d} {:>5d} Batches, Step {:>6d}, Testing Loss: {:>9.6f}, Testing AUC: {:8.6f}, Used Time: {:>5.1f}m, Remaining Time: {:5.1f}m\"\n                            .format(epoch, local_iter + 1, global_iter, test_loss, test_auc, total_time/60.0, remaining_time/60.0))\n                else:\n                    print(key+\"Evaluate Result:\\nEpoch-{:0>3d} {:>5d} Batches, Step {:>6d}, Testing Loss: {:>9.6f}, Used Time: {:>5.1f}m, Remaining Time: {:5.1f}m\"\n                            .format(epoch, local_iter + 1, global_iter, test_loss, total_time/60.0, remaining_time/60.0))\n                min_loss = min(min_loss, test_loss)\n                # tst_summ.value.add(tag=args.data+\"/Test/Loss\", simple_value = test_loss)\n                # tst_summ.value.add(tag=args.data+\"/Test/Min_Loss\", simple_value = min_loss)\n                print(\"-------------------------------------------------------------------------------\")\n                # tst_writer.add_summary(tst_summ, global_iter)\n                # tst_writer.flush()\n        print(\"Best Metric: %s\"%(str(max_auc) if task=='binary' else str(min_loss)))\n        print(\"####################################################################################\")\n    print(\"Final Best Metric: %s\"%(str(max_auc) if task=='binary' else str(min_loss)))\n    return min_loss        \n\ndef GetEmbPred(model, fun, X, test_batch_size):\n    model.eval()\n    tst_len = X.shape[0]\n    test_num_batch = math.ceil(tst_len / test_batch_size)\n    y_preds = []\n    with torch.no_grad():\n        for jdx in range(test_num_batch):\n            tst_st = jdx * test_batch_size\n            tst_ed = min(tst_len, tst_st + test_batch_size)\n            inputs = torch.from_numpy(X[tst_st:tst_ed]).to(device)\n            t_preds = fun(inputs).data.cpu().numpy()\n            y_preds.append(t_preds)\n        y_preds = np.concatenate(y_preds, 0)\n    return y_preds\n",
   "outputs": [],
   "execution_count": 6
  },
  {
   "cell_type": "code",
   "metadata": {
    "tags": [],
    "deepnote_to_be_reexecuted": false,
    "source_hash": "74b81f8d",
    "execution_start": 1644071341891,
    "execution_millis": 13,
    "cell_id": "00008-03a22cd4-dbe0-40d5-88b7-c601f5d524ec",
    "deepnote_cell_type": "code"
   },
   "source": "iris = datasets.load_iris()\nX = iris.data\ny = iris.target\ntrain_x, test_x, train_y, test_y = train_test_split(\n    X, y, test_size=0.33, random_state=42)\n",
   "outputs": [],
   "execution_count": 7
  },
  {
   "cell_type": "code",
   "metadata": {
    "tags": [],
    "deepnote_to_be_reexecuted": false,
    "source_hash": "51e093d5",
    "execution_start": 1644071341911,
    "execution_millis": 7,
    "deepnote_output_heights": [
     21
    ],
    "cell_id": "00009-c41e40bd-08ac-45f6-8fa8-7fa3aa7be323",
    "deepnote_cell_type": "code"
   },
   "source": "train_y = train_y.reshape(-1, 1)\ntest_y = test_y.reshape(-1, 1)",
   "outputs": [],
   "execution_count": 8
  },
  {
   "cell_type": "code",
   "metadata": {
    "tags": [],
    "deepnote_to_be_reexecuted": false,
    "source_hash": "4b73da7b",
    "execution_start": 1644071341929,
    "execution_millis": 29,
    "deepnote_output_heights": [
     21
    ],
    "cell_id": "00010-0378e8d2-0550-433e-a13c-ec173c4aaa49",
    "deepnote_cell_type": "code"
   },
   "source": "type(train_x)",
   "outputs": [
    {
     "output_type": "execute_result",
     "execution_count": 9,
     "data": {
      "text/plain": "numpy.ndarray"
     },
     "metadata": {}
    }
   ],
   "execution_count": 9
  },
  {
   "cell_type": "code",
   "metadata": {
    "tags": [],
    "deepnote_to_be_reexecuted": false,
    "source_hash": "c811bca8",
    "execution_start": 1644071341953,
    "execution_millis": 13,
    "cell_id": "00011-e041a9f7-f138-4cbc-b9cb-3f7bd33f9a73",
    "deepnote_cell_type": "code"
   },
   "source": "import pickle\nwith open('n_models_iris_2.pickle', 'rb') as f:\n    # Pickle using the highest protocol available.\n    n_models = pickle.load(f)\n    \nwith open('max_ntree_per_split_iris_2.pickle', 'rb') as f:\n    # Pickle using the highest protocol available.\n    max_ntree_per_split = pickle.load(f)\n    \nwith open('group_average_iris_2.pickle', 'rb') as f:\n    # Pickle using the highest protocol available.\n    group_average = pickle.load(f)\n\nwith open('leaf_preds_iris_2.pickle', 'rb') as f:\n    # Pickle using the highest protocol available.\n    leaf_preds = pickle.load(f)\n    \nwith open('test_leaf_preds_iris_2.pickle', 'rb') as f:\n    # Pickle using the highest protocol available.\n    test_leaf_preds = pickle.load(f)\n    \nwith open('tree_outputs_iris_2.pickle', 'rb') as f:\n    # Pickle using the highest protocol available.\n    tree_outputs = pickle.load(f) \n\nwith open('used_features_iris_2.pickle', 'rb') as f:\n    # Pickle using the highest protocol available.\n    used_features = pickle.load(f)",
   "outputs": [],
   "execution_count": 10
  },
  {
   "cell_type": "code",
   "metadata": {
    "tags": [],
    "deepnote_to_be_reexecuted": false,
    "source_hash": "e67db9fa",
    "execution_start": 1644071342015,
    "execution_millis": 0,
    "cell_id": "00013-ab0554fa-bfe5-4ff4-a5e2-0a580442c5dc",
    "deepnote_cell_type": "code"
   },
   "source": "import pickle\nwith open('train_embs_iris_2.pickle', 'rb') as f:\n    # Pickle using the highest protocol available.\n    train_embs = pickle.load(f)\nlogging.info(f'train_embs: {train_embs}.')\n    \nwith open('output_w_iris_2.pickle', 'rb') as f:\n    # Pickle using the highest protocol available.\n    output_w = pickle.load(f)\nlogging.info(f'output_w: {output_w}.')\n    \nwith open('output_b_iris_2.pickle', 'rb') as f:\n    # Pickle using the highest protocol available.\n    output_b = pickle.load(f)\nlogging.info(f'output_b: {output_b}.')",
   "outputs": [],
   "execution_count": 11
  },
  {
   "cell_type": "code",
   "metadata": {
    "tags": [],
    "deepnote_to_be_reexecuted": false,
    "source_hash": "278fd464",
    "execution_start": 1644071458466,
    "execution_millis": 257,
    "cell_id": "00014-1a2df8ea-d845-4e0c-b100-b0bc78ddc32a",
    "deepnote_output_heights": [
     null,
     611
    ],
    "deepnote_cell_type": "code"
   },
   "source": "\nloss_init = 1.0\nloss_dr = 0.7\nloss_de = 2\nlog_freq = 1\ntest_freq = 1\nkey = \"\"\nseeds = [1] #2,3,4,5 \ntree_layers = [2,2]\nlr = 1e-3\nl2_reg = 1e-6\nmax_epoch = 5\nbatch_size = 12\ntest_batch_size =12\nembsize = 3\ntask = \"regression\"\n\n\nn_output = train_y.shape[1]\n\n# tree_layers = [int(x) for x in tree_layers.split(',')]\ntree_layers.append(embsize)\n\nconcate_train_x = np.concatenate([train_x, np.zeros((train_x.shape[0],1), dtype=np.float32)], axis=-1)\nconcate_test_x = np.concatenate([test_x, np.zeros((test_x.shape[0],1), dtype=np.float32)], axis=-1)\ntree_outputs = train_embs\nfor seed in seeds:\n    np.random.seed(seed)\n    torch.cuda.manual_seed_all(seed)\n    gbdt2nn_model = GBDT2NN(concate_train_x.shape[1], \n                            np.asarray(used_features,dtype=np.int64),\n                            tree_layers,\n                            output_w, output_b, task).to(device)\n    opt = AdamW(gbdt2nn_model.parameters(), lr=lr, weight_decay=l2_reg, amsgrad=False)\n\n    TrainWithLog( loss_dr, loss_init, loss_de, log_freq, test_freq, task, test_batch_size,\n                 concate_train_x, train_y, tree_outputs,\n                    concate_test_x, test_y, gbdt2nn_model, opt,\n                    max_epoch, batch_size, n_output, key)\n    _,pred_y = EvalTestset(concate_test_x, test_y, gbdt2nn_model, test_batch_size)\n    metric = eval_metrics(task, test_y, pred_y)\n    print('Final metrics: %s'%str(metric))",
   "outputs": [
    {
     "name": "stdout",
     "text": "Init GBDT2NN\nInit GBDT2NN succeed!\n",
     "output_type": "stream"
    },
    {
     "output_type": "error",
     "ename": "RuntimeError",
     "evalue": "Found dtype Long but expected Float",
     "traceback": [
      "\u001b[0;31m---------------------------------------------------------------------------\u001b[0m",
      "\u001b[0;31mRuntimeError\u001b[0m                              Traceback (most recent call last)",
      "\u001b[0;32m<ipython-input-13-90ea99c8552a>\u001b[0m in \u001b[0;36m<module>\u001b[0;34m\u001b[0m\n\u001b[1;32m     36\u001b[0m                  \u001b[0mconcate_train_x\u001b[0m\u001b[0;34m,\u001b[0m \u001b[0mtrain_y\u001b[0m\u001b[0;34m,\u001b[0m \u001b[0mtree_outputs\u001b[0m\u001b[0;34m,\u001b[0m\u001b[0;34m\u001b[0m\u001b[0;34m\u001b[0m\u001b[0m\n\u001b[1;32m     37\u001b[0m                     \u001b[0mconcate_test_x\u001b[0m\u001b[0;34m,\u001b[0m \u001b[0mtest_y\u001b[0m\u001b[0;34m,\u001b[0m \u001b[0mgbdt2nn_model\u001b[0m\u001b[0;34m,\u001b[0m \u001b[0mopt\u001b[0m\u001b[0;34m,\u001b[0m\u001b[0;34m\u001b[0m\u001b[0;34m\u001b[0m\u001b[0m\n\u001b[0;32m---> 38\u001b[0;31m                     max_epoch, batch_size, n_output, key)\n\u001b[0m\u001b[1;32m     39\u001b[0m     \u001b[0m_\u001b[0m\u001b[0;34m,\u001b[0m\u001b[0mpred_y\u001b[0m \u001b[0;34m=\u001b[0m \u001b[0mEvalTestset\u001b[0m\u001b[0;34m(\u001b[0m\u001b[0mconcate_test_x\u001b[0m\u001b[0;34m,\u001b[0m \u001b[0mtest_y\u001b[0m\u001b[0;34m,\u001b[0m \u001b[0mgbdt2nn_model\u001b[0m\u001b[0;34m,\u001b[0m \u001b[0mtest_batch_size\u001b[0m\u001b[0;34m)\u001b[0m\u001b[0;34m\u001b[0m\u001b[0;34m\u001b[0m\u001b[0m\n\u001b[1;32m     40\u001b[0m     \u001b[0mmetric\u001b[0m \u001b[0;34m=\u001b[0m \u001b[0meval_metrics\u001b[0m\u001b[0;34m(\u001b[0m\u001b[0mtask\u001b[0m\u001b[0;34m,\u001b[0m \u001b[0mtest_y\u001b[0m\u001b[0;34m,\u001b[0m \u001b[0mpred_y\u001b[0m\u001b[0;34m)\u001b[0m\u001b[0;34m\u001b[0m\u001b[0;34m\u001b[0m\u001b[0m\n",
      "\u001b[0;32m<ipython-input-6-5215a7c3b882>\u001b[0m in \u001b[0;36mTrainWithLog\u001b[0;34m(loss_dr, loss_init, loss_de, log_freq, test_freq, task, test_batch_size, train_x, train_y, train_y_opt, test_x, test_y, model, opt, epoch, batch_size, n_output, key, train_x_opt, test_x_opt)\u001b[0m\n\u001b[1;32m     80\u001b[0m                 \u001b[0;32melse\u001b[0m\u001b[0;34m:\u001b[0m\u001b[0;34m\u001b[0m\u001b[0;34m\u001b[0m\u001b[0m\n\u001b[1;32m     81\u001b[0m                     \u001b[0mloss_val\u001b[0m \u001b[0;34m=\u001b[0m \u001b[0mmodel\u001b[0m\u001b[0;34m.\u001b[0m\u001b[0mjoint_loss\u001b[0m\u001b[0;34m(\u001b[0m\u001b[0moutputs\u001b[0m\u001b[0;34m[\u001b[0m\u001b[0;36m0\u001b[0m\u001b[0;34m]\u001b[0m\u001b[0;34m,\u001b[0m \u001b[0mtargets\u001b[0m\u001b[0;34m,\u001b[0m \u001b[0moutputs\u001b[0m\u001b[0;34m[\u001b[0m\u001b[0;36m1\u001b[0m\u001b[0;34m]\u001b[0m\u001b[0;34m,\u001b[0m \u001b[0mtargets_inner\u001b[0m\u001b[0;34m,\u001b[0m \u001b[0mloss_ratio\u001b[0m\u001b[0;34m)\u001b[0m\u001b[0;34m\u001b[0m\u001b[0;34m\u001b[0m\u001b[0m\n\u001b[0;32m---> 82\u001b[0;31m                 \u001b[0mloss_val\u001b[0m\u001b[0;34m.\u001b[0m\u001b[0mbackward\u001b[0m\u001b[0;34m(\u001b[0m\u001b[0;34m)\u001b[0m\u001b[0;34m\u001b[0m\u001b[0;34m\u001b[0m\u001b[0m\n\u001b[0m\u001b[1;32m     83\u001b[0m                 \u001b[0mloss_val\u001b[0m \u001b[0;34m=\u001b[0m \u001b[0mmodel\u001b[0m\u001b[0;34m.\u001b[0m\u001b[0mtrue_loss\u001b[0m\u001b[0;34m(\u001b[0m\u001b[0moutputs\u001b[0m\u001b[0;34m[\u001b[0m\u001b[0;36m0\u001b[0m\u001b[0;34m]\u001b[0m\u001b[0;34m,\u001b[0m \u001b[0mtargets\u001b[0m\u001b[0;34m)\u001b[0m\u001b[0;34m\u001b[0m\u001b[0;34m\u001b[0m\u001b[0m\n\u001b[1;32m     84\u001b[0m             \u001b[0;32melif\u001b[0m \u001b[0misinstance\u001b[0m\u001b[0;34m(\u001b[0m\u001b[0moutputs\u001b[0m\u001b[0;34m,\u001b[0m \u001b[0mtuple\u001b[0m\u001b[0;34m)\u001b[0m\u001b[0;34m:\u001b[0m\u001b[0;34m\u001b[0m\u001b[0;34m\u001b[0m\u001b[0m\n",
      "\u001b[0;32m/shared-libs/python3.7/py/lib/python3.7/site-packages/torch/_tensor.py\u001b[0m in \u001b[0;36mbackward\u001b[0;34m(self, gradient, retain_graph, create_graph, inputs)\u001b[0m\n\u001b[1;32m    305\u001b[0m                 \u001b[0mcreate_graph\u001b[0m\u001b[0;34m=\u001b[0m\u001b[0mcreate_graph\u001b[0m\u001b[0;34m,\u001b[0m\u001b[0;34m\u001b[0m\u001b[0;34m\u001b[0m\u001b[0m\n\u001b[1;32m    306\u001b[0m                 inputs=inputs)\n\u001b[0;32m--> 307\u001b[0;31m         \u001b[0mtorch\u001b[0m\u001b[0;34m.\u001b[0m\u001b[0mautograd\u001b[0m\u001b[0;34m.\u001b[0m\u001b[0mbackward\u001b[0m\u001b[0;34m(\u001b[0m\u001b[0mself\u001b[0m\u001b[0;34m,\u001b[0m \u001b[0mgradient\u001b[0m\u001b[0;34m,\u001b[0m \u001b[0mretain_graph\u001b[0m\u001b[0;34m,\u001b[0m \u001b[0mcreate_graph\u001b[0m\u001b[0;34m,\u001b[0m \u001b[0minputs\u001b[0m\u001b[0;34m=\u001b[0m\u001b[0minputs\u001b[0m\u001b[0;34m)\u001b[0m\u001b[0;34m\u001b[0m\u001b[0;34m\u001b[0m\u001b[0m\n\u001b[0m\u001b[1;32m    308\u001b[0m \u001b[0;34m\u001b[0m\u001b[0m\n\u001b[1;32m    309\u001b[0m     \u001b[0;32mdef\u001b[0m \u001b[0mregister_hook\u001b[0m\u001b[0;34m(\u001b[0m\u001b[0mself\u001b[0m\u001b[0;34m,\u001b[0m \u001b[0mhook\u001b[0m\u001b[0;34m)\u001b[0m\u001b[0;34m:\u001b[0m\u001b[0;34m\u001b[0m\u001b[0;34m\u001b[0m\u001b[0m\n",
      "\u001b[0;32m/shared-libs/python3.7/py/lib/python3.7/site-packages/torch/autograd/__init__.py\u001b[0m in \u001b[0;36mbackward\u001b[0;34m(tensors, grad_tensors, retain_graph, create_graph, grad_variables, inputs)\u001b[0m\n\u001b[1;32m    154\u001b[0m     Variable._execution_engine.run_backward(\n\u001b[1;32m    155\u001b[0m         \u001b[0mtensors\u001b[0m\u001b[0;34m,\u001b[0m \u001b[0mgrad_tensors_\u001b[0m\u001b[0;34m,\u001b[0m \u001b[0mretain_graph\u001b[0m\u001b[0;34m,\u001b[0m \u001b[0mcreate_graph\u001b[0m\u001b[0;34m,\u001b[0m \u001b[0minputs\u001b[0m\u001b[0;34m,\u001b[0m\u001b[0;34m\u001b[0m\u001b[0;34m\u001b[0m\u001b[0m\n\u001b[0;32m--> 156\u001b[0;31m         allow_unreachable=True, accumulate_grad=True)  # allow_unreachable flag\n\u001b[0m\u001b[1;32m    157\u001b[0m \u001b[0;34m\u001b[0m\u001b[0m\n\u001b[1;32m    158\u001b[0m \u001b[0;34m\u001b[0m\u001b[0m\n",
      "\u001b[0;31mRuntimeError\u001b[0m: Found dtype Long but expected Float"
     ]
    }
   ],
   "execution_count": 13
  },
  {
   "cell_type": "markdown",
   "source": "<a style='text-decoration:none;line-height:16px;display:flex;color:#5B5B62;padding:10px;justify-content:end;' href='https://deepnote.com?utm_source=created-in-deepnote-cell&projectId=de072003-a9db-4342-8067-19a4b45feff1' target=\"_blank\">\n<img alt='Created in deepnote.com' style='display:inline;max-height:16px;margin:0px;margin-right:7.5px;' src='data:image/svg+xml;base64,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' > </img>\nCreated in <span style='font-weight:600;margin-left:4px;'>Deepnote</span></a>",
   "metadata": {
    "tags": [],
    "created_in_deepnote_cell": true,
    "deepnote_cell_type": "markdown"
   }
  }
 ],
 "nbformat": 4,
 "nbformat_minor": 2,
 "metadata": {
  "orig_nbformat": 2,
  "deepnote": {
   "is_reactive": false
  },
  "deepnote_notebook_id": "32b87836-c3a6-4930-8573-7a2915a5c3cc",
  "deepnote_execution_queue": []
 }
}