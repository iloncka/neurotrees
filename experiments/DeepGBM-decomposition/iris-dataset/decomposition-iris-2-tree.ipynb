{
 "cells": [
  {
   "cell_type": "code",
   "metadata": {
    "tags": [],
    "deepnote_to_be_reexecuted": false,
    "source_hash": "8a4a321f",
    "execution_start": 1644068109711,
    "execution_millis": 850,
    "cell_id": "6c731dd5-4dad-4d5b-86de-a6c75a71a01b",
    "deepnote_cell_type": "code"
   },
   "source": "import argparse, os, logging, random, time\nimport numpy as np\nimport math\nimport time\nimport scipy.sparse\nimport lightgbm as lgb\n# import data_helpers as dh\nimport pickle ",
   "execution_count": null,
   "outputs": []
  },
  {
   "cell_type": "code",
   "metadata": {
    "cell_id": "6e198d68-e538-4294-af2c-2f1c41caac01",
    "tags": [],
    "deepnote_to_be_reexecuted": false,
    "source_hash": "9b574ac3",
    "execution_start": 1644068110573,
    "execution_millis": 46,
    "deepnote_cell_type": "code"
   },
   "source": "from sklearn import datasets\nfrom sklearn.model_selection import train_test_split\nfrom sklearn.metrics import mean_squared_error",
   "execution_count": null,
   "outputs": []
  },
  {
   "cell_type": "code",
   "metadata": {
    "tags": [],
    "deepnote_to_be_reexecuted": false,
    "source_hash": "cc888600",
    "execution_start": 1644068110665,
    "execution_millis": 2,
    "cell_id": "00001-593ed414-01b6-4eda-ba0f-fc642104d71b",
    "is_code_hidden": false,
    "deepnote_cell_type": "code"
   },
   "source": "def countSplitNodes(tree):\n    root = tree['tree_structure']\n    logging.info(f'Func: countSplitNodes.\\n parameter-root: {root}.')\n    def counter(root):\n        if 'split_index' not in root:\n            return 0\n        return 1 + counter(root['left_child']) + counter(root['right_child'])\n    ans = counter(root)\n    logging.info(f'Func: countSplitNodes.\\n return: {ans}.')\n    return ans\n\ndef getItemByTree(tree, item='split_feature'):\n    logging.info(f'Func: getItemByTree.\\n parameter-item: {item}.')\n    logging.info(f'Func: getItemByTree.\\n parameter-tree: {tree}.')\n    root = tree.raw['tree_structure']\n    logging.info(f'Func: getItemByTree.\\n parameter-root: {root}.')\n    split_nodes = tree.split_nodes\n    res = np.zeros(split_nodes+tree.raw['num_leaves'], dtype=np.int32)\n    if 'value' in item or 'threshold' in item or 'split_gain' in item:\n        res = res.astype(np.float64)\n    def getFeature(root, res):\n        if 'child' in item:\n            if 'split_index' in root:\n                node = root[item]\n                if 'split_index' in node:\n                    res[root['split_index']] = node['split_index']\n                else:\n                    res[root['split_index']] = node['leaf_index'] + split_nodes # need to check\n            else:\n                res[root['leaf_index'] + split_nodes] = -1\n        elif 'value' in item:\n            if 'split_index' in root:\n                res[root['split_index']] = root['internal_'+item]\n            else:\n                res[root['leaf_index'] + split_nodes] = root['leaf_'+item]\n        else:\n            if 'split_index' in root:\n                res[root['split_index']] = root[item]\n            else:\n                res[root['leaf_index'] + split_nodes] = -2\n        if 'left_child' in root:\n            getFeature(root['left_child'], res)\n        if 'right_child' in root:\n            getFeature(root['right_child'], res)\n    getFeature(root, res)\n    logging.info(f'Func: getItemByTree.\\n return: {res}.')\n    return res\n\ndef getTreeSplits(model):\n    \n    logging.info(f'Func: getTreeSplits.\\n parameter-model: {model[\"tree_info\"]}.')\n    featurelist = []\n    threhlist = []\n    trees = []\n    for idx, tree in enumerate(model['tree_info']):\n        trees.append(TreeInterpreter(tree))\n        logging.info(f'Func: getTreeSplits.\\n parameter-trees-tree: {TreeInterpreter(tree)}.')\n        featurelist.append(trees[-1].feature)\n        logging.info(f'Func: getTreeSplits.\\n parameter-featurelist.append(trees[-1].feature): \\\n        {trees[-1].feature}.')\n        threhlist.append(getItemByTree(trees[-1], 'threshold'))\n        logging.info(f'Func: getTreeSplits.\\n parameter-threhlist.threshold: \\\n        {getItemByTree(trees[-1], \"threshold\")}.')\n    logging.info(f'Func: getTreeSplits.\\n return trees: {trees}.\\n return featurelist: {featurelist}.\\n \\\n        return threhlist: {threhlist}.')\n    return (trees, featurelist, threhlist)\n\n\ndef getChildren(trees):\n    logging.info(f'Func: getChildren.\\n parameter-trees: {trees}.')\n    listcl = []\n    listcr = []\n    for idx, tree in enumerate(trees):\n        listcl.append(getItemByTree(tree, 'left_child'))\n        listcr.append(getItemByTree(tree, 'right_child'))\n    logging.info(f'Func: getChildren.\\n return listcl: {listcl}.\\n return listcr: {listcr}.')\n    return(listcl, listcr)\n\nclass TreeInterpreter(object):\n    def __init__(self, tree):\n        self.raw = tree\n        self.split_nodes = countSplitNodes(tree)\n        self.node_count = self.split_nodes # + tree['num_leaves']\n        self.value = getItemByTree(self, item='value')\n        self.feature = getItemByTree(self)\n        self.gain = getItemByTree(self, 'split_gain')\n        # self.leaf_value = getLeafValue(tree)\n        logging.info(f'Class: TreeInterpreter.\\n return self.raw: {tree}.\\n \\\n            return self.split_nodes: {self.split_nodes}. \\\n            \\n return self.node_count: {self.node_count}.\\n return self.value: {self.value}. \\\n            \\n return self.feature: {self.feature}.\\n return self.gain: {self.gain}.')\n\nclass ModelInterpreter(object):\n    def __init__(self, model, tree_model='lightgbm'):\n        print(\"Model Interpreting...\")\n        self.tree_model = tree_model\n        model = model.dump_model()\n        self.n_features_ = model['max_feature_idx'] + 1\n        self.trees, self.featurelist, self.threshlist = getTreeSplits(model)\n        self.listcl, self.listcr = getChildren(self.trees)\n        logging.info(f'Class: ModelInterpreter.\\n return self.tree_model: {self.tree_model}.\\n \\\n            return self.n_features_: {self.n_features_}. \\\n            \\n return self.trees: {self.trees}.\\n return self.featurelist: {self.featurelist}. \\\n            \\n return self.threshlist: {self.threshlist}.\\n return self.listcl: {self.listcl}. \\\n            \\n return self.listcr: {self.listcr}.')\n\n    def GetTreeSplits(self):\n        return (self.trees, self.featurelist, self.threshlist)\n\n    def GetChildren(self):\n        return (self.listcl, self.listcr)\n\n    def EqualGroup(self, n_clusters):\n        logging.info(f'Class: ModelInterpreter : func EqualGroup.\\n \\\n            n_clusters : {n_clusters}.')\n        vectors = {}\n        # n_feature = 256\n        (f'Class: ModelInterpreter : func EqualGroup.\\n \\\n            self.featurelist: {self.featurelist}.')\n        for idx,features in enumerate(self.featurelist):\n            vectors[idx] = set(features[np.where(features>0)])\n            logging.info(f'Class: ModelInterpreter : func EqualGroup.\\n \\\n            featurelist vectors[idx]: {vectors[idx]}.')\n        keys = random.sample(vectors.keys(), len(vectors))\n        logging.info(f'Class: ModelInterpreter : func EqualGroup.\\n \\\n            keys : {keys}.')\n        clusterIdx = np.zeros(len(vectors))\n        logging.info(f'Class: ModelInterpreter : func EqualGroup.\\n \\\n            clusterIdx : {clusterIdx}.')\n        # groups = [[] for i in range(n_clusters)]\n        trees_per_cluster = len(vectors)//n_clusters\n        mod_per_cluster = len(vectors) % n_clusters\n        begin = 0\n        for idx in range(n_clusters):\n            for jdx in range(trees_per_cluster):\n                clusterIdx[keys[begin]] = idx\n                begin += 1\n            if idx < mod_per_cluster:\n                clusterIdx[keys[begin]] = idx\n                begin += 1\n        print([np.where(clusterIdx==i)[0].shape for i in range(n_clusters)])\n        logging.info(f'Class: ModelInterpreter : func EqualGroup.\\n return clusterIdx: {clusterIdx}.')\n        return clusterIdx",
   "execution_count": null,
   "outputs": []
  },
  {
   "cell_type": "code",
   "metadata": {
    "tags": [],
    "deepnote_to_be_reexecuted": false,
    "source_hash": "4afe5045",
    "execution_start": 1644068110699,
    "execution_millis": 3,
    "cell_id": "00002-690633d9-88be-4d70-a3a4-eeec5974554a",
    "is_code_hidden": false,
    "deepnote_cell_type": "code"
   },
   "source": "def SubGBDTLeaf_cls(train_x, test_x, gbm, maxleaf=5, num_slices=2, \n                    group_method=\"Random\", feat_per_group=4, tree_model='lightgbm'):\n    \n    MAX=train_x.shape[1]\n    leaf_preds = gbm.predict(train_x, pred_leaf=True).reshape(train_x.shape[0], -1)\n    test_leaf_preds = gbm.predict(test_x, pred_leaf=True).reshape(test_x.shape[0], -1)\n    n_trees = leaf_preds.shape[1]\n    step = int((n_trees + num_slices - 1) // num_slices)\n    step = max(step, 1)\n    leaf_output = np.zeros([n_trees, maxleaf], dtype=np.float32)\n    for tid in range(n_trees):\n        num_leaf = np.max(leaf_preds[:,tid]) + 1\n        for lid in range(num_leaf):\n            leaf_output[tid][lid] = gbm.get_leaf_output(tid, lid)\n    rest_nt = n_trees\n    modelI = ModelInterpreter(gbm, group_method)\n    if group_method == 'Equal' or group_method == 'Random':\n        clusterIdx = modelI.EqualGroup(num_slices)\n        n_feature = feat_per_group\n    treeI = modelI.trees\n    # rand = (args.group_method == 'Random')\n    Allset = set([i for i in range(MAX)])\n    for n_idx in range(num_slices):\n        tree_indices = np.where(clusterIdx == n_idx)[0]\n        trees = {}\n        tid = 0\n        for jdx in tree_indices:\n            trees[str(tid)] = treeI[jdx].raw\n            tid += 1\n        tree_num = len(tree_indices)\n        layer_num = 1\n        xi = []\n        xi_fea = set()\n        all_hav = {} # set([i for i in range(MAX)])\n        for jdx, tree in enumerate(tree_indices):\n            for kdx, f in enumerate(treeI[tree].feature):\n                if f == -2:\n                    continue\n                if f not in all_hav:\n                    all_hav[f] = 0\n                all_hav[f] += treeI[tree].gain[kdx]\n        used_features = []\n        rest_feature = []\n        all_hav = sorted(all_hav.items(), key=lambda kv: -kv[1])\n        used_features = [item[0] for item in all_hav[:n_feature]]\n        # if rand:\n        # used_features = np.random.choice(MAX, len(used_features), replace = False).tolist()\n        used_features_set = set(used_features)\n        for kdx in range(max(0, n_feature - len(used_features))):\n            used_features.append(MAX)\n        cur_leaf_preds = leaf_preds[:, tree_indices]\n        cur_test_leaf_preds = test_leaf_preds[:, tree_indices]\n        new_train_y = np.zeros(train_x.shape[0])\n        for jdx in tree_indices:\n            new_train_y += np.take(leaf_output[jdx,:].reshape(-1), leaf_preds[:,jdx].reshape(-1))\n        new_train_y = new_train_y.reshape(-1,1).astype(np.float32)\n        yield used_features, new_train_y, cur_leaf_preds, cur_test_leaf_preds, np.mean(np.take(leaf_output, tree_indices,0)), np.mean(leaf_output)\n",
   "execution_count": null,
   "outputs": []
  },
  {
   "cell_type": "code",
   "metadata": {
    "tags": [],
    "deepnote_to_be_reexecuted": false,
    "source_hash": "8ddc42e4",
    "execution_start": 1644068110711,
    "execution_millis": 4,
    "cell_id": "00003-4131c9ed-1427-419c-83cb-106f952081db",
    "deepnote_cell_type": "code"
   },
   "source": "iris = datasets.load_iris()\nX = iris.data\ny = iris.target\ntrain_x, test_x, train_y, test_y = train_test_split(\n    X, y, test_size=0.33, random_state=42)",
   "execution_count": null,
   "outputs": []
  },
  {
   "cell_type": "code",
   "metadata": {
    "tags": [],
    "deepnote_to_be_reexecuted": false,
    "source_hash": "c8b09696",
    "execution_start": 1644068110758,
    "execution_millis": 0,
    "cell_id": "00004-f6ad90e3-dab8-43d3-b36a-06fd567db34d",
    "is_code_hidden": true,
    "deepnote_cell_type": "code"
   },
   "source": "from importlib import reload \n\nreload(logging)\nlogger = logging.getLogger()\nlogger.setLevel(logging.INFO)\n# create file handler which logs even debug messages\nfh = logging.FileHandler('iris-2.log')\nfh.setLevel(logging.INFO)\n# create console handler with a higher log level\nch = logging.StreamHandler()\nch.setLevel(logging.ERROR)\n# create formatter and add it to the handlers\nformatter = logging.Formatter('%(asctime)s - %(name)s - %(levelname)s - %(message)s')\nch.setFormatter(formatter)\nfh.setFormatter(formatter)\n# add the handlers to logger\nlogger.addHandler(ch)\nlogger.addHandler(fh)",
   "execution_count": null,
   "outputs": []
  },
  {
   "cell_type": "code",
   "metadata": {
    "tags": [],
    "deepnote_to_be_reexecuted": false,
    "source_hash": "24095ec2",
    "execution_start": 1644068110759,
    "execution_millis": 1,
    "cell_id": "00006-fa4e54f8-eea3-4833-a39e-4f9a826e1ed3",
    "deepnote_cell_type": "code"
   },
   "source": "with open('gbm_dump_iris_2_tree.pickle', 'rb') as f:\n    # Pickle using the highest protocol available.\n    gbm = pickle.load(f)",
   "execution_count": null,
   "outputs": []
  },
  {
   "cell_type": "code",
   "metadata": {
    "cell_id": "f1001250-a3ac-4e21-b8f7-9cb18869f6d4",
    "tags": [],
    "deepnote_to_be_reexecuted": false,
    "source_hash": "55f6a00",
    "execution_start": 1644068110760,
    "execution_millis": 5,
    "deepnote_output_heights": [
     21
    ],
    "deepnote_cell_type": "code"
   },
   "source": "type(gbm)",
   "execution_count": null,
   "outputs": [
    {
     "output_type": "execute_result",
     "execution_count": 8,
     "data": {
      "text/plain": "lightgbm.basic.Booster"
     },
     "metadata": {}
    }
   ]
  },
  {
   "cell_type": "code",
   "metadata": {
    "tags": [],
    "deepnote_to_be_reexecuted": false,
    "source_hash": "c76a50bd",
    "execution_start": 1644068110764,
    "execution_millis": 51,
    "cell_id": "00007-43c197f2-e67b-413d-b710-e51f97ec8b09",
    "deepnote_cell_type": "code"
   },
   "source": "gbms = SubGBDTLeaf_cls(train_x, test_x, gbm)\nmin_len_features = train_x.shape[1]\nused_features = []\ntree_outputs = []\nleaf_preds = []\ntest_leaf_preds = []\nn_output = train_y.shape[0]\nmax_ntree_per_split = 0\ngroup_average = []\nfor used_feature, new_train_y, leaf_pred, test_leaf_pred, avg, all_avg in gbms:\n    logging.info(f'Func: SubGBDTLeaf_cls\\n return used_feature: {used_feature}. \\\n        \\n return new_train_y: {new_train_y}. \\\n        \\n return leaf_pred: {leaf_pred}. \\\n        \\n return test_leaf_pred: {test_leaf_pred}. \\\n        \\n return avg: {avg}. \\\n        \\n return all_avg: {all_avg}.')\n    \n    used_features.append(used_feature)\n    min_len_features = min(min_len_features, len(used_feature))\n    tree_outputs.append(new_train_y)\n    leaf_preds.append(leaf_pred)\n    test_leaf_preds.append(test_leaf_pred)\n    group_average.append(avg)\n    max_ntree_per_split = max(max_ntree_per_split, leaf_pred.shape[1])\nfor i in range(len(used_features)):\n    used_features[i] = sorted(used_features[i][:min_len_features])\nn_models = len(used_features)\ngroup_average = np.asarray(group_average).reshape(n_models, 1, 1)\nfor i in range(n_models):\n    if leaf_preds[i].shape[1] < max_ntree_per_split:\n        leaf_preds[i] = np.concatenate([leaf_preds[i] + 1, \n                                        np.zeros([leaf_preds[i].shape[0],\n                                                    max_ntree_per_split-leaf_preds[i].shape[1]],\n                                                    dtype=np.int32)], axis=1)\n        test_leaf_preds[i] = np.concatenate([test_leaf_preds[i] + 1, \n                                                np.zeros([test_leaf_preds[i].shape[0],\n                                                        max_ntree_per_split-test_leaf_preds[i].shape[1]],\n                                                        dtype=np.int32)], axis=1)\nleaf_preds = np.concatenate(leaf_preds, axis=1)\ntest_leaf_preds = np.concatenate(test_leaf_preds, axis=1)\nlogging.info(f'Return: leaf_preds: {leaf_preds}. \\\n        \\n return test_leaf_preds: {test_leaf_preds}.')\n",
   "execution_count": null,
   "outputs": [
    {
     "name": "stdout",
     "text": "Model Interpreting...\n[(1,), (1,)]\n",
     "output_type": "stream"
    }
   ]
  },
  {
   "cell_type": "code",
   "metadata": {
    "cell_id": "0dea19c7-d483-4ada-8824-8c8435337fca",
    "tags": [],
    "deepnote_to_be_reexecuted": false,
    "source_hash": "71500c2",
    "execution_start": 1644068110892,
    "execution_millis": 1,
    "deepnote_cell_type": "code"
   },
   "source": "\nwith open('n_models_iris_2.pickle', 'wb') as f:\n    # Pickle using the highest protocol available.\n    pickle.dump(n_models, f, pickle.HIGHEST_PROTOCOL)\n    \nwith open('max_ntree_per_split_iris_2.pickle', 'wb') as f:\n    # Pickle using the highest protocol available.\n    pickle.dump(max_ntree_per_split, f, pickle.HIGHEST_PROTOCOL)\n    \nwith open('group_average_iris_2.pickle', 'wb') as f:\n    # Pickle using the highest protocol available.\n    pickle.dump(group_average, f, pickle.HIGHEST_PROTOCOL)\n\nwith open('leaf_preds_iris_2.pickle', 'wb') as f:\n    # Pickle using the highest protocol available.\n    pickle.dump(leaf_preds, f, pickle.HIGHEST_PROTOCOL)\n    \nwith open('test_leaf_preds_iris_2.pickle', 'wb') as f:\n    # Pickle using the highest protocol available.\n    pickle.dump(test_leaf_preds, f, pickle.HIGHEST_PROTOCOL)\n\nwith open('tree_outputs_iris_2.pickle', 'wb') as f:\n    # Pickle using the highest protocol available.\n    pickle.dump(tree_outputs, f, pickle.HIGHEST_PROTOCOL)   \nwith open('used_features_iris_2.pickle', 'wb') as f:\n    # Pickle using the highest protocol available.\n    pickle.dump(used_features, f, pickle.HIGHEST_PROTOCOL)",
   "execution_count": null,
   "outputs": []
  },
  {
   "cell_type": "markdown",
   "source": "<a style='text-decoration:none;line-height:16px;display:flex;color:#5B5B62;padding:10px;justify-content:end;' href='https://deepnote.com?utm_source=created-in-deepnote-cell&projectId=de072003-a9db-4342-8067-19a4b45feff1' target=\"_blank\">\n<img alt='Created in deepnote.com' style='display:inline;max-height:16px;margin:0px;margin-right:7.5px;' src='data:image/svg+xml;base64,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' > </img>\nCreated in <span style='font-weight:600;margin-left:4px;'>Deepnote</span></a>",
   "metadata": {
    "tags": [],
    "created_in_deepnote_cell": true,
    "deepnote_cell_type": "markdown"
   }
  }
 ],
 "nbformat": 4,
 "nbformat_minor": 2,
 "metadata": {
  "orig_nbformat": 2,
  "deepnote": {
   "is_reactive": false
  },
  "deepnote_notebook_id": "bc523ada-4447-44ac-a0cd-b5a82efbd33f",
  "deepnote_execution_queue": []
 }
}