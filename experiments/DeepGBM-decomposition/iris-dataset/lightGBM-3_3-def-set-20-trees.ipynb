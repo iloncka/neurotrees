{
 "cells": [
  {
   "cell_type": "markdown",
   "source": "# Decomposition - LightGBM v3.3",
   "metadata": {
    "cell_id": "9c71ed6a-0f31-4f9d-931e-aedb5f56db5f",
    "tags": [],
    "is_collapsed": false,
    "deepnote_cell_type": "text-cell-h1"
   }
  },
  {
   "cell_type": "markdown",
   "source": "## Iris Dataset",
   "metadata": {
    "cell_id": "203ffc53-6a3f-4cd1-b3a4-8a04669220fd",
    "tags": [],
    "is_collapsed": false,
    "deepnote_cell_type": "text-cell-h2"
   }
  },
  {
   "cell_type": "markdown",
   "source": "This data sets consists of 3 different types of irises’ (Setosa, Versicolour, and Virginica) petal and sepal length, stored in a 150x4 numpy.ndarray.   The rows being the samples and the columns being:  Sepal Length, Sepal Width, Petal Length and Petal Width.",
   "metadata": {
    "cell_id": "d209afec-dab5-45ff-a29a-218300f95f80",
    "tags": [],
    "is_collapsed": false,
    "deepnote_cell_type": "text-cell-p"
   }
  },
  {
   "cell_type": "code",
   "metadata": {
    "tags": [],
    "cell_id": "31a89086-d25b-4039-8f68-bcfeaaf8a071",
    "deepnote_to_be_reexecuted": false,
    "source_hash": "5be71827",
    "execution_start": 1643533769748,
    "execution_millis": 1139,
    "deepnote_cell_type": "code"
   },
   "source": "# Import datasets\nfrom sklearn import datasets\nfrom sklearn.model_selection import train_test_split\nfrom sklearn.metrics import mean_squared_error\n\nimport lightgbm as lgb\n",
   "execution_count": null,
   "outputs": []
  },
  {
   "cell_type": "code",
   "metadata": {
    "cell_id": "0f23f634-a781-44fd-8a51-f00273f7d0c5",
    "tags": [],
    "deepnote_to_be_reexecuted": false,
    "source_hash": "ce864240",
    "execution_start": 1643533770897,
    "execution_millis": 4,
    "deepnote_cell_type": "code"
   },
   "source": "print(lgb.__version__)",
   "execution_count": null,
   "outputs": [
    {
     "name": "stdout",
     "text": "3.3.2\n",
     "output_type": "stream"
    }
   ]
  },
  {
   "cell_type": "code",
   "metadata": {
    "cell_id": "95116a68-4f44-4b5a-a069-2a1cc1b8a2bb",
    "tags": [],
    "deepnote_to_be_reexecuted": false,
    "source_hash": "6f32031f",
    "execution_start": 1643533770906,
    "execution_millis": 19,
    "deepnote_cell_type": "code"
   },
   "source": "iris = datasets.load_iris()\nX = iris.data\ny = iris.target\nX_train, X_test, y_train, y_test = train_test_split(\n    X, y, test_size=0.33, random_state=42)",
   "execution_count": null,
   "outputs": []
  },
  {
   "cell_type": "code",
   "metadata": {
    "cell_id": "7281a377-279c-4d21-9abc-498fb6e90517",
    "tags": [],
    "deepnote_to_be_reexecuted": false,
    "source_hash": "bdfa7f",
    "execution_start": 1643533770935,
    "execution_millis": 57,
    "deepnote_cell_type": "code"
   },
   "source": "# create dataset for lightgbm\nlgb_train = lgb.Dataset(X_train, y_train)\nlgb_eval = lgb.Dataset(X_test, y_test, reference=lgb_train)\n\n# specify your configurations as a dict\nparams = {\n    'boosting_type': 'gbdt',\n    'objective': 'regression',\n    # 'metric': {'l2', 'l1'},\n    # 'num_leaves': 31,   \n    # 'learning_rate': 0.05,\n    # 'feature_fraction': 0.9,\n    # 'bagging_fraction': 0.8,\n    # 'bagging_freq': 5,\n    # 'verbose': 0\n}\n\nprint('Starting training...')\n# train\ngbm = lgb.train(params,\n                lgb_train,\n                num_boost_round=20,\n                \n                valid_sets=lgb_eval,\n                callbacks=[lgb.early_stopping(stopping_rounds=5)])\n\nprint('Saving model...')\n# save model to file\ngbm.save_model('model.txt')\n\nprint('Starting predicting...')\n# predict\ny_pred = gbm.predict(X_test, num_iteration=gbm.best_iteration)\n# eval\nrmse_test = mean_squared_error(y_test, y_pred) ** 0.5\nprint(f'The RMSE of prediction is: {rmse_test}')",
   "execution_count": null,
   "outputs": [
    {
     "name": "stdout",
     "text": "Starting training...\n[LightGBM] [Warning] Auto-choosing col-wise multi-threading, the overhead of testing was 0.000032 seconds.\nYou can set `force_col_wise=true` to remove the overhead.\n[LightGBM] [Info] Total Bins 84\n[LightGBM] [Info] Number of data points in the train set: 100, number of used features: 4\n[LightGBM] [Info] Start training from score 1.030000\n[LightGBM] [Warning] No further splits with positive gain, best gain: -inf\nTraining until validation scores don't improve for 5 rounds\n[LightGBM] [Warning] No further splits with positive gain, best gain: -inf\n[LightGBM] [Warning] No further splits with positive gain, best gain: -inf\n[LightGBM] [Warning] No further splits with positive gain, best gain: -inf\n[LightGBM] [Warning] No further splits with positive gain, best gain: -inf\n[LightGBM] [Warning] No further splits with positive gain, best gain: -inf\n[LightGBM] [Warning] No further splits with positive gain, best gain: -inf\n[LightGBM] [Warning] No further splits with positive gain, best gain: -inf\n[LightGBM] [Warning] No further splits with positive gain, best gain: -inf\n[LightGBM] [Warning] No further splits with positive gain, best gain: -inf\n[LightGBM] [Warning] No further splits with positive gain, best gain: -inf\n[LightGBM] [Warning] No further splits with positive gain, best gain: -inf\n[LightGBM] [Warning] No further splits with positive gain, best gain: -inf\n[LightGBM] [Warning] No further splits with positive gain, best gain: -inf\n[LightGBM] [Warning] No further splits with positive gain, best gain: -inf\n[LightGBM] [Warning] No further splits with positive gain, best gain: -inf\n[LightGBM] [Warning] No further splits with positive gain, best gain: -inf\n[LightGBM] [Warning] No further splits with positive gain, best gain: -inf\n[LightGBM] [Warning] No further splits with positive gain, best gain: -inf\n[LightGBM] [Warning] No further splits with positive gain, best gain: -inf\nDid not meet early stopping. Best iteration is:\n[20]\tvalid_0's l2: 0.0302141\nSaving model...\nStarting predicting...\nThe RMSE of prediction is: 0.17382194984949934\n",
     "output_type": "stream"
    }
   ]
  },
  {
   "cell_type": "code",
   "metadata": {
    "cell_id": "8c098ab5-c50f-4018-94dd-f610cddae150",
    "tags": [],
    "deepnote_to_be_reexecuted": false,
    "source_hash": "6ab9c71",
    "execution_start": 1643533976623,
    "execution_millis": 4,
    "deepnote_output_heights": [
     21
    ],
    "deepnote_cell_type": "code"
   },
   "source": "gbm.num_trees()",
   "execution_count": null,
   "outputs": [
    {
     "output_type": "execute_result",
     "execution_count": 14,
     "data": {
      "text/plain": "20"
     },
     "metadata": {}
    }
   ]
  },
  {
   "cell_type": "code",
   "metadata": {
    "cell_id": "bc1b49e0-aa11-4b75-8164-c0a77e218497",
    "tags": [],
    "deepnote_to_be_reexecuted": false,
    "source_hash": "a1fd968",
    "execution_start": 1643534030655,
    "execution_millis": 10,
    "deepnote_output_heights": [
     40
    ],
    "deepnote_cell_type": "code"
   },
   "source": "gbm.best_score",
   "execution_count": null,
   "outputs": [
    {
     "output_type": "execute_result",
     "execution_count": 16,
     "data": {
      "text/plain": "defaultdict(collections.OrderedDict,\n            {'valid_0': OrderedDict([('l2', 0.030214070249481865)])})"
     },
     "metadata": {}
    }
   ]
  },
  {
   "cell_type": "code",
   "metadata": {
    "cell_id": "b9167fcf-c8f6-4825-bfb9-a7bae809f58e",
    "tags": [],
    "deepnote_to_be_reexecuted": false,
    "source_hash": "f1ea6aa7",
    "execution_start": 1643533770998,
    "execution_millis": 8,
    "deepnote_cell_type": "code"
   },
   "source": "df_trees = gbm.trees_to_dataframe()",
   "execution_count": null,
   "outputs": []
  },
  {
   "cell_type": "code",
   "metadata": {
    "cell_id": "05201a6c-1324-4764-a60a-f701c57f352d",
    "tags": [],
    "deepnote_to_be_reexecuted": false,
    "source_hash": "771366c7",
    "execution_start": 1643533771070,
    "execution_millis": 126,
    "deepnote_cell_type": "code"
   },
   "source": "df_trees",
   "execution_count": null,
   "outputs": [
    {
     "output_type": "execute_result",
     "execution_count": 6,
     "data": {
      "application/vnd.deepnote.dataframe.v3+json": {
       "column_count": 15,
       "row_count": 118,
       "columns": [
        {
         "name": "tree_index",
         "dtype": "int64",
         "stats": {
          "unique_count": 20,
          "nan_count": 0,
          "min": "0",
          "max": "19",
          "histogram": [
           {
            "bin_start": 0,
            "bin_end": 1.9,
            "count": 10
           },
           {
            "bin_start": 1.9,
            "bin_end": 3.8,
            "count": 10
           },
           {
            "bin_start": 3.8,
            "bin_end": 5.699999999999999,
            "count": 10
           },
           {
            "bin_start": 5.699999999999999,
            "bin_end": 7.6,
            "count": 10
           },
           {
            "bin_start": 7.6,
            "bin_end": 9.5,
            "count": 12
           },
           {
            "bin_start": 9.5,
            "bin_end": 11.399999999999999,
            "count": 14
           },
           {
            "bin_start": 11.399999999999999,
            "bin_end": 13.299999999999999,
            "count": 14
           },
           {
            "bin_start": 13.299999999999999,
            "bin_end": 15.2,
            "count": 10
           },
           {
            "bin_start": 15.2,
            "bin_end": 17.099999999999998,
            "count": 14
           },
           {
            "bin_start": 17.099999999999998,
            "bin_end": 19,
            "count": 14
           }
          ]
         }
        },
        {
         "name": "node_depth",
         "dtype": "int64",
         "stats": {
          "unique_count": 4,
          "nan_count": 0,
          "min": "1",
          "max": "4",
          "histogram": [
           {
            "bin_start": 1,
            "bin_end": 1.3,
            "count": 20
           },
           {
            "bin_start": 1.3,
            "bin_end": 1.6,
            "count": 0
           },
           {
            "bin_start": 1.6,
            "bin_end": 1.9,
            "count": 0
           },
           {
            "bin_start": 1.9,
            "bin_end": 2.2,
            "count": 40
           },
           {
            "bin_start": 2.2,
            "bin_end": 2.5,
            "count": 0
           },
           {
            "bin_start": 2.5,
            "bin_end": 2.8,
            "count": 0
           },
           {
            "bin_start": 2.8,
            "bin_end": 3.1,
            "count": 52
           },
           {
            "bin_start": 3.1,
            "bin_end": 3.4,
            "count": 0
           },
           {
            "bin_start": 3.4,
            "bin_end": 3.6999999999999997,
            "count": 0
           },
           {
            "bin_start": 3.6999999999999997,
            "bin_end": 4,
            "count": 6
           }
          ]
         }
        },
        {
         "name": "node_index",
         "dtype": "object",
         "stats": {
          "unique_count": 118,
          "nan_count": 0,
          "categories": [
           {
            "name": "0-S0",
            "count": 1
           },
           {
            "name": "0-L0",
            "count": 1
           },
           {
            "name": "116 others",
            "count": 116
           }
          ]
         }
        },
        {
         "name": "left_child",
         "dtype": "object",
         "stats": {
          "unique_count": 49,
          "nan_count": 69,
          "categories": [
           {
            "name": "0-L0",
            "count": 1
           },
           {
            "name": "48 others",
            "count": 48
           },
           {
            "name": "Missing",
            "count": 69
           }
          ]
         }
        },
        {
         "name": "right_child",
         "dtype": "object",
         "stats": {
          "unique_count": 49,
          "nan_count": 69,
          "categories": [
           {
            "name": "0-S1",
            "count": 1
           },
           {
            "name": "48 others",
            "count": 48
           },
           {
            "name": "Missing",
            "count": 69
           }
          ]
         }
        },
        {
         "name": "parent_index",
         "dtype": "object",
         "stats": {
          "unique_count": 49,
          "nan_count": 20,
          "categories": [
           {
            "name": "0-S0",
            "count": 2
           },
           {
            "name": "48 others",
            "count": 96
           },
           {
            "name": "Missing",
            "count": 20
           }
          ]
         }
        },
        {
         "name": "split_feature",
         "dtype": "object",
         "stats": {
          "unique_count": 3,
          "nan_count": 69,
          "categories": [
           {
            "name": "Column_2",
            "count": 26
           },
           {
            "name": "2 others",
            "count": 23
           },
           {
            "name": "Missing",
            "count": 69
           }
          ]
         }
        },
        {
         "name": "split_gain",
         "dtype": "float64",
         "stats": {
          "unique_count": 49,
          "nan_count": 69,
          "min": "0.0724852979183197",
          "max": "46.941200256347656",
          "histogram": [
           {
            "bin_start": 0.0724852979183197,
            "bin_end": 4.7593567937612535,
            "count": 32
           },
           {
            "bin_start": 4.7593567937612535,
            "bin_end": 9.446228289604187,
            "count": 7
           },
           {
            "bin_start": 9.446228289604187,
            "bin_end": 14.133099785447122,
            "count": 4
           },
           {
            "bin_start": 14.133099785447122,
            "bin_end": 18.819971281290055,
            "count": 1
           },
           {
            "bin_start": 18.819971281290055,
            "bin_end": 23.506842777132988,
            "count": 1
           },
           {
            "bin_start": 23.506842777132988,
            "bin_end": 28.193714272975924,
            "count": 1
           },
           {
            "bin_start": 28.193714272975924,
            "bin_end": 32.880585768818854,
            "count": 1
           },
           {
            "bin_start": 32.880585768818854,
            "bin_end": 37.56745726466179,
            "count": 0
           },
           {
            "bin_start": 37.56745726466179,
            "bin_end": 42.25432876050473,
            "count": 1
           },
           {
            "bin_start": 42.25432876050473,
            "bin_end": 46.941200256347656,
            "count": 1
           }
          ]
         }
        },
        {
         "name": "threshold",
         "dtype": "float64",
         "stats": {
          "unique_count": 15,
          "nan_count": 69,
          "min": "0.45000000000000007",
          "max": "5.150000000000001",
          "histogram": [
           {
            "bin_start": 0.45000000000000007,
            "bin_end": 0.9200000000000002,
            "count": 5
           },
           {
            "bin_start": 0.9200000000000002,
            "bin_end": 1.3900000000000001,
            "count": 3
           },
           {
            "bin_start": 1.3900000000000001,
            "bin_end": 1.8600000000000003,
            "count": 14
           },
           {
            "bin_start": 1.8600000000000003,
            "bin_end": 2.3300000000000005,
            "count": 0
           },
           {
            "bin_start": 2.3300000000000005,
            "bin_end": 2.8000000000000007,
            "count": 2
           },
           {
            "bin_start": 2.8000000000000007,
            "bin_end": 3.2700000000000005,
            "count": 10
           },
           {
            "bin_start": 3.2700000000000005,
            "bin_end": 3.7400000000000007,
            "count": 0
           },
           {
            "bin_start": 3.7400000000000007,
            "bin_end": 4.210000000000001,
            "count": 0
           },
           {
            "bin_start": 4.210000000000001,
            "bin_end": 4.680000000000001,
            "count": 5
           },
           {
            "bin_start": 4.680000000000001,
            "bin_end": 5.150000000000001,
            "count": 10
           }
          ]
         }
        },
        {
         "name": "decision_type",
         "dtype": "object",
         "stats": {
          "unique_count": 1,
          "nan_count": 69,
          "categories": [
           {
            "name": "<=",
            "count": 49
           },
           {
            "name": "Missing",
            "count": 69
           }
          ]
         }
        },
        {
         "name": "missing_direction",
         "dtype": "object",
         "stats": {
          "unique_count": 1,
          "nan_count": 69,
          "categories": [
           {
            "name": "left",
            "count": 49
           },
           {
            "name": "Missing",
            "count": 69
           }
          ]
         }
        },
        {
         "name": "missing_type",
         "dtype": "object",
         "stats": {
          "unique_count": 1,
          "nan_count": 69,
          "categories": [
           {
            "name": "None",
            "count": 49
           },
           {
            "name": "Missing",
            "count": 69
           }
          ]
         }
        },
        {
         "name": "value",
         "dtype": "float64",
         "stats": {
          "unique_count": 100,
          "nan_count": 0,
          "min": "-0.0898874998325482",
          "max": "1.123774196319282",
          "histogram": [
           {
            "bin_start": -0.0898874998325482,
            "bin_end": 0.03147866978263482,
            "count": 98
           },
           {
            "bin_start": 0.03147866978263482,
            "bin_end": 0.15284483939781784,
            "count": 15
           },
           {
            "bin_start": 0.15284483939781784,
            "bin_end": 0.2742110090130009,
            "count": 0
           },
           {
            "bin_start": 0.2742110090130009,
            "bin_end": 0.39557717862818387,
            "count": 0
           },
           {
            "bin_start": 0.39557717862818387,
            "bin_end": 0.516943348243367,
            "count": 0
           },
           {
            "bin_start": 0.516943348243367,
            "bin_end": 0.63830951785855,
            "count": 0
           },
           {
            "bin_start": 0.63830951785855,
            "bin_end": 0.759675687473733,
            "count": 0
           },
           {
            "bin_start": 0.759675687473733,
            "bin_end": 0.881041857088916,
            "count": 0
           },
           {
            "bin_start": 0.881041857088916,
            "bin_end": 1.002408026704099,
            "count": 1
           },
           {
            "bin_start": 1.002408026704099,
            "bin_end": 1.123774196319282,
            "count": 4
           }
          ]
         }
        },
        {
         "name": "weight",
         "dtype": "int64",
         "stats": {
          "unique_count": 25,
          "nan_count": 0,
          "min": "0",
          "max": "71",
          "histogram": [
           {
            "bin_start": 0,
            "bin_end": 7.1,
            "count": 20
           },
           {
            "bin_start": 7.1,
            "bin_end": 14.2,
            "count": 0
           },
           {
            "bin_start": 14.2,
            "bin_end": 21.299999999999997,
            "count": 5
           },
           {
            "bin_start": 21.299999999999997,
            "bin_end": 28.4,
            "count": 21
           },
           {
            "bin_start": 28.4,
            "bin_end": 35.5,
            "count": 35
           },
           {
            "bin_start": 35.5,
            "bin_end": 42.599999999999994,
            "count": 10
           },
           {
            "bin_start": 42.599999999999994,
            "bin_end": 49.699999999999996,
            "count": 7
           },
           {
            "bin_start": 49.699999999999996,
            "bin_end": 56.8,
            "count": 6
           },
           {
            "bin_start": 56.8,
            "bin_end": 63.9,
            "count": 2
           },
           {
            "bin_start": 63.9,
            "bin_end": 71,
            "count": 12
           }
          ]
         }
        },
        {
         "name": "count",
         "dtype": "int64",
         "stats": {
          "unique_count": 25,
          "nan_count": 0,
          "min": "20",
          "max": "100",
          "histogram": [
           {
            "bin_start": 20,
            "bin_end": 28,
            "count": 26
           },
           {
            "bin_start": 28,
            "bin_end": 36,
            "count": 35
           },
           {
            "bin_start": 36,
            "bin_end": 44,
            "count": 11
           },
           {
            "bin_start": 44,
            "bin_end": 52,
            "count": 6
           },
           {
            "bin_start": 52,
            "bin_end": 60,
            "count": 6
           },
           {
            "bin_start": 60,
            "bin_end": 68,
            "count": 5
           },
           {
            "bin_start": 68,
            "bin_end": 76,
            "count": 9
           },
           {
            "bin_start": 76,
            "bin_end": 84,
            "count": 0
           },
           {
            "bin_start": 84,
            "bin_end": 92,
            "count": 0
           },
           {
            "bin_start": 92,
            "bin_end": 100,
            "count": 20
           }
          ]
         }
        },
        {
         "name": "_deepnote_index_column",
         "dtype": "int64"
        }
       ],
       "rows": [
        {
         "tree_index": 0,
         "node_depth": 1,
         "node_index": "0-S0",
         "left_child": "0-L0",
         "right_child": "0-S1",
         "parent_index": "None",
         "split_feature": "Column_2",
         "split_gain": 46.941200256347656,
         "threshold": 3.1500000000000004,
         "decision_type": "<=",
         "missing_direction": "left",
         "missing_type": "None",
         "value": 1.03,
         "weight": 0,
         "count": 100,
         "_deepnote_index_column": 0
        },
        {
         "tree_index": 0,
         "node_depth": 2,
         "node_index": "0-L0",
         "left_child": "None",
         "right_child": "None",
         "parent_index": "0-S0",
         "split_feature": "None",
         "split_gain": "nan",
         "threshold": "nan",
         "decision_type": "None",
         "missing_direction": "None",
         "missing_type": "None",
         "value": 0.9301250027737115,
         "weight": 32,
         "count": 32,
         "_deepnote_index_column": 1
        },
        {
         "tree_index": 0,
         "node_depth": 2,
         "node_index": "0-S1",
         "left_child": "0-L1",
         "right_child": "0-L2",
         "parent_index": "0-S0",
         "split_feature": "Column_3",
         "split_gain": 12.464699745178223,
         "threshold": 1.7500000000000002,
         "decision_type": "<=",
         "missing_direction": "left",
         "missing_type": "None",
         "value": 1.077,
         "weight": 68,
         "count": 68,
         "_deepnote_index_column": 2
        },
        {
         "tree_index": 0,
         "node_depth": 3,
         "node_index": "0-L1",
         "left_child": "None",
         "right_child": "None",
         "parent_index": "0-S1",
         "split_feature": "None",
         "split_gain": "nan",
         "threshold": "nan",
         "decision_type": "None",
         "missing_direction": "None",
         "missing_type": "None",
         "value": 1.0378108111799167,
         "weight": 37,
         "count": 37,
         "_deepnote_index_column": 3
        },
        {
         "tree_index": 0,
         "node_depth": 3,
         "node_index": "0-L2",
         "left_child": "None",
         "right_child": "None",
         "parent_index": "0-S1",
         "split_feature": "None",
         "split_gain": "nan",
         "threshold": "nan",
         "decision_type": "None",
         "missing_direction": "None",
         "missing_type": "None",
         "value": 1.123774196319282,
         "weight": 31,
         "count": 31,
         "_deepnote_index_column": 4
        },
        {
         "tree_index": 1,
         "node_depth": 1,
         "node_index": "1-S0",
         "left_child": "1-L0",
         "right_child": "1-S1",
         "parent_index": "None",
         "split_feature": "Column_2",
         "split_gain": 38.02239990234375,
         "threshold": 3.1500000000000004,
         "decision_type": "<=",
         "missing_direction": "left",
         "missing_type": "None",
         "value": 0,
         "weight": 0,
         "count": 100,
         "_deepnote_index_column": 5
        },
        {
         "tree_index": 1,
         "node_depth": 2,
         "node_index": "1-L0",
         "left_child": "None",
         "right_child": "None",
         "parent_index": "1-S0",
         "split_feature": "None",
         "split_gain": "nan",
         "threshold": "nan",
         "decision_type": "None",
         "missing_direction": "None",
         "missing_type": "None",
         "value": -0.0898874998325482,
         "weight": 32,
         "count": 32,
         "_deepnote_index_column": 6
        },
        {
         "tree_index": 1,
         "node_depth": 2,
         "node_index": "1-S1",
         "left_child": "1-L1",
         "right_child": "1-L2",
         "parent_index": "1-S0",
         "split_feature": "Column_3",
         "split_gain": 10.268799781799316,
         "threshold": 1.5500000000000003,
         "decision_type": "<=",
         "missing_direction": "left",
         "missing_type": "None",
         "value": 0.0423,
         "weight": 68,
         "count": 68,
         "_deepnote_index_column": 7
        },
        {
         "tree_index": 1,
         "node_depth": 3,
         "node_index": "1-L1",
         "left_child": "None",
         "right_child": "None",
         "parent_index": "1-S1",
         "split_feature": "None",
         "split_gain": "nan",
         "threshold": "nan",
         "decision_type": "None",
         "missing_direction": "None",
         "missing_type": "None",
         "value": 0.002279525114731355,
         "weight": 33,
         "count": 33,
         "_deepnote_index_column": 8
        },
        {
         "tree_index": 1,
         "node_depth": 3,
         "node_index": "1-L2",
         "left_child": "None",
         "right_child": "None",
         "parent_index": "1-S1",
         "split_feature": "None",
         "split_gain": "nan",
         "threshold": "nan",
         "decision_type": "None",
         "missing_direction": "None",
         "missing_type": "None",
         "value": 0.08003359273076058,
         "weight": 35,
         "count": 35,
         "_deepnote_index_column": 9
        }
       ]
      },
      "text/plain": "     tree_index  node_depth node_index left_child right_child parent_index  \\\n0             0           1       0-S0       0-L0        0-S1         None   \n1             0           2       0-L0       None        None         0-S0   \n2             0           2       0-S1       0-L1        0-L2         0-S0   \n3             0           3       0-L1       None        None         0-S1   \n4             0           3       0-L2       None        None         0-S1   \n..          ...         ...        ...        ...         ...          ...   \n113          19           3      19-L0       None        None        19-S1   \n114          19           3      19-L2       None        None        19-S1   \n115          19           2      19-S2      19-L1       19-L3        19-S0   \n116          19           3      19-L1       None        None        19-S2   \n117          19           3      19-L3       None        None        19-S2   \n\n    split_feature  split_gain  threshold decision_type missing_direction  \\\n0        Column_2   46.941200       3.15            <=              left   \n1            None         NaN        NaN          None              None   \n2        Column_3   12.464700       1.75            <=              left   \n3            None         NaN        NaN          None              None   \n4            None         NaN        NaN          None              None   \n..            ...         ...        ...           ...               ...   \n113          None         NaN        NaN          None              None   \n114          None         NaN        NaN          None              None   \n115      Column_2    0.136292       5.15            <=              left   \n116          None         NaN        NaN          None              None   \n117          None         NaN        NaN          None              None   \n\n    missing_type     value  weight  count  \n0           None  1.030000       0    100  \n1           None  0.930125      32     32  \n2           None  1.077000      68     68  \n3           None  1.037811      37     37  \n4           None  1.123774      31     31  \n..           ...       ...     ...    ...  \n113         None -0.015776      29     29  \n114         None -0.002080      24     24  \n115         None  0.010796      47     47  \n116         None  0.005295      23     23  \n117         None  0.016068      24     24  \n\n[118 rows x 15 columns]",
      "text/html": "<div>\n<style scoped>\n    .dataframe tbody tr th:only-of-type {\n        vertical-align: middle;\n    }\n\n    .dataframe tbody tr th {\n        vertical-align: top;\n    }\n\n    .dataframe thead th {\n        text-align: right;\n    }\n</style>\n<table border=\"1\" class=\"dataframe\">\n  <thead>\n    <tr style=\"text-align: right;\">\n      <th></th>\n      <th>tree_index</th>\n      <th>node_depth</th>\n      <th>node_index</th>\n      <th>left_child</th>\n      <th>right_child</th>\n      <th>parent_index</th>\n      <th>split_feature</th>\n      <th>split_gain</th>\n      <th>threshold</th>\n      <th>decision_type</th>\n      <th>missing_direction</th>\n      <th>missing_type</th>\n      <th>value</th>\n      <th>weight</th>\n      <th>count</th>\n    </tr>\n  </thead>\n  <tbody>\n    <tr>\n      <th>0</th>\n      <td>0</td>\n      <td>1</td>\n      <td>0-S0</td>\n      <td>0-L0</td>\n      <td>0-S1</td>\n      <td>None</td>\n      <td>Column_2</td>\n      <td>46.941200</td>\n      <td>3.15</td>\n      <td>&lt;=</td>\n      <td>left</td>\n      <td>None</td>\n      <td>1.030000</td>\n      <td>0</td>\n      <td>100</td>\n    </tr>\n    <tr>\n      <th>1</th>\n      <td>0</td>\n      <td>2</td>\n      <td>0-L0</td>\n      <td>None</td>\n      <td>None</td>\n      <td>0-S0</td>\n      <td>None</td>\n      <td>NaN</td>\n      <td>NaN</td>\n      <td>None</td>\n      <td>None</td>\n      <td>None</td>\n      <td>0.930125</td>\n      <td>32</td>\n      <td>32</td>\n    </tr>\n    <tr>\n      <th>2</th>\n      <td>0</td>\n      <td>2</td>\n      <td>0-S1</td>\n      <td>0-L1</td>\n      <td>0-L2</td>\n      <td>0-S0</td>\n      <td>Column_3</td>\n      <td>12.464700</td>\n      <td>1.75</td>\n      <td>&lt;=</td>\n      <td>left</td>\n      <td>None</td>\n      <td>1.077000</td>\n      <td>68</td>\n      <td>68</td>\n    </tr>\n    <tr>\n      <th>3</th>\n      <td>0</td>\n      <td>3</td>\n      <td>0-L1</td>\n      <td>None</td>\n      <td>None</td>\n      <td>0-S1</td>\n      <td>None</td>\n      <td>NaN</td>\n      <td>NaN</td>\n      <td>None</td>\n      <td>None</td>\n      <td>None</td>\n      <td>1.037811</td>\n      <td>37</td>\n      <td>37</td>\n    </tr>\n    <tr>\n      <th>4</th>\n      <td>0</td>\n      <td>3</td>\n      <td>0-L2</td>\n      <td>None</td>\n      <td>None</td>\n      <td>0-S1</td>\n      <td>None</td>\n      <td>NaN</td>\n      <td>NaN</td>\n      <td>None</td>\n      <td>None</td>\n      <td>None</td>\n      <td>1.123774</td>\n      <td>31</td>\n      <td>31</td>\n    </tr>\n    <tr>\n      <th>...</th>\n      <td>...</td>\n      <td>...</td>\n      <td>...</td>\n      <td>...</td>\n      <td>...</td>\n      <td>...</td>\n      <td>...</td>\n      <td>...</td>\n      <td>...</td>\n      <td>...</td>\n      <td>...</td>\n      <td>...</td>\n      <td>...</td>\n      <td>...</td>\n      <td>...</td>\n    </tr>\n    <tr>\n      <th>113</th>\n      <td>19</td>\n      <td>3</td>\n      <td>19-L0</td>\n      <td>None</td>\n      <td>None</td>\n      <td>19-S1</td>\n      <td>None</td>\n      <td>NaN</td>\n      <td>NaN</td>\n      <td>None</td>\n      <td>None</td>\n      <td>None</td>\n      <td>-0.015776</td>\n      <td>29</td>\n      <td>29</td>\n    </tr>\n    <tr>\n      <th>114</th>\n      <td>19</td>\n      <td>3</td>\n      <td>19-L2</td>\n      <td>None</td>\n      <td>None</td>\n      <td>19-S1</td>\n      <td>None</td>\n      <td>NaN</td>\n      <td>NaN</td>\n      <td>None</td>\n      <td>None</td>\n      <td>None</td>\n      <td>-0.002080</td>\n      <td>24</td>\n      <td>24</td>\n    </tr>\n    <tr>\n      <th>115</th>\n      <td>19</td>\n      <td>2</td>\n      <td>19-S2</td>\n      <td>19-L1</td>\n      <td>19-L3</td>\n      <td>19-S0</td>\n      <td>Column_2</td>\n      <td>0.136292</td>\n      <td>5.15</td>\n      <td>&lt;=</td>\n      <td>left</td>\n      <td>None</td>\n      <td>0.010796</td>\n      <td>47</td>\n      <td>47</td>\n    </tr>\n    <tr>\n      <th>116</th>\n      <td>19</td>\n      <td>3</td>\n      <td>19-L1</td>\n      <td>None</td>\n      <td>None</td>\n      <td>19-S2</td>\n      <td>None</td>\n      <td>NaN</td>\n      <td>NaN</td>\n      <td>None</td>\n      <td>None</td>\n      <td>None</td>\n      <td>0.005295</td>\n      <td>23</td>\n      <td>23</td>\n    </tr>\n    <tr>\n      <th>117</th>\n      <td>19</td>\n      <td>3</td>\n      <td>19-L3</td>\n      <td>None</td>\n      <td>None</td>\n      <td>19-S2</td>\n      <td>None</td>\n      <td>NaN</td>\n      <td>NaN</td>\n      <td>None</td>\n      <td>None</td>\n      <td>None</td>\n      <td>0.016068</td>\n      <td>24</td>\n      <td>24</td>\n    </tr>\n  </tbody>\n</table>\n<p>118 rows × 15 columns</p>\n</div>"
     },
     "metadata": {}
    }
   ]
  },
  {
   "cell_type": "code",
   "metadata": {
    "cell_id": "719ffdc1-ab3d-41ce-a755-5e6eab29c760",
    "tags": [],
    "deepnote_to_be_reexecuted": false,
    "source_hash": "e8fb530d",
    "execution_start": 1643533771203,
    "execution_millis": 1,
    "deepnote_output_heights": [
     21
    ],
    "deepnote_cell_type": "code"
   },
   "source": "df_trees.tree_index.nunique()",
   "execution_count": null,
   "outputs": [
    {
     "output_type": "execute_result",
     "execution_count": 7,
     "data": {
      "text/plain": "20"
     },
     "metadata": {}
    }
   ]
  },
  {
   "cell_type": "code",
   "metadata": {
    "cell_id": "6bdc0092-002c-4f91-b162-b4074761ba1f",
    "tags": [],
    "deepnote_to_be_reexecuted": false,
    "source_hash": "55930f49",
    "execution_start": 1643533827779,
    "execution_millis": 1,
    "deepnote_output_heights": [
     40
    ],
    "deepnote_cell_type": "code"
   },
   "source": "df_trees.tree_index.unique()",
   "execution_count": null,
   "outputs": [
    {
     "output_type": "execute_result",
     "execution_count": 11,
     "data": {
      "text/plain": "array([ 0,  1,  2,  3,  4,  5,  6,  7,  8,  9, 10, 11, 12, 13, 14, 15, 16,\n       17, 18, 19])"
     },
     "metadata": {}
    }
   ]
  },
  {
   "cell_type": "code",
   "metadata": {
    "cell_id": "e3b1c846-df89-4f3e-8f45-bf31deb892ea",
    "tags": [],
    "deepnote_to_be_reexecuted": false,
    "source_hash": "cdf8e103",
    "execution_start": 1643533771250,
    "execution_millis": 42,
    "deepnote_output_heights": [
     158
    ],
    "deepnote_cell_type": "code"
   },
   "source": "lgb.create_tree_digraph(gbm, tree_index=0)",
   "execution_count": null,
   "outputs": [
    {
     "output_type": "execute_result",
     "execution_count": 8,
     "data": {
      "image/svg+xml": "<?xml version=\"1.0\" encoding=\"UTF-8\" standalone=\"no\"?>\n<!DOCTYPE svg PUBLIC \"-//W3C//DTD SVG 1.1//EN\"\n \"http://www.w3.org/Graphics/SVG/1.1/DTD/svg11.dtd\">\n<!-- Generated by graphviz version 2.40.1 (20161225.0304)\n -->\n<!-- Title: %3 Pages: 1 -->\n<svg width=\"561pt\" height=\"104pt\"\n viewBox=\"0.00 0.00 560.99 104.00\" xmlns=\"http://www.w3.org/2000/svg\" xmlns:xlink=\"http://www.w3.org/1999/xlink\">\n<g id=\"graph0\" class=\"graph\" transform=\"scale(1 1) rotate(0) translate(4 100)\">\n<title>%3</title>\n<polygon fill=\"#ffffff\" stroke=\"transparent\" points=\"-4,4 -4,-100 556.9873,-100 556.9873,4 -4,4\"/>\n<!-- split0 -->\n<g id=\"node1\" class=\"node\">\n<title>split0</title>\n<polygon fill=\"none\" stroke=\"#000000\" points=\"158,-76 0,-76 0,-40 158,-40 158,-76\"/>\n<text text-anchor=\"start\" x=\"8\" y=\"-55.3\" font-family=\"Times,serif\" font-weight=\"bold\" font-size=\"14.00\" fill=\"#000000\">Column_2</text>\n<text text-anchor=\"start\" x=\"88\" y=\"-55.3\" font-family=\"Times,serif\" font-size=\"14.00\" fill=\"#000000\"> ≤</text>\n<text text-anchor=\"start\" x=\"105\" y=\"-55.3\" font-family=\"Times,serif\" font-weight=\"bold\" font-size=\"14.00\" fill=\"#000000\">3.150</text>\n</g>\n<!-- leaf0 -->\n<g id=\"node2\" class=\"node\">\n<title>leaf0</title>\n<ellipse fill=\"none\" stroke=\"#000000\" cx=\"284\" cy=\"-78\" rx=\"71.4873\" ry=\"18\"/>\n<text text-anchor=\"start\" x=\"237\" y=\"-75.3\" font-family=\"Times,serif\" font-size=\"14.00\" fill=\"#000000\">leaf 0: </text>\n<text text-anchor=\"start\" x=\"286\" y=\"-75.3\" font-family=\"Times,serif\" font-weight=\"bold\" font-size=\"14.00\" fill=\"#000000\">0.930</text>\n</g>\n<!-- split0&#45;&gt;leaf0 -->\n<g id=\"edge1\" class=\"edge\">\n<title>split0&#45;&gt;leaf0</title>\n<path fill=\"none\" stroke=\"#000000\" d=\"M158.2584,-65.7325C174.2478,-67.2925 191.0337,-68.9301 206.9462,-70.4826\"/>\n<polygon fill=\"#000000\" stroke=\"#000000\" points=\"206.9671,-74.0011 217.2598,-71.4888 207.6469,-67.0342 206.9671,-74.0011\"/>\n<text text-anchor=\"middle\" x=\"181.5\" y=\"-72.8\" font-family=\"Times,serif\" font-size=\"14.00\" fill=\"#000000\">yes</text>\n</g>\n<!-- split1 -->\n<g id=\"node3\" class=\"node\">\n<title>split1</title>\n<polygon fill=\"none\" stroke=\"#000000\" points=\"363,-56 205,-56 205,-20 363,-20 363,-56\"/>\n<text text-anchor=\"start\" x=\"213\" y=\"-35.3\" font-family=\"Times,serif\" font-weight=\"bold\" font-size=\"14.00\" fill=\"#000000\">Column_3</text>\n<text text-anchor=\"start\" x=\"293\" y=\"-35.3\" font-family=\"Times,serif\" font-size=\"14.00\" fill=\"#000000\"> ≤</text>\n<text text-anchor=\"start\" x=\"310\" y=\"-35.3\" font-family=\"Times,serif\" font-weight=\"bold\" font-size=\"14.00\" fill=\"#000000\">1.750</text>\n</g>\n<!-- split0&#45;&gt;split1 -->\n<g id=\"edge4\" class=\"edge\">\n<title>split0&#45;&gt;split1</title>\n<path fill=\"none\" stroke=\"#000000\" d=\"M158.2584,-50.2675C170.2295,-49.0996 182.6472,-47.8881 194.8105,-46.7014\"/>\n<polygon fill=\"#000000\" stroke=\"#000000\" points=\"195.3396,-50.1665 204.9524,-45.712 194.6598,-43.1996 195.3396,-50.1665\"/>\n<text text-anchor=\"middle\" x=\"181.5\" y=\"-52.8\" font-family=\"Times,serif\" font-size=\"14.00\" fill=\"#000000\">no</text>\n</g>\n<!-- leaf1 -->\n<g id=\"node4\" class=\"node\">\n<title>leaf1</title>\n<ellipse fill=\"none\" stroke=\"#000000\" cx=\"481.4937\" cy=\"-58\" rx=\"71.4873\" ry=\"18\"/>\n<text text-anchor=\"start\" x=\"434.4937\" y=\"-55.3\" font-family=\"Times,serif\" font-size=\"14.00\" fill=\"#000000\">leaf 1: </text>\n<text text-anchor=\"start\" x=\"483.4937\" y=\"-55.3\" font-family=\"Times,serif\" font-weight=\"bold\" font-size=\"14.00\" fill=\"#000000\">1.038</text>\n</g>\n<!-- split1&#45;&gt;leaf1 -->\n<g id=\"edge2\" class=\"edge\">\n<title>split1&#45;&gt;leaf1</title>\n<path fill=\"none\" stroke=\"#000000\" d=\"M363.1903,-46.0195C376.8727,-47.4051 391.0769,-48.8436 404.6946,-50.2226\"/>\n<polygon fill=\"#000000\" stroke=\"#000000\" points=\"404.6737,-53.7383 414.9754,-51.2638 405.379,-46.7739 404.6737,-53.7383\"/>\n<text text-anchor=\"middle\" x=\"386.5\" y=\"-52.8\" font-family=\"Times,serif\" font-size=\"14.00\" fill=\"#000000\">yes</text>\n</g>\n<!-- leaf2 -->\n<g id=\"node5\" class=\"node\">\n<title>leaf2</title>\n<ellipse fill=\"none\" stroke=\"#000000\" cx=\"481.4937\" cy=\"-18\" rx=\"71.4873\" ry=\"18\"/>\n<text text-anchor=\"start\" x=\"434.4937\" y=\"-15.3\" font-family=\"Times,serif\" font-size=\"14.00\" fill=\"#000000\">leaf 2: </text>\n<text text-anchor=\"start\" x=\"483.4937\" y=\"-15.3\" font-family=\"Times,serif\" font-weight=\"bold\" font-size=\"14.00\" fill=\"#000000\">1.124</text>\n</g>\n<!-- split1&#45;&gt;leaf2 -->\n<g id=\"edge3\" class=\"edge\">\n<title>split1&#45;&gt;leaf2</title>\n<path fill=\"none\" stroke=\"#000000\" d=\"M363.1903,-29.9805C376.8727,-28.5949 391.0769,-27.1564 404.6946,-25.7774\"/>\n<polygon fill=\"#000000\" stroke=\"#000000\" points=\"405.379,-29.2261 414.9754,-24.7362 404.6737,-22.2617 405.379,-29.2261\"/>\n<text text-anchor=\"middle\" x=\"386.5\" y=\"-31.8\" font-family=\"Times,serif\" font-size=\"14.00\" fill=\"#000000\">no</text>\n</g>\n</g>\n</svg>\n",
      "text/plain": "<graphviz.graphs.Digraph at 0x7fe452f76790>"
     },
     "metadata": {}
    }
   ]
  },
  {
   "cell_type": "code",
   "metadata": {
    "cell_id": "8b6e6426-2883-4be6-82bc-c9fba50222d8",
    "tags": [],
    "deepnote_to_be_reexecuted": false,
    "source_hash": "e7b92a3e",
    "execution_start": 1643533771291,
    "execution_millis": 7,
    "deepnote_output_heights": [
     158
    ],
    "deepnote_cell_type": "code"
   },
   "source": "lgb.create_tree_digraph(gbm, tree_index=1)",
   "execution_count": null,
   "outputs": [
    {
     "output_type": "execute_result",
     "execution_count": 9,
     "data": {
      "image/svg+xml": "<?xml version=\"1.0\" encoding=\"UTF-8\" standalone=\"no\"?>\n<!DOCTYPE svg PUBLIC \"-//W3C//DTD SVG 1.1//EN\"\n \"http://www.w3.org/Graphics/SVG/1.1/DTD/svg11.dtd\">\n<!-- Generated by graphviz version 2.40.1 (20161225.0304)\n -->\n<!-- Title: %3 Pages: 1 -->\n<svg width=\"561pt\" height=\"104pt\"\n viewBox=\"0.00 0.00 560.99 104.00\" xmlns=\"http://www.w3.org/2000/svg\" xmlns:xlink=\"http://www.w3.org/1999/xlink\">\n<g id=\"graph0\" class=\"graph\" transform=\"scale(1 1) rotate(0) translate(4 100)\">\n<title>%3</title>\n<polygon fill=\"#ffffff\" stroke=\"transparent\" points=\"-4,4 -4,-100 556.9873,-100 556.9873,4 -4,4\"/>\n<!-- split0 -->\n<g id=\"node1\" class=\"node\">\n<title>split0</title>\n<polygon fill=\"none\" stroke=\"#000000\" points=\"158,-76 0,-76 0,-40 158,-40 158,-76\"/>\n<text text-anchor=\"start\" x=\"8\" y=\"-55.3\" font-family=\"Times,serif\" font-weight=\"bold\" font-size=\"14.00\" fill=\"#000000\">Column_2</text>\n<text text-anchor=\"start\" x=\"88\" y=\"-55.3\" font-family=\"Times,serif\" font-size=\"14.00\" fill=\"#000000\"> ≤</text>\n<text text-anchor=\"start\" x=\"105\" y=\"-55.3\" font-family=\"Times,serif\" font-weight=\"bold\" font-size=\"14.00\" fill=\"#000000\">3.150</text>\n</g>\n<!-- leaf0 -->\n<g id=\"node2\" class=\"node\">\n<title>leaf0</title>\n<ellipse fill=\"none\" stroke=\"#000000\" cx=\"284\" cy=\"-78\" rx=\"75.2868\" ry=\"18\"/>\n<text text-anchor=\"start\" x=\"234\" y=\"-75.3\" font-family=\"Times,serif\" font-size=\"14.00\" fill=\"#000000\">leaf 0: </text>\n<text text-anchor=\"start\" x=\"283\" y=\"-75.3\" font-family=\"Times,serif\" font-weight=\"bold\" font-size=\"14.00\" fill=\"#000000\">&#45;0.090</text>\n</g>\n<!-- split0&#45;&gt;leaf0 -->\n<g id=\"edge1\" class=\"edge\">\n<title>split0&#45;&gt;leaf0</title>\n<path fill=\"none\" stroke=\"#000000\" d=\"M158.2584,-65.7325C173.1801,-67.1883 188.7955,-68.7118 203.7473,-70.1705\"/>\n<polygon fill=\"#000000\" stroke=\"#000000\" points=\"203.6833,-73.6808 213.9759,-71.1684 204.363,-66.7138 203.6833,-73.6808\"/>\n<text text-anchor=\"middle\" x=\"181.5\" y=\"-72.8\" font-family=\"Times,serif\" font-size=\"14.00\" fill=\"#000000\">yes</text>\n</g>\n<!-- split1 -->\n<g id=\"node3\" class=\"node\">\n<title>split1</title>\n<polygon fill=\"none\" stroke=\"#000000\" points=\"363,-56 205,-56 205,-20 363,-20 363,-56\"/>\n<text text-anchor=\"start\" x=\"213\" y=\"-35.3\" font-family=\"Times,serif\" font-weight=\"bold\" font-size=\"14.00\" fill=\"#000000\">Column_3</text>\n<text text-anchor=\"start\" x=\"293\" y=\"-35.3\" font-family=\"Times,serif\" font-size=\"14.00\" fill=\"#000000\"> ≤</text>\n<text text-anchor=\"start\" x=\"310\" y=\"-35.3\" font-family=\"Times,serif\" font-weight=\"bold\" font-size=\"14.00\" fill=\"#000000\">1.550</text>\n</g>\n<!-- split0&#45;&gt;split1 -->\n<g id=\"edge4\" class=\"edge\">\n<title>split0&#45;&gt;split1</title>\n<path fill=\"none\" stroke=\"#000000\" d=\"M158.2584,-50.2675C170.2295,-49.0996 182.6472,-47.8881 194.8105,-46.7014\"/>\n<polygon fill=\"#000000\" stroke=\"#000000\" points=\"195.3396,-50.1665 204.9524,-45.712 194.6598,-43.1996 195.3396,-50.1665\"/>\n<text text-anchor=\"middle\" x=\"181.5\" y=\"-52.8\" font-family=\"Times,serif\" font-size=\"14.00\" fill=\"#000000\">no</text>\n</g>\n<!-- leaf1 -->\n<g id=\"node4\" class=\"node\">\n<title>leaf1</title>\n<ellipse fill=\"none\" stroke=\"#000000\" cx=\"481.4937\" cy=\"-58\" rx=\"71.4873\" ry=\"18\"/>\n<text text-anchor=\"start\" x=\"434.4937\" y=\"-55.3\" font-family=\"Times,serif\" font-size=\"14.00\" fill=\"#000000\">leaf 1: </text>\n<text text-anchor=\"start\" x=\"483.4937\" y=\"-55.3\" font-family=\"Times,serif\" font-weight=\"bold\" font-size=\"14.00\" fill=\"#000000\">0.002</text>\n</g>\n<!-- split1&#45;&gt;leaf1 -->\n<g id=\"edge2\" class=\"edge\">\n<title>split1&#45;&gt;leaf1</title>\n<path fill=\"none\" stroke=\"#000000\" d=\"M363.1903,-46.0195C376.8727,-47.4051 391.0769,-48.8436 404.6946,-50.2226\"/>\n<polygon fill=\"#000000\" stroke=\"#000000\" points=\"404.6737,-53.7383 414.9754,-51.2638 405.379,-46.7739 404.6737,-53.7383\"/>\n<text text-anchor=\"middle\" x=\"386.5\" y=\"-52.8\" font-family=\"Times,serif\" font-size=\"14.00\" fill=\"#000000\">yes</text>\n</g>\n<!-- leaf2 -->\n<g id=\"node5\" class=\"node\">\n<title>leaf2</title>\n<ellipse fill=\"none\" stroke=\"#000000\" cx=\"481.4937\" cy=\"-18\" rx=\"71.4873\" ry=\"18\"/>\n<text text-anchor=\"start\" x=\"434.4937\" y=\"-15.3\" font-family=\"Times,serif\" font-size=\"14.00\" fill=\"#000000\">leaf 2: </text>\n<text text-anchor=\"start\" x=\"483.4937\" y=\"-15.3\" font-family=\"Times,serif\" font-weight=\"bold\" font-size=\"14.00\" fill=\"#000000\">0.080</text>\n</g>\n<!-- split1&#45;&gt;leaf2 -->\n<g id=\"edge3\" class=\"edge\">\n<title>split1&#45;&gt;leaf2</title>\n<path fill=\"none\" stroke=\"#000000\" d=\"M363.1903,-29.9805C376.8727,-28.5949 391.0769,-27.1564 404.6946,-25.7774\"/>\n<polygon fill=\"#000000\" stroke=\"#000000\" points=\"405.379,-29.2261 414.9754,-24.7362 404.6737,-22.2617 405.379,-29.2261\"/>\n<text text-anchor=\"middle\" x=\"386.5\" y=\"-31.8\" font-family=\"Times,serif\" font-size=\"14.00\" fill=\"#000000\">no</text>\n</g>\n</g>\n</svg>\n",
      "text/plain": "<graphviz.graphs.Digraph at 0x7fe452f76dd0>"
     },
     "metadata": {}
    }
   ]
  },
  {
   "cell_type": "markdown",
   "source": "#### Tree index:\n\nTree index refers to the tree we are looking at. In this case, we are looking at the tree with index 0. The first estimator.  \n\n#### Node depth:\n\nIndicates the level at which the partition takes place. For example, the first row refers to node depth 1, which is the first partition (node index 0-S0).\n\n#### Node index, left child and right child, parent node:\n\nIndicates the index of the node and the index of its “children”. In other words, the nodes to which the current node partitions to create. Parent node refers to the node the current node partitions from. Since 0-S0 is the first partition, it does not have a parent node.  \n\n#### Split feature:\n\nthe feature the node partitions to create children nodes or leaves.\n\n#### Split gain:\n\nMeasures split quality through.\n\n#### Threshold:\n\nFeature value used to decide whether the observation will advance to the node’s left children or right children.  \n\n#### Missing direction:\n\nIndicates to which child node the missing values go (based on the decision type).  \n\n#### Value:\n\nThese are the raw predictions. Follow appendix example A.1. for details.  \n\n#### Weight\n\nUsed in the split-gain calculation.\n\n#### Count:\n\nThe count is the number of observations that fall inside the node.",
   "metadata": {
    "cell_id": "e0e2d89f-1aa0-4b4f-b80b-52044e85fbff",
    "tags": [],
    "deepnote_cell_type": "markdown"
   }
  },
  {
   "cell_type": "code",
   "metadata": {
    "cell_id": "7cb1b910-2ae1-4d56-b34f-4fa41b096b6a",
    "tags": [],
    "deepnote_to_be_reexecuted": false,
    "source_hash": "66e89155",
    "execution_start": 1643533771302,
    "execution_millis": 73,
    "deepnote_output_heights": [
     611
    ],
    "deepnote_cell_type": "code"
   },
   "source": "gbm.dump_model()",
   "execution_count": null,
   "outputs": [
    {
     "output_type": "execute_result",
     "execution_count": 10,
     "data": {
      "text/plain": "{'name': 'tree',\n 'version': 'v3',\n 'num_class': 1,\n 'num_tree_per_iteration': 1,\n 'label_index': 0,\n 'max_feature_idx': 3,\n 'objective': 'regression',\n 'average_output': False,\n 'feature_names': ['Column_0', 'Column_1', 'Column_2', 'Column_3'],\n 'monotone_constraints': [],\n 'feature_infos': {'Column_0': {'min_value': 4.3,\n   'max_value': 7.7,\n   'values': []},\n  'Column_1': {'min_value': 2, 'max_value': 4.2, 'values': []},\n  'Column_2': {'min_value': 1.1, 'max_value': 6.7, 'values': []},\n  'Column_3': {'min_value': 0.1, 'max_value': 2.5, 'values': []}},\n 'tree_info': [{'tree_index': 0,\n   'num_leaves': 3,\n   'num_cat': 0,\n   'shrinkage': 1,\n   'tree_structure': {'split_index': 0,\n    'split_feature': 2,\n    'split_gain': 46.941200256347656,\n    'threshold': 3.1500000000000004,\n    'decision_type': '<=',\n    'default_left': True,\n    'missing_type': 'None',\n    'internal_value': 1.03,\n    'internal_weight': 0,\n    'internal_count': 100,\n    'left_child': {'leaf_index': 0,\n     'leaf_value': 0.9301250027737115,\n     'leaf_weight': 32,\n     'leaf_count': 32},\n    'right_child': {'split_index': 1,\n     'split_feature': 3,\n     'split_gain': 12.464699745178223,\n     'threshold': 1.7500000000000002,\n     'decision_type': '<=',\n     'default_left': True,\n     'missing_type': 'None',\n     'internal_value': 1.077,\n     'internal_weight': 68,\n     'internal_count': 68,\n     'left_child': {'leaf_index': 1,\n      'leaf_value': 1.0378108111799167,\n      'leaf_weight': 37,\n      'leaf_count': 37},\n     'right_child': {'leaf_index': 2,\n      'leaf_value': 1.123774196319282,\n      'leaf_weight': 31,\n      'leaf_count': 31}}}},\n  {'tree_index': 1,\n   'num_leaves': 3,\n   'num_cat': 0,\n   'shrinkage': 0.1,\n   'tree_structure': {'split_index': 0,\n    'split_feature': 2,\n    'split_gain': 38.02239990234375,\n    'threshold': 3.1500000000000004,\n    'decision_type': '<=',\n    'default_left': True,\n    'missing_type': 'None',\n    'internal_value': 0,\n    'internal_weight': 0,\n    'internal_count': 100,\n    'left_child': {'leaf_index': 0,\n     'leaf_value': -0.0898874998325482,\n     'leaf_weight': 32,\n     'leaf_count': 32},\n    'right_child': {'split_index': 1,\n     'split_feature': 3,\n     'split_gain': 10.268799781799316,\n     'threshold': 1.5500000000000003,\n     'decision_type': '<=',\n     'default_left': True,\n     'missing_type': 'None',\n     'internal_value': 0.0423,\n     'internal_weight': 68,\n     'internal_count': 68,\n     'left_child': {'leaf_index': 1,\n      'leaf_value': 0.002279525114731355,\n      'leaf_weight': 33,\n      'leaf_count': 33},\n     'right_child': {'leaf_index': 2,\n      'leaf_value': 0.08003359273076058,\n      'leaf_weight': 35,\n      'leaf_count': 35}}}},\n  {'tree_index': 2,\n   'num_leaves': 3,\n   'num_cat': 0,\n   'shrinkage': 0.1,\n   'tree_structure': {'split_index': 0,\n    'split_feature': 2,\n    'split_gain': 30.798200607299805,\n    'threshold': 3.1500000000000004,\n    'decision_type': '<=',\n    'default_left': True,\n    'missing_type': 'None',\n    'internal_value': 0,\n    'internal_weight': 0,\n    'internal_count': 100,\n    'left_child': {'leaf_index': 0,\n     'leaf_value': -0.08089874982833863,\n     'leaf_weight': 32,\n     'leaf_count': 32},\n    'right_child': {'split_index': 1,\n     'split_feature': 3,\n     'split_gain': 8.36752986907959,\n     'threshold': 1.7500000000000002,\n     'decision_type': '<=',\n     'default_left': True,\n     'missing_type': 'None',\n     'internal_value': 0.03807,\n     'internal_weight': 68,\n     'internal_count': 68,\n     'left_child': {'leaf_index': 1,\n      'leaf_value': 0.005961192661040539,\n      'leaf_weight': 37,\n      'leaf_count': 37},\n     'right_child': {'leaf_index': 2,\n      'leaf_value': 0.07639341637972863,\n      'leaf_weight': 31,\n      'leaf_count': 31}}}},\n  {'tree_index': 3,\n   'num_leaves': 3,\n   'num_cat': 0,\n   'shrinkage': 0.1,\n   'tree_structure': {'split_index': 0,\n    'split_feature': 2,\n    'split_gain': 24.946500778198242,\n    'threshold': 3.1500000000000004,\n    'decision_type': '<=',\n    'default_left': True,\n    'missing_type': 'None',\n    'internal_value': 0,\n    'internal_weight': 0,\n    'internal_count': 100,\n    'left_child': {'leaf_index': 0,\n     'leaf_value': -0.072808873699978,\n     'leaf_weight': 32,\n     'leaf_count': 32},\n    'right_child': {'split_index': 1,\n     'split_feature': 3,\n     'split_gain': 6.90084981918335,\n     'threshold': 1.5500000000000003,\n     'decision_type': '<=',\n     'default_left': True,\n     'missing_type': 'None',\n     'internal_value': 0.034263,\n     'internal_weight': 68,\n     'internal_count': 68,\n     'left_child': {'leaf_index': 1,\n      'leaf_value': 0.0014554533881671501,\n      'leaf_weight': 33,\n      'leaf_count': 33},\n     'right_child': {'leaf_index': 2,\n      'leaf_value': 0.06519583012376513,\n      'leaf_weight': 35,\n      'leaf_count': 35}}}},\n  {'tree_index': 4,\n   'num_leaves': 3,\n   'num_cat': 0,\n   'shrinkage': 0.1,\n   'tree_structure': {'split_index': 0,\n    'split_feature': 2,\n    'split_gain': 20.20669937133789,\n    'threshold': 3.1500000000000004,\n    'decision_type': '<=',\n    'default_left': True,\n    'missing_type': 'None',\n    'internal_value': 0,\n    'internal_weight': 0,\n    'internal_count': 100,\n    'left_child': {'leaf_index': 0,\n     'leaf_value': -0.06552798748016357,\n     'leaf_weight': 32,\n     'leaf_count': 32},\n    'right_child': {'split_index': 1,\n     'split_feature': 2,\n     'split_gain': 5.691740036010742,\n     'threshold': 4.950000000000001,\n     'decision_type': '<=',\n     'default_left': True,\n     'missing_type': 'None',\n     'internal_value': 0.0308367,\n     'internal_weight': 68,\n     'internal_count': 68,\n     'left_child': {'leaf_index': 1,\n      'leaf_value': 0.004354856525723999,\n      'leaf_weight': 37,\n      'leaf_count': 37},\n     'right_child': {'leaf_index': 2,\n      'leaf_value': 0.062444059022011306,\n      'leaf_weight': 31,\n      'leaf_count': 31}}}},\n  {'tree_index': 5,\n   'num_leaves': 3,\n   'num_cat': 0,\n   'shrinkage': 0.1,\n   'tree_structure': {'split_index': 0,\n    'split_feature': 3,\n    'split_gain': 16.41699981689453,\n    'threshold': 1.0500000000000003,\n    'decision_type': '<=',\n    'default_left': True,\n    'missing_type': 'None',\n    'internal_value': 0,\n    'internal_weight': 0,\n    'internal_count': 100,\n    'left_child': {'leaf_index': 0,\n     'leaf_value': -0.05287089162581676,\n     'leaf_weight': 37,\n     'leaf_count': 37},\n    'right_child': {'split_index': 1,\n     'split_feature': 3,\n     'split_gain': 4.086410045623779,\n     'threshold': 1.7500000000000002,\n     'decision_type': '<=',\n     'default_left': True,\n     'missing_type': 'None',\n     'internal_value': 0.0310512,\n     'internal_weight': 63,\n     'internal_count': 63,\n     'left_child': {'leaf_index': 1,\n      'leaf_value': 0.005983929475769401,\n      'leaf_weight': 32,\n      'leaf_count': 32},\n     'right_child': {'leaf_index': 2,\n      'leaf_value': 0.056927007436752323,\n      'leaf_weight': 31,\n      'leaf_count': 31}}}},\n  {'tree_index': 6,\n   'num_leaves': 3,\n   'num_cat': 0,\n   'shrinkage': 0.1,\n   'tree_structure': {'split_index': 0,\n    'split_feature': 2,\n    'split_gain': 13.657400131225586,\n    'threshold': 3.1500000000000004,\n    'decision_type': '<=',\n    'default_left': True,\n    'missing_type': 'None',\n    'internal_value': 0,\n    'internal_weight': 0,\n    'internal_count': 100,\n    'left_child': {'leaf_index': 0,\n     'leaf_value': -0.053872024174779654,\n     'leaf_weight': 32,\n     'leaf_count': 32},\n    'right_child': {'split_index': 1,\n     'split_feature': 2,\n     'split_gain': 3.8720901012420654,\n     'threshold': 4.8500000000000005,\n     'decision_type': '<=',\n     'default_left': True,\n     'missing_type': 'None',\n     'internal_value': 0.0253515,\n     'internal_weight': 68,\n     'internal_count': 68,\n     'left_child': {'leaf_index': 1,\n      'leaf_value': 0.0007764385526322507,\n      'leaf_weight': 33,\n      'leaf_count': 33},\n     'right_child': {'leaf_index': 2,\n      'leaf_value': 0.048522347233125145,\n      'leaf_weight': 35,\n      'leaf_count': 35}}}},\n  {'tree_index': 7,\n   'num_leaves': 3,\n   'num_cat': 0,\n   'shrinkage': 0.1,\n   'tree_structure': {'split_index': 0,\n    'split_feature': 2,\n    'split_gain': 11.0625,\n    'threshold': 3.1500000000000004,\n    'decision_type': '<=',\n    'default_left': True,\n    'missing_type': 'None',\n    'internal_value': 0,\n    'internal_weight': 0,\n    'internal_count': 100,\n    'left_child': {'leaf_index': 0,\n     'leaf_value': -0.04848481938242913,\n     'leaf_weight': 32,\n     'leaf_count': 32},\n    'right_child': {'split_index': 1,\n     'split_feature': 3,\n     'split_gain': 3.2892301082611084,\n     'threshold': 1.7500000000000002,\n     'decision_type': '<=',\n     'default_left': True,\n     'missing_type': 'None',\n     'internal_value': 0.0228164,\n     'internal_weight': 68,\n     'internal_count': 68,\n     'left_child': {'leaf_index': 1,\n      'leaf_value': 0.0026850326479148324,\n      'leaf_weight': 37,\n      'leaf_count': 37},\n     'right_child': {'leaf_index': 2,\n      'leaf_value': 0.04684412960083254,\n      'leaf_weight': 31,\n      'leaf_count': 31}}}},\n  {'tree_index': 8,\n   'num_leaves': 4,\n   'num_cat': 0,\n   'shrinkage': 0.1,\n   'tree_structure': {'split_index': 0,\n    'split_feature': 2,\n    'split_gain': 9.008830070495605,\n    'threshold': 4.450000000000001,\n    'decision_type': '<=',\n    'default_left': True,\n    'missing_type': 'None',\n    'internal_value': 0,\n    'internal_weight': 0,\n    'internal_count': 100,\n    'left_child': {'split_index': 1,\n     'split_feature': 2,\n     'split_gain': 2.2316699028015137,\n     'threshold': 1.8,\n     'decision_type': '<=',\n     'default_left': True,\n     'missing_type': 'None',\n     'internal_value': -0.0277023,\n     'internal_weight': 54,\n     'internal_count': 54,\n     'left_child': {'leaf_index': 0,\n      'leaf_value': -0.04657741487026215,\n      'leaf_weight': 29,\n      'leaf_count': 29},\n     'right_child': {'leaf_index': 2,\n      'leaf_value': -0.005807230478152633,\n      'leaf_weight': 25,\n      'leaf_count': 25}},\n    'right_child': {'split_index': 2,\n     'split_feature': 2,\n     'split_gain': 1.0050100088119507,\n     'threshold': 5.150000000000001,\n     'decision_type': '<=',\n     'default_left': True,\n     'missing_type': 'None',\n     'internal_value': 0.0325201,\n     'internal_weight': 46,\n     'internal_count': 46,\n     'left_child': {'leaf_index': 1,\n      'leaf_value': 0.017081808857619764,\n      'leaf_weight': 22,\n      'leaf_count': 22},\n     'right_child': {'leaf_index': 3,\n      'leaf_value': 0.04667191629608472,\n      'leaf_weight': 24,\n      'leaf_count': 24}}}},\n  {'tree_index': 9,\n   'num_leaves': 3,\n   'num_cat': 0,\n   'shrinkage': 0.1,\n   'tree_structure': {'split_index': 0,\n    'split_feature': 3,\n    'split_gain': 7.31328010559082,\n    'threshold': 1.0500000000000003,\n    'decision_type': '<=',\n    'default_left': True,\n    'missing_type': 'None',\n    'internal_value': 0,\n    'internal_weight': 0,\n    'internal_count': 100,\n    'left_child': {'leaf_index': 0,\n     'leaf_value': -0.03528786721463139,\n     'leaf_weight': 37,\n     'leaf_count': 37},\n    'right_child': {'split_index': 1,\n     'split_feature': 2,\n     'split_gain': 1.9294899702072144,\n     'threshold': 4.950000000000001,\n     'decision_type': '<=',\n     'default_left': True,\n     'missing_type': 'None',\n     'internal_value': 0.0207246,\n     'internal_weight': 63,\n     'internal_count': 63,\n     'left_child': {'leaf_index': 1,\n      'leaf_value': 0.003499697521328926,\n      'leaf_weight': 32,\n      'leaf_count': 32},\n     'right_child': {'leaf_index': 2,\n      'leaf_value': 0.03850518503496724,\n      'leaf_weight': 31,\n      'leaf_count': 31}}}},\n  {'tree_index': 10,\n   'num_leaves': 4,\n   'num_cat': 0,\n   'shrinkage': 0.1,\n   'tree_structure': {'split_index': 0,\n    'split_feature': 3,\n    'split_gain': 6.108500003814697,\n    'threshold': 0.45000000000000007,\n    'decision_type': '<=',\n    'default_left': True,\n    'missing_type': 'None',\n    'internal_value': 0,\n    'internal_weight': 0,\n    'internal_count': 100,\n    'left_child': {'leaf_index': 0,\n     'leaf_value': -0.03867206059653184,\n     'leaf_weight': 29,\n     'leaf_count': 29},\n    'right_child': {'split_index': 1,\n     'split_feature': 3,\n     'split_gain': 2.0432701110839844,\n     'threshold': 1.7500000000000002,\n     'decision_type': '<=',\n     'default_left': True,\n     'missing_type': 'None',\n     'internal_value': 0.0157956,\n     'internal_weight': 71,\n     'internal_count': 71,\n     'left_child': {'split_index': 2,\n      'split_feature': 1,\n      'split_gain': 0.35080501437187195,\n      'threshold': 2.7500000000000004,\n      'decision_type': '<=',\n      'default_left': True,\n      'missing_type': 'None',\n      'internal_value': 0.000861344,\n      'internal_weight': 40,\n      'internal_count': 40,\n      'left_child': {'leaf_index': 1,\n       'leaf_value': 0.01022623296827078,\n       'leaf_weight': 20,\n       'leaf_count': 20},\n      'right_child': {'leaf_index': 3,\n       'leaf_value': -0.008503544591367245,\n       'leaf_weight': 20,\n       'leaf_count': 20}},\n     'right_child': {'leaf_index': 2,\n      'leaf_value': 0.03506567718521241,\n      'leaf_weight': 31,\n      'leaf_count': 31}}}},\n  {'tree_index': 11,\n   'num_leaves': 4,\n   'num_cat': 0,\n   'shrinkage': 0.1,\n   'tree_structure': {'split_index': 0,\n    'split_feature': 2,\n    'split_gain': 5.017549991607666,\n    'threshold': 4.450000000000001,\n    'decision_type': '<=',\n    'default_left': True,\n    'missing_type': 'None',\n    'internal_value': 0,\n    'internal_weight': 0,\n    'internal_count': 100,\n    'left_child': {'split_index': 1,\n     'split_feature': 3,\n     'split_gain': 1.2507699728012085,\n     'threshold': 0.45000000000000007,\n     'decision_type': '<=',\n     'default_left': True,\n     'missing_type': 'None',\n     'internal_value': -0.0206742,\n     'internal_weight': 54,\n     'internal_count': 54,\n     'left_child': {'leaf_index': 0,\n      'leaf_value': -0.03480485461909196,\n      'leaf_weight': 29,\n      'leaf_count': 29},\n     'right_child': {'leaf_index': 2,\n      'leaf_value': -0.004282545909285546,\n      'leaf_weight': 25,\n      'leaf_count': 25}},\n    'right_child': {'split_index': 2,\n     'split_feature': 2,\n     'split_gain': 0.5705670118331909,\n     'threshold': 5.150000000000001,\n     'decision_type': '<=',\n     'default_left': True,\n     'missing_type': 'None',\n     'internal_value': 0.0242697,\n     'internal_weight': 46,\n     'internal_count': 46,\n     'left_child': {'leaf_index': 1,\n      'leaf_value': 0.012637282738631423,\n      'leaf_weight': 22,\n      'leaf_count': 22},\n     'right_child': {'leaf_index': 3,\n      'leaf_value': 0.034932674715916316,\n      'leaf_weight': 24,\n      'leaf_count': 24}}}},\n  {'tree_index': 12,\n   'num_leaves': 4,\n   'num_cat': 0,\n   'shrinkage': 0.1,\n   'tree_structure': {'split_index': 0,\n    'split_feature': 2,\n    'split_gain': 4.064209938049316,\n    'threshold': 4.450000000000001,\n    'decision_type': '<=',\n    'default_left': True,\n    'missing_type': 'None',\n    'internal_value': 0,\n    'internal_weight': 0,\n    'internal_count': 100,\n    'left_child': {'split_index': 1,\n     'split_feature': 2,\n     'split_gain': 1.0351300239562988,\n     'threshold': 1.8,\n     'decision_type': '<=',\n     'default_left': True,\n     'missing_type': 'None',\n     'internal_value': -0.0186067,\n     'internal_weight': 54,\n     'internal_count': 54,\n     'left_child': {'leaf_index': 0,\n      'leaf_value': -0.031461753105295115,\n      'leaf_weight': 29,\n      'leaf_count': 29},\n     'right_child': {'leaf_index': 2,\n      'leaf_value': -0.003694926053285599,\n      'leaf_weight': 25,\n      'leaf_count': 25}},\n    'right_child': {'split_index': 2,\n     'split_feature': 2,\n     'split_gain': 0.46215900778770447,\n     'threshold': 5.150000000000001,\n     'decision_type': '<=',\n     'default_left': True,\n     'missing_type': 'None',\n     'internal_value': 0.0218427,\n     'internal_weight': 46,\n     'internal_count': 46,\n     'left_child': {'leaf_index': 1,\n      'leaf_value': 0.011373554915189744,\n      'leaf_weight': 22,\n      'leaf_count': 22},\n     'right_child': {'leaf_index': 3,\n      'leaf_value': 0.03143940741817157,\n      'leaf_weight': 24,\n      'leaf_count': 24}}}},\n  {'tree_index': 13,\n   'num_leaves': 4,\n   'num_cat': 0,\n   'shrinkage': 0.1,\n   'tree_structure': {'split_index': 0,\n    'split_feature': 2,\n    'split_gain': 3.2920100688934326,\n    'threshold': 4.450000000000001,\n    'decision_type': '<=',\n    'default_left': True,\n    'missing_type': 'None',\n    'internal_value': 0,\n    'internal_weight': 0,\n    'internal_count': 100,\n    'left_child': {'split_index': 1,\n     'split_feature': 3,\n     'split_gain': 0.8463199734687805,\n     'threshold': 0.45000000000000007,\n     'decision_type': '<=',\n     'default_left': True,\n     'missing_type': 'None',\n     'internal_value': -0.0167461,\n     'internal_weight': 54,\n     'internal_count': 54,\n     'left_child': {'leaf_index': 0,\n      'leaf_value': -0.028369690118164856,\n      'leaf_weight': 29,\n      'leaf_count': 29},\n     'right_child': {'leaf_index': 2,\n      'leaf_value': -0.0032626640200614926,\n      'leaf_weight': 25,\n      'leaf_count': 25}},\n    'right_child': {'split_index': 2,\n     'split_feature': 2,\n     'split_gain': 0.3743489980697632,\n     'threshold': 5.150000000000001,\n     'decision_type': '<=',\n     'default_left': True,\n     'missing_type': 'None',\n     'internal_value': 0.0196584,\n     'internal_weight': 46,\n     'internal_count': 46,\n     'left_child': {'leaf_index': 1,\n      'leaf_value': 0.010236199030821975,\n      'leaf_weight': 22,\n      'leaf_count': 22},\n     'right_child': {'leaf_index': 3,\n      'leaf_value': 0.028295468042294186,\n      'leaf_weight': 24,\n      'leaf_count': 24}}}},\n  {'tree_index': 14,\n   'num_leaves': 3,\n   'num_cat': 0,\n   'shrinkage': 0.1,\n   'tree_structure': {'split_index': 0,\n    'split_feature': 3,\n    'split_gain': 2.705859899520874,\n    'threshold': 1.5500000000000003,\n    'decision_type': '<=',\n    'default_left': True,\n    'missing_type': 'None',\n    'internal_value': 0,\n    'internal_weight': 0,\n    'internal_count': 100,\n    'left_child': {'split_index': 1,\n     'split_feature': 2,\n     'split_gain': 0.9657840132713318,\n     'threshold': 1.8,\n     'decision_type': '<=',\n     'default_left': True,\n     'missing_type': 'None',\n     'internal_value': -0.0120706,\n     'internal_weight': 65,\n     'internal_count': 65,\n     'left_child': {'leaf_index': 0,\n      'leaf_value': -0.02565176096455804,\n      'leaf_weight': 29,\n      'leaf_count': 29},\n     'right_child': {'leaf_index': 2,\n      'leaf_value': -0.0011302924611502224,\n      'leaf_weight': 36,\n      'leaf_count': 36}},\n    'right_child': {'leaf_index': 1,\n     'leaf_value': 0.022416902950831822,\n     'leaf_weight': 35,\n     'leaf_count': 35}}},\n  {'tree_index': 15,\n   'num_leaves': 3,\n   'num_cat': 0,\n   'shrinkage': 0.1,\n   'tree_structure': {'split_index': 0,\n    'split_feature': 2,\n    'split_gain': 2.217099905014038,\n    'threshold': 4.8500000000000005,\n    'decision_type': '<=',\n    'default_left': True,\n    'missing_type': 'None',\n    'internal_value': 0,\n    'internal_weight': 0,\n    'internal_count': 100,\n    'left_child': {'split_index': 1,\n     'split_feature': 1,\n     'split_gain': 0.869392991065979,\n     'threshold': 3.0500000000000003,\n     'decision_type': '<=',\n     'default_left': True,\n     'missing_type': 'None',\n     'internal_value': -0.0109262,\n     'internal_weight': 65,\n     'internal_count': 65,\n     'left_child': {'leaf_index': 0,\n      'leaf_value': -0.0011776439649494072,\n      'leaf_weight': 38,\n      'leaf_count': 38},\n     'right_child': {'leaf_index': 2,\n      'leaf_value': -0.024646458995563014,\n      'leaf_weight': 27,\n      'leaf_count': 27}},\n    'right_child': {'leaf_index': 1,\n     'leaf_value': 0.02029156804084778,\n     'leaf_weight': 35,\n     'leaf_count': 35}}},\n  {'tree_index': 16,\n   'num_leaves': 4,\n   'num_cat': 0,\n   'shrinkage': 0.1,\n   'tree_structure': {'split_index': 0,\n    'split_feature': 3,\n    'split_gain': 1.8346199989318848,\n    'threshold': 1.5500000000000003,\n    'decision_type': '<=',\n    'default_left': True,\n    'missing_type': 'None',\n    'internal_value': 0,\n    'internal_weight': 0,\n    'internal_count': 100,\n    'left_child': {'split_index': 1,\n     'split_feature': 1,\n     'split_gain': 0.7101989984512329,\n     'threshold': 2.85,\n     'decision_type': '<=',\n     'default_left': True,\n     'missing_type': 'None',\n     'internal_value': -0.00993918,\n     'internal_weight': 65,\n     'internal_count': 65,\n     'left_child': {'leaf_index': 0,\n      'leaf_value': 0.00467438819733533,\n      'leaf_weight': 22,\n      'leaf_count': 22},\n     'right_child': {'split_index': 2,\n      'split_feature': 1,\n      'split_gain': 0.0724852979183197,\n      'threshold': 3.2500000000000004,\n      'decision_type': '<=',\n      'default_left': True,\n      'missing_type': 'None',\n      'internal_value': -0.0174159,\n      'internal_weight': 43,\n      'internal_count': 43,\n      'left_child': {'leaf_index': 2,\n       'leaf_value': -0.01358726951091186,\n       'leaf_weight': 23,\n       'leaf_count': 23},\n      'right_child': {'leaf_index': 3,\n       'leaf_value': -0.021818793416023257,\n       'leaf_weight': 20,\n       'leaf_count': 20}}},\n    'right_child': {'leaf_index': 1,\n     'leaf_value': 0.018458472234862192,\n     'leaf_weight': 35,\n     'leaf_count': 35}}},\n  {'tree_index': 17,\n   'num_leaves': 4,\n   'num_cat': 0,\n   'shrinkage': 0.1,\n   'tree_structure': {'split_index': 0,\n    'split_feature': 3,\n    'split_gain': 1.5294699668884277,\n    'threshold': 0.45000000000000007,\n    'decision_type': '<=',\n    'default_left': True,\n    'missing_type': 'None',\n    'internal_value': 0,\n    'internal_weight': 0,\n    'internal_count': 100,\n    'left_child': {'leaf_index': 0,\n     'leaf_value': -0.01935089590220616,\n     'leaf_weight': 29,\n     'leaf_count': 29},\n    'right_child': {'split_index': 1,\n     'split_feature': 3,\n     'split_gain': 0.5623540282249451,\n     'threshold': 1.7500000000000002,\n     'decision_type': '<=',\n     'default_left': True,\n     'missing_type': 'None',\n     'internal_value': 0.00790389,\n     'internal_weight': 71,\n     'internal_count': 71,\n     'left_child': {'split_index': 2,\n      'split_feature': 1,\n      'split_gain': 0.24210700392723083,\n      'threshold': 2.7500000000000004,\n      'decision_type': '<=',\n      'default_left': True,\n      'missing_type': 'None',\n      'internal_value': 6.91097e-05,\n      'internal_weight': 40,\n      'internal_count': 40,\n      'left_child': {'leaf_index': 1,\n       'leaf_value': 0.007848998941481115,\n       'leaf_weight': 20,\n       'leaf_count': 20},\n      'right_child': {'leaf_index': 3,\n       'leaf_value': -0.0077107795141637325,\n       'leaf_weight': 20,\n       'leaf_count': 20}},\n     'right_child': {'leaf_index': 2,\n      'leaf_value': 0.01801327745760641,\n      'leaf_weight': 31,\n      'leaf_count': 31}}}},\n  {'tree_index': 18,\n   'num_leaves': 4,\n   'num_cat': 0,\n   'shrinkage': 0.1,\n   'tree_structure': {'split_index': 0,\n    'split_feature': 2,\n    'split_gain': 1.2741999626159668,\n    'threshold': 4.450000000000001,\n    'decision_type': '<=',\n    'default_left': True,\n    'missing_type': 'None',\n    'internal_value': 0,\n    'internal_weight': 0,\n    'internal_count': 100,\n    'left_child': {'split_index': 1,\n     'split_feature': 2,\n     'split_gain': 0.30936199426651,\n     'threshold': 1.8,\n     'decision_type': '<=',\n     'default_left': True,\n     'missing_type': 'None',\n     'internal_value': -0.0104184,\n     'internal_weight': 54,\n     'internal_count': 54,\n     'left_child': {'leaf_index': 0,\n      'leaf_value': -0.01744600945505603,\n      'leaf_weight': 29,\n      'leaf_count': 29},\n     'right_child': {'leaf_index': 2,\n      'leaf_value': -0.002266368195414543,\n      'leaf_weight': 25,\n      'leaf_count': 25}},\n    'right_child': {'split_index': 2,\n     'split_feature': 2,\n     'split_gain': 0.15864799916744232,\n     'threshold': 5.150000000000001,\n     'decision_type': '<=',\n     'default_left': True,\n     'missing_type': 'None',\n     'internal_value': 0.0122303,\n     'internal_weight': 46,\n     'internal_count': 46,\n     'left_child': {'leaf_index': 1,\n      'leaf_value': 0.0060964530333876615,\n      'leaf_weight': 22,\n      'leaf_count': 22},\n     'right_child': {'leaf_index': 3,\n      'leaf_value': 0.017852980022629104,\n      'leaf_weight': 24,\n      'leaf_count': 24}}}},\n  {'tree_index': 19,\n   'num_leaves': 4,\n   'num_cat': 0,\n   'shrinkage': 0.1,\n   'tree_structure': {'split_index': 0,\n    'split_feature': 3,\n    'split_gain': 1.0335999727249146,\n    'threshold': 1.3500000000000003,\n    'decision_type': '<=',\n    'default_left': True,\n    'missing_type': 'None',\n    'internal_value': 0,\n    'internal_weight': 0,\n    'internal_count': 100,\n    'left_child': {'split_index': 1,\n     'split_feature': 3,\n     'split_gain': 0.24633799493312836,\n     'threshold': 0.45000000000000007,\n     'decision_type': '<=',\n     'default_left': True,\n     'missing_type': 'None',\n     'internal_value': -0.00957386,\n     'internal_weight': 53,\n     'internal_count': 53,\n     'left_child': {'leaf_index': 0,\n      'leaf_value': -0.01577589296061417,\n      'leaf_weight': 29,\n      'leaf_count': 29},\n     'right_child': {'leaf_index': 2,\n      'leaf_value': -0.0020797362745118638,\n      'leaf_weight': 24,\n      'leaf_count': 24}},\n    'right_child': {'split_index': 2,\n     'split_feature': 2,\n     'split_gain': 0.1362919956445694,\n     'threshold': 5.150000000000001,\n     'decision_type': '<=',\n     'default_left': True,\n     'missing_type': 'None',\n     'internal_value': 0.0107961,\n     'internal_weight': 47,\n     'internal_count': 47,\n     'left_child': {'leaf_index': 1,\n      'leaf_value': 0.005295225261184185,\n      'leaf_weight': 23,\n      'leaf_count': 23},\n     'right_child': {'leaf_index': 3,\n      'leaf_value': 0.01606768233080705,\n      'leaf_weight': 24,\n      'leaf_count': 24}}}}],\n 'feature_importances': {'Column_1': 5, 'Column_2': 26, 'Column_3': 18},\n 'pandas_categorical': None}"
     },
     "metadata": {}
    }
   ]
  },
  {
   "cell_type": "markdown",
   "source": "\n#### `trees_to_dataframe()`\n\nParse the fitted model and return in an easy-to-read pandas DataFrame.\n\nThe returned DataFrame has the following columns.\n\n**tree_index** : int64, which tree a node belongs to. 0-based, so a value of 6, for example, means “this node is in the 7th tree”.\n\n**node_depth** : int64, how far a node is from the root of the tree. The root node has a value of 1, its direct children are 2, etc.\n\n**node_index** : str, unique identifier for a node.\n\n**left_child** : str, node_index of the child node to the left of a split. None for leaf nodes.\n\n**right_child** : str, node_index of the child node to the right of a split. None for leaf nodes.\n\n**parent_index** : str, node_index of this node’s parent. None for the root node.\n\n**split_feature** : str, name of the feature used for splitting. None for leaf nodes.\n\n**split_gain** : float64, gain from adding this split to the tree. NaN for leaf nodes.\n\n**threshold** : float64, value of the feature used to decide which side of the split a record will go down. NaN for leaf nodes.\n\n**decision_type** : str, logical operator describing how to compare a value to threshold. For example, split_feature = \"Column_10\", threshold = 15, decision_type = \"<=\" means that records where Column_10 <= 15 follow the left side of the split, otherwise follows the right side of the split. None for leaf nodes.\n\n**missing_direction** : str, split direction that missing values should go to. None for leaf nodes.\n\n**missing_type** : str, describes what types of values are treated as missing.\n\n**value** : float64, predicted value for this leaf node, multiplied by the learning rate.\n\n**weight** : float64 or int64, sum of hessian (second-order derivative of objective), summed over observations that fall in this node.\n\n**count** : int64, number of records in the training data that fall into this node.\n\n#### Returns\n\n**result** – Returns a pandas DataFrame of the parsed model.\n#### Return type\n\npandas DataFrame\n\n",
   "metadata": {
    "cell_id": "0c1dfdad-eedb-4456-899e-5a92149bc374",
    "tags": [],
    "deepnote_cell_type": "markdown"
   }
  },
  {
   "cell_type": "code",
   "metadata": {
    "cell_id": "377f781d-fed6-4fb8-8a13-43f77f9fd83b",
    "tags": [],
    "deepnote_to_be_reexecuted": false,
    "source_hash": "b623e53d",
    "execution_start": 1643533771419,
    "execution_millis": 0,
    "deepnote_cell_type": "code"
   },
   "source": "",
   "execution_count": null,
   "outputs": []
  },
  {
   "cell_type": "markdown",
   "source": "<a style='text-decoration:none;line-height:16px;display:flex;color:#5B5B62;padding:10px;justify-content:end;' href='https://deepnote.com?utm_source=created-in-deepnote-cell&projectId=de072003-a9db-4342-8067-19a4b45feff1' target=\"_blank\">\n<img alt='Created in deepnote.com' style='display:inline;max-height:16px;margin:0px;margin-right:7.5px;' src='data:image/svg+xml;base64,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' > </img>\nCreated in <span style='font-weight:600;margin-left:4px;'>Deepnote</span></a>",
   "metadata": {
    "tags": [],
    "created_in_deepnote_cell": true,
    "deepnote_cell_type": "markdown"
   }
  }
 ],
 "nbformat": 4,
 "nbformat_minor": 2,
 "metadata": {
  "orig_nbformat": 2,
  "deepnote": {
   "is_reactive": false
  },
  "deepnote_notebook_id": "d5e46da3-72fb-4aab-8cb9-e02c6c26d99d",
  "deepnote_execution_queue": []
 }
}