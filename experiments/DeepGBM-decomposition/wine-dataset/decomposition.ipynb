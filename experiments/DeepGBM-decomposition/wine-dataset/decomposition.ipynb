{
 "cells": [
  {
   "cell_type": "code",
   "metadata": {
    "tags": [],
    "cell_id": "88cdc2f4-ab1e-46df-9e24-39d5619b3a2d",
    "deepnote_to_be_reexecuted": false,
    "source_hash": "72850459",
    "execution_start": 1644072334990,
    "execution_millis": 1032,
    "deepnote_cell_type": "code"
   },
   "source": "import argparse, os, logging, random, time\nimport numpy as np\nimport math\nimport time\nimport scipy.sparse\nimport lightgbm as lgb\nimport data_helpers as dh\nimport pickle ",
   "execution_count": null,
   "outputs": []
  },
  {
   "cell_type": "code",
   "metadata": {
    "cell_id": "72133157-5633-4a2f-bc06-7ffa6784dded",
    "tags": [],
    "deepnote_to_be_reexecuted": false,
    "source_hash": "77cfc0a9",
    "execution_start": 1644072336058,
    "execution_millis": 3,
    "deepnote_cell_type": "code"
   },
   "source": "def countSplitNodes(tree):\n    root = tree['tree_structure']\n    def counter(root):\n        if 'split_index' not in root:\n            return 0\n        return 1 + counter(root['left_child']) + counter(root['right_child'])\n    ans = counter(root)\n    logging.info(f'Func: countSplitNodes.\\n return: {ans}.')\n    return ans\n\ndef getItemByTree(tree, item='split_feature'):\n    root = tree.raw['tree_structure']\n    split_nodes = tree.split_nodes\n    res = np.zeros(split_nodes+tree.raw['num_leaves'], dtype=np.int32)\n    if 'value' in item or 'threshold' in item or 'split_gain' in item:\n        res = res.astype(np.float64)\n    def getFeature(root, res):\n        if 'child' in item:\n            if 'split_index' in root:\n                node = root[item]\n                if 'split_index' in node:\n                    res[root['split_index']] = node['split_index']\n                else:\n                    res[root['split_index']] = node['leaf_index'] + split_nodes # need to check\n            else:\n                res[root['leaf_index'] + split_nodes] = -1\n        elif 'value' in item:\n            if 'split_index' in root:\n                res[root['split_index']] = root['internal_'+item]\n            else:\n                res[root['leaf_index'] + split_nodes] = root['leaf_'+item]\n        else:\n            if 'split_index' in root:\n                res[root['split_index']] = root[item]\n            else:\n                res[root['leaf_index'] + split_nodes] = -2\n        if 'left_child' in root:\n            getFeature(root['left_child'], res)\n        if 'right_child' in root:\n            getFeature(root['right_child'], res)\n    getFeature(root, res)\n    logging.info(f'Func: getItemByTree.\\n return: {res}.')\n    return res\n\ndef getTreeSplits(model):\n    featurelist = []\n    threhlist = []\n    trees = []\n    for idx, tree in enumerate(model['tree_info']):\n        trees.append(TreeInterpreter(tree))\n        featurelist.append(trees[-1].feature)\n        threhlist.append(getItemByTree(trees[-1], 'threshold'))\n    logging.info(f'Func: getTreeSplits.\\n return trees: {trees}.\\n return featurelist: {featurelist}.\\n \\\n        return threhlist: {threhlist}.')\n    return (trees, featurelist, threhlist)\n\n\ndef getChildren(trees):\n    listcl = []\n    listcr = []\n    for idx, tree in enumerate(trees):\n        listcl.append(getItemByTree(tree, 'left_child'))\n        listcr.append(getItemByTree(tree, 'right_child'))\n    logging.info(f'Func: getChildren.\\n return listcl: {listcl}.\\n return listcr: {listcr}.')\n    return(listcl, listcr)\n\nclass TreeInterpreter(object):\n    def __init__(self, tree):\n        self.raw = tree\n        self.split_nodes = countSplitNodes(tree)\n        self.node_count = self.split_nodes# + tree['num_leaves']\n        self.value = getItemByTree(self, item='value')\n        self.feature = getItemByTree(self)\n        self.gain = getItemByTree(self, 'split_gain')\n        # self.leaf_value = getLeafValue(tree)\n        logging.info(f'Class: TreeInterpreter.\\n return self.raw: {tree}.\\n \\\n            return self.split_nodes: {self.split_nodes}. \\\n            \\n return self.node_count: {self.node_count}.\\n return self.value: {self.value}. \\\n            \\n return self.feature: {self.feature}.\\n return self.gain: {self.gain}.')\n\nclass ModelInterpreter(object):\n    def __init__(self, model, tree_model='lightgbm'):\n        print(\"Model Interpreting...\")\n        self.tree_model = tree_model\n        model = model.dump_model()\n        self.n_features_ = model['max_feature_idx'] + 1\n        self.trees, self.featurelist, self.threshlist = getTreeSplits(model)\n        self.listcl, self.listcr = getChildren(self.trees)\n        logging.info(f'Class: ModelInterpreter.\\n return self.tree_model: {self.tree_model}.\\n \\\n            return self.n_features_: {self.n_features_}. \\\n            \\n return self.trees: {self.trees}.\\n return self.featurelist: {self.featurelist}. \\\n            \\n return self.threshlist: {self.threshlist}.\\n return self.listcl: {self.listcl}. \\\n            \\n return self.listcr: {self.listcr}.')\n\n    def GetTreeSplits(self):\n        return (self.trees, self.featurelist, self.threshlist)\n\n    def GetChildren(self):\n        return (self.listcl, self.listcr)\n\n    def EqualGroup(self, n_clusters, args):\n        vectors = {}\n        # n_feature = 256\n        for idx,features in enumerate(self.featurelist):\n            vectors[idx] = set(features[np.where(features>0)])\n        keys = random.sample(vectors.keys(), len(vectors))\n        clusterIdx = np.zeros(len(vectors))\n        groups = [[] for i in range(n_clusters)]\n        trees_per_cluster = len(vectors)//n_clusters\n        mod_per_cluster = len(vectors) % n_clusters\n        begin = 0\n        for idx in range(n_clusters):\n            for jdx in range(trees_per_cluster):\n                clusterIdx[keys[begin]] = idx\n                begin += 1\n            if idx < mod_per_cluster:\n                clusterIdx[keys[begin]] = idx\n                begin += 1\n        print([np.where(clusterIdx==i)[0].shape for i in range(n_clusters)])\n        logging.info(f'Class: ModelInterpreter : func EqualGroup.\\n return clusterIdx: {clusterIdx}.')\n        return clusterIdx",
   "execution_count": null,
   "outputs": []
  },
  {
   "cell_type": "code",
   "metadata": {
    "cell_id": "41e4b846-f4eb-4301-ba5b-b655495701b9",
    "tags": [],
    "deepnote_to_be_reexecuted": false,
    "source_hash": "9050186b",
    "execution_start": 1644072336091,
    "execution_millis": 2,
    "deepnote_cell_type": "code"
   },
   "source": "def SubGBDTLeaf_cls(train_x, test_x, gbm, maxleaf=64, num_slices=5, \n                    group_method=\"Random\", feat_per_group=128, tree_model='lightgbm'):\n    \n    MAX=train_x.shape[1]\n    leaf_preds = gbm.predict(train_x, pred_leaf=True).reshape(train_x.shape[0], -1)\n    test_leaf_preds = gbm.predict(test_x, pred_leaf=True).reshape(test_x.shape[0], -1)\n    n_trees = leaf_preds.shape[1]\n    step = int((n_trees + num_slices - 1) // num_slices)\n    step = max(step, 1)\n    leaf_output = np.zeros([n_trees, maxleaf], dtype=np.float32)\n    for tid in range(n_trees):\n        num_leaf = np.max(leaf_preds[:,tid]) + 1\n        for lid in range(num_leaf):\n            leaf_output[tid][lid] = gbm.get_leaf_output(tid, lid)\n    rest_nt = n_trees\n    modelI = ModelInterpreter(gbm, group_method)\n    if group_method == 'Equal' or group_method == 'Random':\n        clusterIdx = modelI.EqualGroup(num_slices, feat_per_group)\n        n_feature = feat_per_group\n    treeI = modelI.trees\n    # rand = (args.group_method == 'Random')\n    Allset = set([i for i in range(MAX)])\n    for n_idx in range(num_slices):\n        tree_indices = np.where(clusterIdx == n_idx)[0]\n        trees = {}\n        tid = 0\n        for jdx in tree_indices:\n            trees[str(tid)] = treeI[jdx].raw\n            tid += 1\n        tree_num = len(tree_indices)\n        layer_num = 1\n        xi = []\n        xi_fea = set()\n        all_hav = {} # set([i for i in range(MAX)])\n        for jdx, tree in enumerate(tree_indices):\n            for kdx, f in enumerate(treeI[tree].feature):\n                if f == -2:\n                    continue\n                if f not in all_hav:\n                    all_hav[f] = 0\n                all_hav[f] += treeI[tree].gain[kdx]\n        used_features = []\n        rest_feature = []\n        all_hav = sorted(all_hav.items(), key=lambda kv: -kv[1])\n        used_features = [item[0] for item in all_hav[:n_feature]]\n        # if rand:\n        # used_features = np.random.choice(MAX, len(used_features), replace = False).tolist()\n        used_features_set = set(used_features)\n        for kdx in range(max(0, n_feature - len(used_features))):\n            used_features.append(MAX)\n        cur_leaf_preds = leaf_preds[:, tree_indices]\n        cur_test_leaf_preds = test_leaf_preds[:, tree_indices]\n        new_train_y = np.zeros(train_x.shape[0])\n        for jdx in tree_indices:\n            new_train_y += np.take(leaf_output[jdx,:].reshape(-1), leaf_preds[:,jdx].reshape(-1))\n        new_train_y = new_train_y.reshape(-1,1).astype(np.float32)\n        yield used_features, new_train_y, cur_leaf_preds, cur_test_leaf_preds, np.mean(np.take(leaf_output, tree_indices,0)), np.mean(leaf_output)\n",
   "execution_count": null,
   "outputs": []
  },
  {
   "cell_type": "code",
   "metadata": {
    "cell_id": "1588831a-f5bc-4a66-80c6-7353af6a97d5",
    "tags": [],
    "deepnote_to_be_reexecuted": false,
    "source_hash": "aa0cf227",
    "execution_start": 1644072368250,
    "execution_millis": 28,
    "deepnote_cell_type": "code"
   },
   "source": "HOME_DIR = os.getcwd()\nDATA_DIR = os.path.join(HOME_DIR, 'data')\nnum_data = dh.load_data('/work/neurotrees/articles code reproduction/DeepGBM/data/data_offline_num')\ntrain_x, train_y, test_x, test_y = num_data",
   "execution_count": null,
   "outputs": [
    {
     "name": "stderr",
     "text": "2022-02-05 14:46:08,257 [INFO] data loaded.\n train_x shape: (3918, 12). train_y shape: (3918, 1).\n test_x shape: (980, 12). test_y shape: (980, 1).\n",
     "output_type": "stream"
    }
   ]
  },
  {
   "cell_type": "code",
   "metadata": {
    "cell_id": "662bed45-be70-4f22-a222-3f158804ed4a",
    "tags": [],
    "deepnote_to_be_reexecuted": true,
    "source_hash": "c8b09696",
    "execution_start": 1643561274190,
    "execution_millis": 6,
    "deepnote_cell_type": "code"
   },
   "source": "from importlib import reload \n\nreload(logging)\nlogger = logging.getLogger()\nlogger.setLevel(logging.INFO)\n# create file handler which logs even debug messages\nfh = logging.FileHandler('iris-2.log')\nfh.setLevel(logging.INFO)\n# create console handler with a higher log level\nch = logging.StreamHandler()\nch.setLevel(logging.ERROR)\n# create formatter and add it to the handlers\nformatter = logging.Formatter('%(asctime)s - %(name)s - %(levelname)s - %(message)s')\nch.setFormatter(formatter)\nfh.setFormatter(formatter)\n# add the handlers to logger\nlogger.addHandler(ch)\nlogger.addHandler(fh)",
   "execution_count": null,
   "outputs": []
  },
  {
   "cell_type": "code",
   "metadata": {
    "cell_id": "256f00b1-2211-4eea-8aa0-15be70c95b04",
    "tags": [],
    "deepnote_to_be_reexecuted": true,
    "source_hash": "12b09b42",
    "execution_start": 1643561274198,
    "execution_millis": 1,
    "deepnote_cell_type": "code"
   },
   "source": "# logging.basicConfig(filename=os.path.join(HOME_DIR,'iris-2.log'), filemode='w', level = logging.INFO, format = '%(asctime)s [INFO] %(message)s')",
   "execution_count": null,
   "outputs": []
  },
  {
   "cell_type": "code",
   "metadata": {
    "cell_id": "f591941a-57a2-4908-b6d6-ab5e2a97b9a8",
    "tags": [],
    "deepnote_to_be_reexecuted": true,
    "source_hash": "3be8fb8b",
    "execution_start": 1643561274247,
    "execution_millis": 1,
    "deepnote_cell_type": "code"
   },
   "source": "with open('gbm_100_wine_model.pickle', 'rb') as f:\n    # Pickle using the highest protocol available.\n    gbm = pickle.load(f)",
   "execution_count": null,
   "outputs": []
  },
  {
   "cell_type": "code",
   "metadata": {
    "cell_id": "3ee380f9-f631-4613-9754-edc95356979b",
    "tags": [],
    "deepnote_to_be_reexecuted": true,
    "source_hash": "e5a02871",
    "execution_start": 1643561274248,
    "execution_millis": 1116,
    "deepnote_cell_type": "code"
   },
   "source": "gbms = SubGBDTLeaf_cls(train_x, test_x, gbm)\nmin_len_features = train_x.shape[1]\nused_features = []\ntree_outputs = []\nleaf_preds = []\ntest_leaf_preds = []\nn_output = train_y.shape[1]\nmax_ntree_per_split = 0\ngroup_average = []\nfor used_feature, new_train_y, leaf_pred, test_leaf_pred, avg, all_avg in gbms:\n    logging.info(f'Func: SubGBDTLeaf_cls\\n return used_feature: {used_feature}. \\\n        \\n return new_train_y: {new_train_y}. \\\n        \\n return leaf_pred: {leaf_pred}. \\\n        \\n return test_leaf_pred: {test_leaf_pred}. \\\n        \\n return avg: {avg}. \\\n        \\n return all_avg: {all_avg}.')\n    \n    used_features.append(used_feature)\n    min_len_features = min(min_len_features, len(used_feature))\n    tree_outputs.append(new_train_y)\n    leaf_preds.append(leaf_pred)\n    test_leaf_preds.append(test_leaf_pred)\n    group_average.append(avg)\n    max_ntree_per_split = max(max_ntree_per_split, leaf_pred.shape[1])\nfor i in range(len(used_features)):\n    used_features[i] = sorted(used_features[i][:min_len_features])\nn_models = len(used_features)\ngroup_average = np.asarray(group_average).reshape(n_models, 1, 1)\nfor i in range(n_models):\n    if leaf_preds[i].shape[1] < max_ntree_per_split:\n        leaf_preds[i] = np.concatenate([leaf_preds[i] + 1, \n                                        np.zeros([leaf_preds[i].shape[0],\n                                                    max_ntree_per_split-leaf_preds[i].shape[1]],\n                                                    dtype=np.int32)], axis=1)\n        test_leaf_preds[i] = np.concatenate([test_leaf_preds[i] + 1, \n                                                np.zeros([test_leaf_preds[i].shape[0],\n                                                        max_ntree_per_split-test_leaf_preds[i].shape[1]],\n                                                        dtype=np.int32)], axis=1)\nleaf_preds = np.concatenate(leaf_preds, axis=1)\ntest_leaf_preds = np.concatenate(test_leaf_preds, axis=1)\n\n",
   "execution_count": null,
   "outputs": [
    {
     "name": "stdout",
     "text": "Model Interpreting...\n[(18,), (18,), (17,), (17,), (17,)]\n",
     "output_type": "stream"
    }
   ]
  },
  {
   "cell_type": "markdown",
   "source": "<a style='text-decoration:none;line-height:16px;display:flex;color:#5B5B62;padding:10px;justify-content:end;' href='https://deepnote.com?utm_source=created-in-deepnote-cell&projectId=de072003-a9db-4342-8067-19a4b45feff1' target=\"_blank\">\n<img alt='Created in deepnote.com' style='display:inline;max-height:16px;margin:0px;margin-right:7.5px;' src='data:image/svg+xml;base64,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' > </img>\nCreated in <span style='font-weight:600;margin-left:4px;'>Deepnote</span></a>",
   "metadata": {
    "tags": [],
    "created_in_deepnote_cell": true,
    "deepnote_cell_type": "markdown"
   }
  }
 ],
 "nbformat": 4,
 "nbformat_minor": 2,
 "metadata": {
  "orig_nbformat": 2,
  "deepnote": {
   "is_reactive": false
  },
  "deepnote_notebook_id": "90afb5e9-3460-4e11-b92e-1437274c3f4f",
  "deepnote_execution_queue": []
 }
}