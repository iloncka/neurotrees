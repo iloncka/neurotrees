{
 "cells": [
  {
   "cell_type": "code",
   "metadata": {
    "tags": [],
    "deepnote_to_be_reexecuted": false,
    "source_hash": "47b5d1f8",
    "execution_start": 1644233631875,
    "execution_millis": 1386,
    "cell_id": "acdf2732-b9bb-460b-bbcc-e7d41474d690",
    "deepnote_cell_type": "code"
   },
   "source": "import wandb",
   "execution_count": 1,
   "outputs": []
  },
  {
   "cell_type": "code",
   "metadata": {
    "tags": [],
    "deepnote_to_be_reexecuted": false,
    "source_hash": "549066d0",
    "execution_start": 1644233633299,
    "execution_millis": 5610064,
    "cell_id": "00001-cf51a3b2-bf5a-4756-baf3-ff3b6fae6720",
    "deepnote_cell_type": "code"
   },
   "source": "import pickle",
   "execution_count": 2,
   "outputs": []
  },
  {
   "cell_type": "code",
   "metadata": {
    "tags": [],
    "deepnote_to_be_reexecuted": false,
    "source_hash": "1e0e52aa",
    "execution_start": 1644233633315,
    "execution_millis": 6021,
    "cell_id": "00002-f9b90a45-2f31-4074-99e7-761755acc7d8",
    "deepnote_cell_type": "code"
   },
   "source": "import argparse, os, logging, random, time\nimport numpy as np\nimport math\nimport time\nimport scipy.sparse\nimport lightgbm as lgb\nimport data_helpers as dh\n\nimport sklearn.metrics\n\nimport torch\nimport torch.nn as nn\nimport torchvision\nimport torchvision.transforms as transforms\n# import tensorboardX as tbx\nfrom sklearn.utils.extmath import softmax\n\nfrom torch.autograd import Variable\nfrom torch.nn.parameter import Parameter\nfrom torch.optim import Optimizer, AdamW, SGD\nimport gc\n\n\nimport pdb\n\ndevice = torch.device('cuda' if torch.cuda.is_available() else 'cpu')\n\nif torch.cuda.is_available():\n    torch.set_default_tensor_type(torch.cuda.FloatTensor)\n    type_prefix = torch.cuda\nelse:\n    type_prefix = torch",
   "execution_count": 3,
   "outputs": []
  },
  {
   "cell_type": "code",
   "metadata": {
    "tags": [],
    "deepnote_to_be_reexecuted": false,
    "source_hash": "47cd33c8",
    "execution_start": 1644233639360,
    "execution_millis": 31,
    "cell_id": "00003-2c148185-b482-4507-801b-4e4f7ef5bb91",
    "deepnote_cell_type": "code"
   },
   "source": "def one_hot(y, numslot, mask=None):\n    y_tensor = y.type(type_prefix.LongTensor).reshape(-1, 1)\n    y_one_hot = torch.zeros(y_tensor.size()[0], numslot, device=device, dtype=torch.float32, requires_grad=False).scatter_(1, y_tensor, 1)\n    if mask is not None:\n        y_one_hot = y_one_hot * mask\n    y_one_hot = y_one_hot.reshape(y.shape[0], -1)\n    return y_one_hot",
   "execution_count": 4,
   "outputs": []
  },
  {
   "cell_type": "code",
   "metadata": {
    "tags": [],
    "deepnote_to_be_reexecuted": false,
    "source_hash": "ff6ce09a",
    "execution_start": 1644233639409,
    "execution_millis": 42,
    "cell_id": "00004-627c5117-4255-480e-abac-291729c35f0c",
    "deepnote_cell_type": "code"
   },
   "source": "class BatchDense(nn.Module):\n    def __init__(self, batch, in_features, out_features, bias_init=None):\n        super(BatchDense, self).__init__()\n        self.batch = batch\n        self.in_features = in_features\n        self.out_features = out_features\n        self.weight = Parameter(torch.Tensor(batch, in_features, out_features))\n        self.bias = Parameter(torch.Tensor(batch, 1, out_features))\n        self.reset_parameters(bias_init)\n    def reset_parameters(self, bias_init=None):\n        stdv = math.sqrt(6.0 /(self.in_features + self.out_features))\n        self.weight.data.uniform_(-stdv, stdv)\n        if bias_init is not None:\n            self.bias.data = torch.from_numpy(bias_init)\n        else:\n            self.bias.data.fill_(0)\n    def forward(self, x):\n        size = x.size()\n        # Todo: avoid the swap axis\n        x = x.view(x.size(0), self.batch, -1)\n        out = x.transpose(0, 1).contiguous()\n        out = torch.baddbmm(self.bias, out, self.weight)\n        out = out.transpose(0, 1).contiguous()\n        out = out.view(x.size(0), -1)\n        return out",
   "execution_count": 5,
   "outputs": []
  },
  {
   "cell_type": "code",
   "metadata": {
    "tags": [],
    "deepnote_to_be_reexecuted": false,
    "source_hash": "733f89a3",
    "execution_start": 1644233639472,
    "execution_millis": 37,
    "cell_id": "00005-3309c1cc-2ef3-4d9e-b3f6-5405ccbaa1b1",
    "deepnote_cell_type": "code"
   },
   "source": "class GBDT2NN(nn.Module):\n    def __init__(self, input_size, used_features,\n                 tree_layers, output_w, output_b, task):\n        super(GBDT2NN, self).__init__()\n        print('Init GBDT2NN')\n        self.task = task\n        self.n_models = len(used_features)\n        self.tree_layers = tree_layers\n        n_feature = len(used_features[0])\n        used_features = np.asarray(used_features).reshape(-1)\n        self.used_features = Variable(torch.from_numpy(used_features).to(device), requires_grad=False)\n        self.relu = nn.ReLU()\n        self.sigmoid = nn.Sigmoid()\n        assert len(tree_layers) > 0\n        self.bdenses = nn.ModuleList()\n        self.bns = nn.ModuleList()\n        self.bdenses.append(BatchDense(self.n_models, n_feature, tree_layers[0]))\n        for i in range(1, len(tree_layers)):\n            self.bdenses.append(BatchDense(self.n_models, tree_layers[i-1], tree_layers[i]))\n        for i in range(len(tree_layers)-1):\n            self.bns.append(nn.BatchNorm1d(tree_layers[i] * self.n_models))\n        self.out_weight = Variable(torch.from_numpy(output_w).to(device), requires_grad=False)\n        self.out_bias = Variable(torch.from_numpy(output_b).to(device), requires_grad=False)\n        print('Init GBDT2NN succeed!')\n        if self.task == 'regression':\n            self.criterion = nn.MSELoss()\n        else:\n            self.criterion = nn.BCELoss()\n\n    def batchmul(self, x, f):\n        out = x.view(x.size(0), self.n_models, -1)\n        out = f(out)\n        out = out.view(x.size(0), -1)\n        return out\n    def lastlayer(self, x):\n        out = torch.index_select(x, dim=1, index=self.used_features)\n        for i in range(len(self.bdenses) - 1):\n            out = self.batchmul(out, self.bdenses[i])\n            out = self.bns[i](out)\n            out = self.relu(out)\n        return out\n    \n    def forward(self, x):\n        out = self.lastlayer(x.float())\n        pred = self.batchmul(out, self.bdenses[-1])\n        out = torch.addmm(self.out_bias, pred, self.out_weight)\n        if self.task != 'regression':\n            return self.sigmoid(out), pred\n        return out, pred\n\n    def emb_loss(self, emb_pred, emb_target):\n        loss_weight = torch.abs(torch.sum(self.out_weight, 1))\n        l2_loss = nn.MSELoss(reduction='none')(emb_pred, emb_target)*loss_weight\n        return torch.mean(torch.sum(l2_loss, dim=1))\n\n    def joint_loss(self, out, target, emb_pred, emb_target, ratio):\n        return (1-ratio) * self.criterion(out, target) + ratio * self.emb_loss(emb_pred, emb_target)\n\n    def true_loss(self, out, target):\n        return self.criterion(out, target)\n",
   "execution_count": 6,
   "outputs": []
  },
  {
   "cell_type": "code",
   "metadata": {
    "tags": [],
    "deepnote_to_be_reexecuted": false,
    "source_hash": "a6d8e4b4",
    "execution_start": 1644233639532,
    "execution_millis": 84,
    "cell_id": "00006-f721ba2b-3ae1-4487-a0fb-2c86b05279fb",
    "deepnote_cell_type": "code"
   },
   "source": "def eval_metrics(task, true, pred):\n    if task == 'binary':\n        logloss = sklearn.metrics.log_loss(true.astype(np.float64), pred.astype(np.float64))\n        auc = sklearn.metrics.roc_auc_score(true, pred)\n        # error = 1-sklearn.metrics.accuracy_score(true,(pred+0.5).astype(np.int32))\n        return (logloss, auc)#, error)\n    else:\n        mseloss = sklearn.metrics.mean_squared_error(true, pred)\n        return mseloss\n\ndef EvalTestset(test_x, test_y, model, test_batch_size, test_x_opt=None):\n    test_len = test_x.shape[0]\n    test_num_batch = math.ceil(test_len / test_batch_size)\n    sum_loss = 0.0\n    y_preds = []\n    model.eval()\n    with torch.no_grad():\n        for jdx in range(test_num_batch):\n            tst_st = jdx * test_batch_size\n            tst_ed = min(test_len, tst_st + test_batch_size)\n            inputs = torch.from_numpy(test_x[tst_st:tst_ed].astype(np.float32)).to(device)\n            if test_x_opt is not None:\n                inputs_opt = torch.from_numpy(test_x_opt[tst_st:tst_ed].astype(np.float32)).to(device)\n                outputs = model(inputs, inputs_opt)\n            else:\n                outputs = model(inputs)\n            targets = torch.from_numpy(test_y[tst_st:tst_ed]).to(device)\n            if isinstance(outputs, tuple):\n                outputs = outputs[0]\n            y_preds.append(outputs)\n            loss_tst = model.true_loss(outputs, targets).item()\n            sum_loss += (tst_ed - tst_st) * loss_tst\n    return sum_loss / test_len, np.concatenate(y_preds, 0)\n\ndef TrainWithLog(loss_dr, loss_init, loss_de, log_freq, test_freq, task, test_batch_size,                \n                train_x, train_y, \n                 train_y_opt, test_x, test_y, model, opt,\n                 epoch, batch_size, n_output, key=\"\",\n                 train_x_opt=None, test_x_opt=None):\n    # trn_writer = tf.summary.FileWriter(summaryPath+plot_title+key+\"_output/train\")\n    # tst_writer = tf.summary.FileWriter(summaryPath+plot_title+key+\"_output/test\")\n    if isinstance(test_x, scipy.sparse.csr_matrix):\n        test_x = test_x.todense()\n    train_len = train_x.shape[0]\n    global_iter = 0\n    trn_batch_size = batch_size\n    train_num_batch = math.ceil(train_len / trn_batch_size)\n    total_iterations = epoch * train_num_batch\n    start_time = time.time()\n    total_time = 0.0\n    min_loss = float(\"Inf\")\n    # min_error = float(\"Inf\")\n    max_auc = 0.0\n    for epoch in range(epoch):\n        shuffled_indices = np.random.permutation(np.arange(train_x.shape[0]))\n        Loss_trn_epoch = 0.0\n        Loss_trn_log = 0.0\n        log_st = 0\n        for local_iter in range(train_num_batch):\n            trn_st = local_iter * trn_batch_size\n            trn_ed = min(train_len, trn_st + trn_batch_size)\n            batch_trn_x = train_x[shuffled_indices[trn_st:trn_ed]]\n            if isinstance(batch_trn_x, scipy.sparse.csr_matrix):\n                batch_trn_x = batch_trn_x.todense()\n            inputs = torch.from_numpy(batch_trn_x.astype(np.float32)).to(device)\n            targets = torch.from_numpy(train_y[shuffled_indices[trn_st:trn_ed],:]).to(device)\n            model.train()\n            if train_x_opt is not None:\n                inputs_opt = torch.from_numpy(train_x_opt[shuffled_indices[trn_st:trn_ed]].astype(np.float32)).to(device)\n                outputs = model(inputs, inputs_opt)\n            else:\n                outputs = model(inputs)\n            opt.zero_grad()\n            if isinstance(outputs, tuple) and train_y_opt is not None:\n                # targets_inner = torch.from_numpy(s_train_y_opt[trn_st:trn_ed,:]).to(device)\n                targets_inner = torch.from_numpy(train_y_opt[shuffled_indices[trn_st:trn_ed],:]).to(device)\n                loss_ratio = loss_init * max(0.3,loss_dr ** (epoch // loss_de))#max(0.5, args.loss_dr ** (epoch // args.loss_de))\n                if len(outputs) == 3:\n                    loss_val = model.joint_loss(outputs[0], targets, outputs[1], targets_inner, loss_ratio, outputs[2])\n                else:\n                    loss_val = model.joint_loss(outputs[0], targets, outputs[1], targets_inner, loss_ratio)\n                loss_val.backward()\n                loss_val = model.true_loss(outputs[0], targets)\n            elif isinstance(outputs, tuple):\n                loss_val = model.true_loss(outputs[0], targets)\n                loss_val.backward()\n            else:\n                loss_val = model.true_loss(outputs, targets)\n                loss_val.backward()\n            opt.step()\n            loss_val = loss_val.item()\n            wandb.log({\"batch loss\":loss_val})\n            global_iter += 1\n            Loss_trn_epoch += (trn_ed - trn_st) * loss_val\n            Loss_trn_log += (trn_ed - trn_st) * loss_val\n            if global_iter % log_freq == 0:\n                print(key+\"Epoch-{:0>3d} {:>5d} Batches, Step {:>6d}, Training Loss: {:>9.6f} (AllAvg {:>9.6f})\"\n                            .format(epoch, local_iter + 1, global_iter, Loss_trn_log/(trn_ed-log_st), Loss_trn_epoch/trn_ed))\n                \n                # trn_summ = tf.Summary()\n                # trn_summ.value.add(tag=args.data+ \"/Train/Loss\", simple_value = Loss_trn_log/(trn_ed-log_st))\n                # trn_writer.add_summary(trn_summ, global_iter)\n                log_st = trn_ed\n                Loss_trn_log = 0.0\n            if global_iter % test_freq == 0 or local_iter == train_num_batch - 1:\n                if model == 'deepgbm' or model == 'd1':\n                    try:\n                        print('Alpha: '+str(model.alpha))\n                        print('Beta: '+str(model.beta))\n                    except:\n                        pass\n                # tst_summ = tf.Summary()\n                torch.cuda.empty_cache()\n                test_loss, pred_y = EvalTestset(test_x, test_y, model, test_batch_size, test_x_opt)\n                wandb.log({\"loss\":test_loss})\n                current_used_time = time.time() - start_time\n                start_time = time.time()\n                wandb.log({\"createdAt\":start_time})\n                total_time += current_used_time\n                remaining_time = (total_iterations - (global_iter) ) * (total_time / (global_iter))\n                if task == 'binary':\n                    metrics = eval_metrics(task, test_y, pred_y)\n                    _, test_auc = metrics\n                    wandb.log({\"test batch auc\":test_auc})\n                    # min_error = min(min_error, test_error)\n                    max_auc = max(max_auc, test_auc)\n                    wandb.log({\"test max auc\":max_auc})\n                    # tst_summ.value.add(tag=args.data+\"/Test/Eval/Error\", simple_value = test_error)\n                    # tst_summ.value.add(tag=args.data+\"/Test/Eval/AUC\", simple_value = test_auc)\n                    # tst_summ.value.add(tag=args.data+\"/Test/Eval/Min_Error\", simple_value = min_error)\n                    # tst_summ.value.add(tag=args.data+\"/Test/Eval/Max_AUC\", simple_value = max_auc)\n                    print(key+\"Evaluate Result:\\nEpoch-{:0>3d} {:>5d} Batches, Step {:>6d}, Testing Loss: {:>9.6f}, Testing AUC: {:8.6f}, Used Time: {:>5.1f}m, Remaining Time: {:5.1f}m\"\n                            .format(epoch, local_iter + 1, global_iter, test_loss, test_auc, total_time/60.0, remaining_time/60.0))\n                else:\n                    print(key+\"Evaluate Result:\\nEpoch-{:0>3d} {:>5d} Batches, Step {:>6d}, Testing Loss: {:>9.6f}, Used Time: {:>5.1f}m, Remaining Time: {:5.1f}m\"\n                            .format(epoch, local_iter + 1, global_iter, test_loss, total_time/60.0, remaining_time/60.0))\n                min_loss = min(min_loss, test_loss)\n                wandb.log({\"test min loss\": min_loss})\n                # tst_summ.value.add(tag=args.data+\"/Test/Loss\", simple_value = test_loss)\n                # tst_summ.value.add(tag=args.data+\"/Test/Min_Loss\", simple_value = min_loss)\n                print(\"-------------------------------------------------------------------------------\")\n                # tst_writer.add_summary(tst_summ, global_iter)\n                # tst_writer.flush()\n        print(\"Best Metric: %s\"%(str(max_auc) if task=='binary' else str(min_loss)))\n        print(\"####################################################################################\")\n    print(\"Final Best Metric: %s\"%(str(max_auc) if task=='binary' else str(min_loss)))\n    return min_loss        \n\ndef GetEmbPred(model, fun, X, test_batch_size):\n    model.eval()\n    tst_len = X.shape[0]\n    test_num_batch = math.ceil(tst_len / test_batch_size)\n    y_preds = []\n    with torch.no_grad():\n        for jdx in range(test_num_batch):\n            tst_st = jdx * test_batch_size\n            tst_ed = min(tst_len, tst_st + test_batch_size)\n            inputs = torch.from_numpy(X[tst_st:tst_ed]).to(device)\n            t_preds = fun(inputs).data.cpu().numpy()\n            y_preds.append(t_preds)\n        y_preds = np.concatenate(y_preds, 0)\n    return y_preds\n",
   "execution_count": 7,
   "outputs": []
  },
  {
   "cell_type": "code",
   "metadata": {
    "tags": [],
    "deepnote_to_be_reexecuted": false,
    "source_hash": "7ddb1838",
    "execution_start": 1644233639636,
    "execution_millis": 15,
    "cell_id": "00007-87b16be5-1e16-43df-97b7-7a1b4f5080b9",
    "deepnote_cell_type": "code"
   },
   "source": "HOME_DIR = os.getcwd()\nDATA_DIR = os.path.join(HOME_DIR, 'data')",
   "execution_count": 8,
   "outputs": []
  },
  {
   "cell_type": "code",
   "metadata": {
    "tags": [],
    "deepnote_to_be_reexecuted": false,
    "source_hash": "15d6e06e",
    "execution_start": 1644233639659,
    "execution_millis": 96,
    "deepnote_output_heights": [
     403
    ],
    "cell_id": "00008-3cb3b6c7-fc90-496c-8034-cab5e8894a1e",
    "deepnote_cell_type": "code"
   },
   "source": "num_data = dh.load_data('/work/neurotrees/articles code reproduction/DeepGBM/data/data_offline_num')",
   "execution_count": 9,
   "outputs": [
    {
     "name": "stderr",
     "text": "2022-02-07 11:33:59,723 [INFO] data loaded.\n train_x shape: (3918, 12). train_y shape: (3918, 1).\n test_x shape: (980, 12). test_y shape: (980, 1).\n",
     "output_type": "stream"
    }
   ]
  },
  {
   "cell_type": "code",
   "metadata": {
    "tags": [],
    "deepnote_to_be_reexecuted": false,
    "source_hash": "14a37530",
    "execution_start": 1644233639797,
    "execution_millis": 1,
    "cell_id": "00009-63f670a4-3438-40b1-87ee-28a571c380a7",
    "deepnote_cell_type": "code"
   },
   "source": "train_x, train_y, test_x, test_y = num_data",
   "execution_count": 10,
   "outputs": []
  },
  {
   "cell_type": "code",
   "metadata": {
    "tags": [],
    "deepnote_to_be_reexecuted": false,
    "source_hash": "df365924",
    "execution_start": 1644233639798,
    "execution_millis": 44,
    "deepnote_output_heights": [
     21
    ],
    "cell_id": "00010-55f60112-4478-4741-98bd-e0a7af409c03",
    "deepnote_cell_type": "code"
   },
   "source": "train_x.shape",
   "execution_count": 11,
   "outputs": [
    {
     "output_type": "execute_result",
     "execution_count": 11,
     "data": {
      "text/plain": "(3918, 12)"
     },
     "metadata": {}
    }
   ]
  },
  {
   "cell_type": "code",
   "metadata": {
    "tags": [],
    "deepnote_to_be_reexecuted": false,
    "source_hash": "4b73da7b",
    "execution_start": 1644233639901,
    "execution_millis": 3,
    "deepnote_output_heights": [
     21
    ],
    "cell_id": "00011-c43caa69-95b6-4780-9e9e-d2f763049f63",
    "deepnote_cell_type": "code"
   },
   "source": "type(train_x)",
   "execution_count": 12,
   "outputs": [
    {
     "output_type": "execute_result",
     "execution_count": 12,
     "data": {
      "text/plain": "numpy.ndarray"
     },
     "metadata": {}
    }
   ]
  },
  {
   "cell_type": "code",
   "metadata": {
    "tags": [],
    "deepnote_to_be_reexecuted": false,
    "source_hash": "cc94646e",
    "execution_start": 1644233639945,
    "execution_millis": 1,
    "cell_id": "00012-ef5137cd-a3c0-498c-99f3-8c0ececee083",
    "deepnote_cell_type": "code"
   },
   "source": "sweep_config = {\n    'method': 'random', #grid, random\n    'metric': {\n      'name': 'loss',\n      'goal': 'minimize'   \n    },\n    'parameters': {\n        'max_epoch': {\n            'values': [100, 150]\n        },\n        'batch_size': {\n            'values': [64]\n        },\n        \n        'lr': {\n            'values': [0.001]\n        },\n        'l2_reg': {\n            'values': [0.001]\n        },\n        'tree_layers': {\n            'values': [[100,100,100,50], [100,100,50],\n            [200,150,50], [50,50,50,50],]\n        },\n        'embsize': {\n            'values': [20, 40, 10]\n        },\n      \n        'optimizer': {\n            'values': ['adamW', 'sgd']\n        },\n    }\n}",
   "execution_count": 13,
   "outputs": []
  },
  {
   "cell_type": "code",
   "metadata": {
    "tags": [],
    "deepnote_to_be_reexecuted": false,
    "source_hash": "1938260",
    "execution_start": 1644233639989,
    "execution_millis": 1,
    "cell_id": "00013-820dfab9-9bbd-47cd-9ec7-8e69bcedb47f",
    "deepnote_cell_type": "code"
   },
   "source": "\n# sweep1\n# {lr = 1e-3,\n# l2_reg = 1e-6,\n# max_epoch = 100,\n# batch_size = 512,\n# test_batch_size = 100,} \n\n# sweep2\n# tree_layers = [100,100,100,50],\n# embsize = 20,\n    ",
   "execution_count": 14,
   "outputs": []
  },
  {
   "cell_type": "code",
   "metadata": {
    "tags": [],
    "deepnote_to_be_reexecuted": false,
    "source_hash": "ec1dc211",
    "execution_start": 1644233639990,
    "execution_millis": 1452,
    "cell_id": "00014-0508f0ac-658d-4458-a949-46139a5fa3c3",
    "deepnote_cell_type": "code"
   },
   "source": "sweep_id = wandb.sweep(sweep_config, project=\"deepgbm-wandb\")",
   "execution_count": 15,
   "outputs": [
    {
     "name": "stderr",
     "text": "2022-02-07 11:34:00,653 [INFO] Failed to detect the name of this notebook, you can set it manually with the WANDB_NOTEBOOK_NAME environment variable to enable code saving.\nCreate sweep with ID: mxxueamg\nSweep URL: https://wandb.ai/iloncka/deepgbm-wandb/sweeps/mxxueamg\n",
     "output_type": "stream"
    }
   ]
  },
  {
   "cell_type": "code",
   "metadata": {
    "tags": [],
    "deepnote_to_be_reexecuted": false,
    "source_hash": "22f94691",
    "execution_start": 1644233641449,
    "cell_id": "00015-f0dd2e3f-ebff-473b-a1e8-c1f8e0326f42",
    "execution_millis": 20,
    "deepnote_cell_type": "code"
   },
   "source": "PATH_TO_PICKLE = '/work/neurotrees/experiments/DeepGBM-decomposition/wine-dataset'",
   "execution_count": 16,
   "outputs": []
  },
  {
   "cell_type": "code",
   "metadata": {
    "tags": [],
    "deepnote_to_be_reexecuted": false,
    "source_hash": "81c47f1b",
    "execution_start": 1644233641484,
    "execution_millis": 57,
    "cell_id": "00016-1ffc02db-f7c7-435d-91a1-443c764675eb",
    "deepnote_cell_type": "code"
   },
   "source": "def train():\n    with open(os.path.join(PATH_TO_PICKLE,'n_models_wine_100.pickle'), 'rb') as f:\n        # Pickle using the highest protocol available.\n        n_models = pickle.load(f)\n    \n    with open(os.path.join(PATH_TO_PICKLE,'max_ntree_per_split_wine_100.pickle'), 'rb') as f:\n        # Pickle using the highest protocol available.\n        max_ntree_per_split = pickle.load(f)\n        \n    with open(os.path.join(PATH_TO_PICKLE,'group_average_wine_100.pickle'), 'rb') as f:\n        # Pickle using the highest protocol available.\n        group_average = pickle.load(f)\n\n    with open(os.path.join(PATH_TO_PICKLE,'leaf_preds_wine_100.pickle'), 'rb') as f:\n        # Pickle using the highest protocol available.\n        leaf_preds = pickle.load(f)\n        \n    with open(os.path.join(PATH_TO_PICKLE,'test_leaf_preds_wine_100.pickle'), 'rb') as f:\n        # Pickle using the highest protocol available.\n        test_leaf_preds = pickle.load(f)\n        \n    with open(os.path.join(PATH_TO_PICKLE,'tree_outputs_wine_100.pickle'), 'rb') as f:\n        # Pickle using the highest protocol available.\n        tree_outputs = pickle.load(f) \n\n    with open(os.path.join(PATH_TO_PICKLE,'used_features_wine_100.pickle'), 'rb') as f:\n        # Pickle using the highest protocol available.\n        used_features = pickle.load(f)\n\n    with open(os.path.join(PATH_TO_PICKLE,'train_embs_wine_100.pickle'), 'rb') as f:\n        # Pickle using the highest protocol available.\n        train_embs = pickle.load(f)\n    \n    with open(os.path.join(PATH_TO_PICKLE,'output_w_wine_100.pickle'), 'rb') as f:\n        # Pickle using the highest protocol available.\n        output_w = pickle.load(f)\n        \n    with open(os.path.join(PATH_TO_PICKLE,'output_b_wine_100.pickle'), 'rb') as f:\n        # Pickle using the highest protocol available.\n        output_b = pickle.load(f)\n\n\n    config_defaults = dict(      \n    loss_init = 1.0,\n    loss_dr = 0.7,\n    loss_de = 2,\n    log_freq = 500,\n    test_freq = 300,\n    key = \"\",\n    seeds = [1], #2,3,4,5 \n    tree_layers = [100,100,100,50],\n    lr = 1e-3,\n    l2_reg = 1e-6,\n    max_epoch = 100,\n    batch_size = 512,\n    test_batch_size = 100, \n    embsize = 20,\n    task = \"regression\",\n    n_output = train_y.shape[1]\n    )\n\n\n    # Initialize a new wandb run\n    wandb.init(config=config_defaults)\n        \n    # Config is a variable that holds and saves hyperparameters and inputs\n    config = wandb.config\n    \n \n    # tree_layers = [int(x) for x in tree_layers.split(',')]\n    config.tree_layers.append(config.embsize)\n\n    concate_train_x = np.concatenate([train_x, np.zeros((train_x.shape[0],1), dtype=np.float32)], axis=-1)\n    concate_test_x = np.concatenate([test_x, np.zeros((test_x.shape[0],1), dtype=np.float32)], axis=-1)\n    tree_outputs = train_embs\n    for seed in config.seeds:\n        np.random.seed(seed)\n        torch.cuda.manual_seed_all(seed)\n        gbdt2nn_model = GBDT2NN(concate_train_x.shape[1], \n                                np.asarray(used_features,dtype=np.int64),\n                                config.tree_layers,\n                                output_w, output_b, config.task).to(device)\n        if config.optimizer=='sgd':\n            opt = SGD(gbdt2nn_model.parameters(),lr=config.lr, momentum=0.9)\n        elif config.optimizer=='adamW':\n            opt = AdamW(gbdt2nn_model.parameters(),lr=config.lr, weight_decay=config.l2_reg, amsgrad=False)\n       \n\n        TrainWithLog(config.loss_dr, config.loss_init, config.loss_de, config.log_freq, \n                    config.test_freq, config.task, config.test_batch_size,\n                    concate_train_x, train_y, tree_outputs,\n                    concate_test_x, test_y, gbdt2nn_model, opt,\n                    config.max_epoch, config.batch_size, config.n_output, config.key)\n        _,pred_y = EvalTestset(concate_test_x, test_y, gbdt2nn_model, config.test_batch_size)\n        metric = eval_metrics(config.task, test_y, pred_y)\n        print('Final metrics: %s'%str(metric))",
   "execution_count": 17,
   "outputs": []
  },
  {
   "cell_type": "code",
   "metadata": {
    "tags": [],
    "deepnote_to_be_reexecuted": false,
    "source_hash": "a7c22e3f",
    "execution_start": 1644233641557,
    "deepnote_output_heights": [
     null,
     40,
     null,
     40,
     81,
     null,
     40,
     null,
     40,
     81,
     null,
     40,
     null,
     40,
     580,
     null,
     40,
     null,
     40,
     408,
     null,
     40,
     null,
     40,
     408,
     null,
     40,
     null,
     40,
     408,
     null,
     40,
     null,
     40,
     408,
     null,
     40,
     null,
     40,
     408,
     null,
     40,
     null,
     40,
     408,
     null,
     40,
     null,
     40,
     408,
     null,
     40,
     null,
     40,
     408,
     null,
     40,
     null,
     40,
     408,
     null,
     40,
     null,
     40,
     408,
     null,
     40,
     null,
     40,
     408,
     null,
     40,
     null,
     40,
     408,
     null,
     40,
     null,
     40,
     408,
     null,
     40,
     null,
     40,
     408,
     null,
     40,
     null,
     40,
     408,
     null,
     40,
     null,
     40,
     408,
     null,
     40,
     null,
     40,
     408,
     null,
     40,
     null,
     40,
     408,
     null,
     40,
     null,
     40,
     408,
     null,
     40,
     null,
     40,
     408,
     null,
     40,
     null,
     40,
     408,
     null,
     40,
     null,
     40,
     408,
     null,
     40,
     null,
     40,
     408,
     null,
     40,
     null,
     40,
     408,
     null,
     40,
     null,
     40,
     408,
     null,
     40,
     null,
     40,
     408,
     null,
     40,
     null,
     40,
     408,
     null,
     40,
     null,
     40,
     408,
     null,
     40,
     null,
     40,
     408,
     null,
     40,
     null,
     40,
     408,
     null,
     40,
     null,
     40,
     408,
     null,
     40,
     null,
     40,
     408,
     null,
     40,
     null,
     40,
     408,
     null,
     40,
     null,
     40,
     408,
     null,
     40,
     null,
     40,
     408,
     null,
     40,
     null,
     40,
     408,
     null,
     40,
     null,
     40,
     408,
     null,
     40,
     null,
     40,
     408,
     null,
     40,
     null,
     40,
     408,
     null,
     40,
     null,
     40,
     408,
     null,
     40,
     null,
     40,
     408,
     null,
     40
    ],
    "execution_millis": 49207,
    "cell_id": "00017-7b9e3022-9ea5-4333-b2fd-3c8691275eb8",
    "deepnote_cell_type": "code"
   },
   "source": "wandb.agent(sweep_id, train)",
   "execution_count": 18,
   "outputs": [
    {
     "name": "stderr",
     "text": "2022-02-07 11:34:01,570 [INFO] Starting sweep agent: entity=None, project=None, count=None\n\u001b[34m\u001b[1mwandb\u001b[0m: Agent Starting Run: q85qmdz9 with config:\n\u001b[34m\u001b[1mwandb\u001b[0m: \tbatch_size: 64\n\u001b[34m\u001b[1mwandb\u001b[0m: \tembsize: 40\n\u001b[34m\u001b[1mwandb\u001b[0m: \tl2_reg: 0.001\n\u001b[34m\u001b[1mwandb\u001b[0m: \tlr: 0.001\n\u001b[34m\u001b[1mwandb\u001b[0m: \tmax_epoch: 150\n\u001b[34m\u001b[1mwandb\u001b[0m: \toptimizer: sgd\n\u001b[34m\u001b[1mwandb\u001b[0m: \ttree_layers: [100, 100, 100, 50]\n2022-02-07 11:34:02,076 [INFO] Failed to detect the name of this notebook, you can set it manually with the WANDB_NOTEBOOK_NAME environment variable to enable code saving.\n\u001b[34m\u001b[1mwandb\u001b[0m: Currently logged in as: \u001b[33miloncka\u001b[0m (use `wandb login --relogin` to force relogin)\n",
     "output_type": "stream"
    },
    {
     "data": {
      "text/plain": "<IPython.core.display.HTML object>",
      "text/html": "\n                    Syncing run <strong><a href=\"https://wandb.ai/iloncka/deepgbm-wandb/runs/q85qmdz9\" target=\"_blank\">dark-sweep-1</a></strong> to <a href=\"https://wandb.ai/iloncka/deepgbm-wandb\" target=\"_blank\">Weights & Biases</a> (<a href=\"https://docs.wandb.com/integrations/jupyter.html\" target=\"_blank\">docs</a>).<br/>\nSweep page: <a href=\"https://wandb.ai/iloncka/deepgbm-wandb/sweeps/mxxueamg\" target=\"_blank\">https://wandb.ai/iloncka/deepgbm-wandb/sweeps/mxxueamg</a><br/>\n\n                "
     },
     "metadata": {},
     "output_type": "display_data"
    },
    {
     "name": "stdout",
     "text": "Init GBDT2NN\nInit GBDT2NN succeed!\n",
     "output_type": "stream"
    },
    {
     "data": {
      "text/plain": "<IPython.core.display.HTML object>",
      "text/html": "<br/>Waiting for W&B process to finish, PID 264... <strong style=\"color:red\">(failed 1).</strong> Press ctrl-c to abort syncing."
     },
     "metadata": {},
     "output_type": "display_data"
    },
    {
     "data": {
      "text/plain": "<IPython.core.display.HTML object>",
      "text/html": "<style>\n    table.wandb td:nth-child(1) { padding: 0 10px; text-align: right }\n    .wandb-row { display: flex; flex-direction: row; flex-wrap: wrap; width: 100% }\n    .wandb-col { display: flex; flex-direction: column; flex-basis: 100%; flex: 1; padding: 10px; }\n    </style>\n<div class=\"wandb-row\"><div class=\"wandb-col\">\n</div><div class=\"wandb-col\">\n</div></div>\nSynced 5 W&B file(s), 0 media file(s), 0 artifact file(s) and 0 other file(s)\n<br/>Synced <strong style=\"color:#cdcd00\">dark-sweep-1</strong>: <a href=\"https://wandb.ai/iloncka/deepgbm-wandb/runs/q85qmdz9\" target=\"_blank\">https://wandb.ai/iloncka/deepgbm-wandb/runs/q85qmdz9</a><br/>\nFind logs at: <code>./wandb/run-20220207_113402-q85qmdz9/logs</code><br/>\n"
     },
     "metadata": {},
     "output_type": "display_data"
    },
    {
     "name": "stderr",
     "text": "Run q85qmdz9 errored: RuntimeError('mat1 and mat2 shapes cannot be multiplied (64x200 and 100x1)')\n\u001b[34m\u001b[1mwandb\u001b[0m: \u001b[32m\u001b[41mERROR\u001b[0m Run q85qmdz9 errored: RuntimeError('mat1 and mat2 shapes cannot be multiplied (64x200 and 100x1)')\n\u001b[34m\u001b[1mwandb\u001b[0m: Agent Starting Run: wk4iw4cc with config:\n\u001b[34m\u001b[1mwandb\u001b[0m: \tbatch_size: 64\n\u001b[34m\u001b[1mwandb\u001b[0m: \tembsize: 10\n\u001b[34m\u001b[1mwandb\u001b[0m: \tl2_reg: 0.001\n\u001b[34m\u001b[1mwandb\u001b[0m: \tlr: 0.001\n\u001b[34m\u001b[1mwandb\u001b[0m: \tmax_epoch: 150\n\u001b[34m\u001b[1mwandb\u001b[0m: \toptimizer: sgd\n\u001b[34m\u001b[1mwandb\u001b[0m: \ttree_layers: [100, 100, 50]\nFailed to detect the name of this notebook, you can set it manually with the WANDB_NOTEBOOK_NAME environment variable to enable code saving.\n",
     "output_type": "stream"
    },
    {
     "data": {
      "text/plain": "<IPython.core.display.HTML object>",
      "text/html": "\n                    Syncing run <strong><a href=\"https://wandb.ai/iloncka/deepgbm-wandb/runs/wk4iw4cc\" target=\"_blank\">fine-sweep-2</a></strong> to <a href=\"https://wandb.ai/iloncka/deepgbm-wandb\" target=\"_blank\">Weights & Biases</a> (<a href=\"https://docs.wandb.com/integrations/jupyter.html\" target=\"_blank\">docs</a>).<br/>\nSweep page: <a href=\"https://wandb.ai/iloncka/deepgbm-wandb/sweeps/mxxueamg\" target=\"_blank\">https://wandb.ai/iloncka/deepgbm-wandb/sweeps/mxxueamg</a><br/>\n\n                "
     },
     "metadata": {},
     "output_type": "display_data"
    },
    {
     "name": "stdout",
     "text": "Init GBDT2NN\nInit GBDT2NN succeed!\n",
     "output_type": "stream"
    },
    {
     "data": {
      "text/plain": "<IPython.core.display.HTML object>",
      "text/html": "<br/>Waiting for W&B process to finish, PID 302... <strong style=\"color:red\">(failed 1).</strong> Press ctrl-c to abort syncing."
     },
     "metadata": {},
     "output_type": "display_data"
    },
    {
     "data": {
      "text/plain": "<IPython.core.display.HTML object>",
      "text/html": "<style>\n    table.wandb td:nth-child(1) { padding: 0 10px; text-align: right }\n    .wandb-row { display: flex; flex-direction: row; flex-wrap: wrap; width: 100% }\n    .wandb-col { display: flex; flex-direction: column; flex-basis: 100%; flex: 1; padding: 10px; }\n    </style>\n<div class=\"wandb-row\"><div class=\"wandb-col\">\n</div><div class=\"wandb-col\">\n</div></div>\nSynced 5 W&B file(s), 0 media file(s), 0 artifact file(s) and 0 other file(s)\n<br/>Synced <strong style=\"color:#cdcd00\">fine-sweep-2</strong>: <a href=\"https://wandb.ai/iloncka/deepgbm-wandb/runs/wk4iw4cc\" target=\"_blank\">https://wandb.ai/iloncka/deepgbm-wandb/runs/wk4iw4cc</a><br/>\nFind logs at: <code>./wandb/run-20220207_113422-wk4iw4cc/logs</code><br/>\n"
     },
     "metadata": {},
     "output_type": "display_data"
    },
    {
     "name": "stderr",
     "text": "Run wk4iw4cc errored: RuntimeError('mat1 and mat2 shapes cannot be multiplied (64x50 and 100x1)')\n\u001b[34m\u001b[1mwandb\u001b[0m: \u001b[32m\u001b[41mERROR\u001b[0m Run wk4iw4cc errored: RuntimeError('mat1 and mat2 shapes cannot be multiplied (64x50 and 100x1)')\n\u001b[34m\u001b[1mwandb\u001b[0m: Agent Starting Run: fileq15e with config:\n\u001b[34m\u001b[1mwandb\u001b[0m: \tbatch_size: 64\n\u001b[34m\u001b[1mwandb\u001b[0m: \tembsize: 40\n\u001b[34m\u001b[1mwandb\u001b[0m: \tl2_reg: 0.001\n\u001b[34m\u001b[1mwandb\u001b[0m: \tlr: 0.001\n\u001b[34m\u001b[1mwandb\u001b[0m: \tmax_epoch: 150\n\u001b[34m\u001b[1mwandb\u001b[0m: \toptimizer: adamW\n\u001b[34m\u001b[1mwandb\u001b[0m: \ttree_layers: [100, 100, 50]\nFailed to detect the name of this notebook, you can set it manually with the WANDB_NOTEBOOK_NAME environment variable to enable code saving.\n",
     "output_type": "stream"
    },
    {
     "data": {
      "text/plain": "<IPython.core.display.HTML object>",
      "text/html": "\n                    Syncing run <strong><a href=\"https://wandb.ai/iloncka/deepgbm-wandb/runs/fileq15e\" target=\"_blank\">firm-sweep-3</a></strong> to <a href=\"https://wandb.ai/iloncka/deepgbm-wandb\" target=\"_blank\">Weights & Biases</a> (<a href=\"https://docs.wandb.com/integrations/jupyter.html\" target=\"_blank\">docs</a>).<br/>\nSweep page: <a href=\"https://wandb.ai/iloncka/deepgbm-wandb/sweeps/mxxueamg\" target=\"_blank\">https://wandb.ai/iloncka/deepgbm-wandb/sweeps/mxxueamg</a><br/>\n\n                "
     },
     "metadata": {},
     "output_type": "display_data"
    },
    {
     "name": "stdout",
     "text": "Init GBDT2NN\nInit GBDT2NN succeed!\n",
     "output_type": "stream"
    },
    {
     "data": {
      "text/plain": "<IPython.core.display.HTML object>",
      "text/html": "<br/>Waiting for W&B process to finish, PID 340... <strong style=\"color:red\">(failed 1).</strong> Press ctrl-c to abort syncing."
     },
     "metadata": {},
     "output_type": "display_data"
    },
    {
     "data": {
      "text/plain": "<IPython.core.display.HTML object>",
      "text/html": "<style>\n    table.wandb td:nth-child(1) { padding: 0 10px; text-align: right }\n    .wandb-row { display: flex; flex-direction: row; flex-wrap: wrap; width: 100% }\n    .wandb-col { display: flex; flex-direction: column; flex-basis: 100%; flex: 1; padding: 10px; }\n    </style>\n<div class=\"wandb-row\"><div class=\"wandb-col\">\n</div><div class=\"wandb-col\">\n</div></div>\nSynced 5 W&B file(s), 0 media file(s), 0 artifact file(s) and 0 other file(s)\n<br/>Synced <strong style=\"color:#cdcd00\">firm-sweep-3</strong>: <a href=\"https://wandb.ai/iloncka/deepgbm-wandb/runs/fileq15e\" target=\"_blank\">https://wandb.ai/iloncka/deepgbm-wandb/runs/fileq15e</a><br/>\nFind logs at: <code>./wandb/run-20220207_113438-fileq15e/logs</code><br/>\n"
     },
     "metadata": {},
     "output_type": "display_data"
    },
    {
     "name": "stderr",
     "text": "Run fileq15e errored: RuntimeError('mat1 and mat2 shapes cannot be multiplied (64x200 and 100x1)')\n\u001b[34m\u001b[1mwandb\u001b[0m: \u001b[32m\u001b[41mERROR\u001b[0m Run fileq15e errored: RuntimeError('mat1 and mat2 shapes cannot be multiplied (64x200 and 100x1)')\nDetected 3 failed runs in the first 60 seconds, killing sweep.\n\u001b[34m\u001b[1mwandb\u001b[0m: \u001b[32m\u001b[41mERROR\u001b[0m Detected 3 failed runs in the first 60 seconds, killing sweep.\n\u001b[34m\u001b[1mwandb\u001b[0m: To disable this check set WANDB_AGENT_DISABLE_FLAPPING=true\n",
     "output_type": "stream"
    }
   ]
  },
  {
   "cell_type": "markdown",
   "source": "<a style='text-decoration:none;line-height:16px;display:flex;color:#5B5B62;padding:10px;justify-content:end;' href='https://deepnote.com?utm_source=created-in-deepnote-cell&projectId=de072003-a9db-4342-8067-19a4b45feff1' target=\"_blank\">\n<img alt='Created in deepnote.com' style='display:inline;max-height:16px;margin:0px;margin-right:7.5px;' src='data:image/svg+xml;base64,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' > </img>\nCreated in <span style='font-weight:600;margin-left:4px;'>Deepnote</span></a>",
   "metadata": {
    "tags": [],
    "created_in_deepnote_cell": true,
    "deepnote_cell_type": "markdown"
   }
  }
 ],
 "nbformat": 4,
 "nbformat_minor": 2,
 "metadata": {
  "orig_nbformat": 2,
  "deepnote": {
   "is_reactive": false
  },
  "deepnote_notebook_id": "adfdf4b3-98ea-434a-9191-7fc4ecd2c861",
  "deepnote_execution_queue": []
 }
}